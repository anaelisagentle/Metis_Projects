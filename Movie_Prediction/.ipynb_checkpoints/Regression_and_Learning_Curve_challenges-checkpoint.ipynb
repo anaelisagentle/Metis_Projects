{
 "cells": [
  {
   "cell_type": "markdown",
   "metadata": {},
   "source": [
    "## Linear Regression and Learning Curve challenges"
   ]
  },
  {
   "cell_type": "markdown",
   "metadata": {},
   "source": [
    "Challenge 1\n",
    "\n",
    "Generate (fake) data that is linearly related to log(x).\n",
    "\n",
    "You are making this model up. It is of the form B0 + B1*log(x) + epsilon. (You are making up the parameters.)\n",
    "\n",
    "Simulate some data from this model.\n",
    "\n",
    "Then fit two models to it:\n",
    "\n",
    "quadratic (second degree polynomial)\n",
    "logarithmic (log(x))\n",
    "(The second one should fit really well, since it has the same form as the underlying model!)"
   ]
  },
  {
   "cell_type": "code",
   "execution_count": 2,
   "metadata": {
    "collapsed": false
   },
   "outputs": [],
   "source": [
    "import random\n",
    "import numpy as np\n",
    "import matplotlib.pyplot as plt\n",
    "import statsmodels.api as sm\n",
    "import patsy\n",
    "import pandas as pd\n",
    "from statsmodels.formula.api import ols\n",
    "from sklearn.linear_model import LinearRegression\n",
    "from sklearn.cross_validation import cross_val_score\n",
    "from sklearn.cross_validation import train_test_split\n",
    "from sklearn import metrics\n",
    "import sklearn\n",
    "\n",
    "%matplotlib inline"
   ]
  },
  {
   "cell_type": "code",
   "execution_count": 28,
   "metadata": {
    "collapsed": false
   },
   "outputs": [],
   "source": [
    "#generate x and y lists\n",
    "x = random.sample(xrange(1,1000), 999)\n",
    "B1 = 3\n",
    "B0 = 1\n",
    "log_x = np.log(x)\n",
    "epsilon = np.array([random.uniform(0,0.5) for i in range(999)])\n",
    "y = (B0 + B1*log_x + epsilon)\n",
    "#y = np.log(x)"
   ]
  },
  {
   "cell_type": "code",
   "execution_count": null,
   "metadata": {
    "collapsed": false
   },
   "outputs": [],
   "source": []
  },
  {
   "cell_type": "code",
   "execution_count": 29,
   "metadata": {
    "collapsed": false
   },
   "outputs": [
    {
     "data": {
      "text/plain": [
       "<matplotlib.collections.PathCollection at 0x11b683a10>"
      ]
     },
     "execution_count": 29,
     "metadata": {},
     "output_type": "execute_result"
    },
    {
     "data": {
      "image/png": "[encoded data removed]",
      "text/plain": [
       "<matplotlib.figure.Figure at 0x11b64e090>"
      ]
     },
     "metadata": {},
     "output_type": "display_data"
    }
   ],
   "source": [
    "#plot x and y\n",
    "plt.scatter(x,y)"
   ]
  },
  {
   "cell_type": "code",
   "execution_count": 32,
   "metadata": {
    "collapsed": false
   },
   "outputs": [
    {
     "data": {
      "text/html": [
       "<table class=\"simpletable\">\n",
       "<caption>OLS Regression Results</caption>\n",
       "<tr>\n",
       "  <th>Dep. Variable:</th>            <td>y</td>        <th>  R-squared:         </th> <td>   0.793</td>\n",
       "</tr>\n",
       "<tr>\n",
       "  <th>Model:</th>                   <td>OLS</td>       <th>  Adj. R-squared:    </th> <td>   0.793</td>\n",
       "</tr>\n",
       "<tr>\n",
       "  <th>Method:</th>             <td>Least Squares</td>  <th>  F-statistic:       </th> <td>   3824.</td>\n",
       "</tr>\n",
       "<tr>\n",
       "  <th>Date:</th>             <td>Tue, 07 Feb 2017</td> <th>  Prob (F-statistic):</th>  <td>  0.00</td> \n",
       "</tr>\n",
       "<tr>\n",
       "  <th>Time:</th>                 <td>12:47:05</td>     <th>  Log-Likelihood:    </th> <td> -1705.9</td>\n",
       "</tr>\n",
       "<tr>\n",
       "  <th>No. Observations:</th>      <td>   999</td>      <th>  AIC:               </th> <td>   3414.</td>\n",
       "</tr>\n",
       "<tr>\n",
       "  <th>Df Residuals:</th>          <td>   998</td>      <th>  BIC:               </th> <td>   3419.</td>\n",
       "</tr>\n",
       "<tr>\n",
       "  <th>Df Model:</th>              <td>     1</td>      <th>                     </th>     <td> </td>   \n",
       "</tr>\n",
       "<tr>\n",
       "  <th>Covariance Type:</th>      <td>nonrobust</td>    <th>                     </th>     <td> </td>   \n",
       "</tr>\n",
       "</table>\n",
       "<table class=\"simpletable\">\n",
       "<tr>\n",
       "   <td></td>     <th>coef</th>     <th>std err</th>      <th>t</th>      <th>P>|t|</th> <th>[95.0% Conf. Int.]</th> \n",
       "</tr>\n",
       "<tr>\n",
       "  <th>x1</th> <td>    0.0045</td> <td> 7.32e-05</td> <td>   61.838</td> <td> 0.000</td> <td>    0.004     0.005</td>\n",
       "</tr>\n",
       "</table>\n",
       "<table class=\"simpletable\">\n",
       "<tr>\n",
       "  <th>Omnibus:</th>       <td>1286.949</td> <th>  Durbin-Watson:     </th> <td>   1.462</td>\n",
       "</tr>\n",
       "<tr>\n",
       "  <th>Prob(Omnibus):</th>  <td> 0.000</td>  <th>  Jarque-Bera (JB):  </th> <td>  69.704</td>\n",
       "</tr>\n",
       "<tr>\n",
       "  <th>Skew:</th>           <td>-0.147</td>  <th>  Prob(JB):          </th> <td>7.31e-16</td>\n",
       "</tr>\n",
       "<tr>\n",
       "  <th>Kurtosis:</th>       <td> 1.740</td>  <th>  Cond. No.          </th> <td>    1.00</td>\n",
       "</tr>\n",
       "</table>"
      ],
      "text/plain": [
       "<class 'statsmodels.iolib.summary.Summary'>\n",
       "\"\"\"\n",
       "                            OLS Regression Results                            \n",
       "==============================================================================\n",
       "Dep. Variable:                      y   R-squared:                       0.793\n",
       "Model:                            OLS   Adj. R-squared:                  0.793\n",
       "Method:                 Least Squares   F-statistic:                     3824.\n",
       "Date:                Tue, 07 Feb 2017   Prob (F-statistic):               0.00\n",
       "Time:                        12:47:05   Log-Likelihood:                -1705.9\n",
       "No. Observations:                 999   AIC:                             3414.\n",
       "Df Residuals:                     998   BIC:                             3419.\n",
       "Df Model:                           1                                         \n",
       "Covariance Type:            nonrobust                                         \n",
       "==============================================================================\n",
       "                 coef    std err          t      P>|t|      [95.0% Conf. Int.]\n",
       "------------------------------------------------------------------------------\n",
       "x1             0.0045   7.32e-05     61.838      0.000         0.004     0.005\n",
       "==============================================================================\n",
       "Omnibus:                     1286.949   Durbin-Watson:                   1.462\n",
       "Prob(Omnibus):                  0.000   Jarque-Bera (JB):               69.704\n",
       "Skew:                          -0.147   Prob(JB):                     7.31e-16\n",
       "Kurtosis:                       1.740   Cond. No.                         1.00\n",
       "==============================================================================\n",
       "\n",
       "Warnings:\n",
       "[1] Standard Errors assume that the covariance matrix of the errors is correctly specified.\n",
       "\"\"\""
      ]
     },
     "execution_count": 32,
     "metadata": {},
     "output_type": "execute_result"
    }
   ],
   "source": [
    "#call model a log transformation of y\n",
    "\n",
    "\n",
    "lsm = sm.OLS(np.log(y),x)\n",
    "fit = lsm.fit()\n",
    "fit.summary()\n",
    "\n"
   ]
  },
  {
   "cell_type": "code",
   "execution_count": 33,
   "metadata": {
    "collapsed": false
   },
   "outputs": [
    {
     "data": {
      "text/plain": [
       "<matplotlib.collections.PathCollection at 0x11b8c6ed0>"
      ]
     },
     "execution_count": 33,
     "metadata": {},
     "output_type": "execute_result"
    },
    {
     "data": {
      "image/png": "[encoded data removed]",
      "text/plain": [
       "<matplotlib.figure.Figure at 0x11b5febd0>"
      ]
     },
     "metadata": {},
     "output_type": "display_data"
    }
   ],
   "source": [
    "plt.scatter(x,np.log(y))"
   ]
  },
  {
   "cell_type": "code",
   "execution_count": 19,
   "metadata": {
    "collapsed": false
   },
   "outputs": [
    {
     "data": {
      "text/plain": [
       "<matplotlib.collections.PathCollection at 0x11b524d50>"
      ]
     },
     "execution_count": 19,
     "metadata": {},
     "output_type": "execute_result"
    },
    {
     "data": {
      "image/png": "[encoded data removed]",
      "text/plain": [
       "<matplotlib.figure.Figure at 0x11b1f9450>"
      ]
     },
     "metadata": {},
     "output_type": "display_data"
    }
   ],
   "source": [
    "plt.scatter(np.power(x,2),y)"
   ]
  },
  {
   "cell_type": "code",
   "execution_count": 20,
   "metadata": {
    "collapsed": false
   },
   "outputs": [
    {
     "data": {
      "text/html": [
       "<table class=\"simpletable\">\n",
       "<caption>OLS Regression Results</caption>\n",
       "<tr>\n",
       "  <th>Dep. Variable:</th>            <td>y</td>        <th>  R-squared:         </th> <td>   0.662</td> \n",
       "</tr>\n",
       "<tr>\n",
       "  <th>Model:</th>                   <td>OLS</td>       <th>  Adj. R-squared:    </th> <td>   0.662</td> \n",
       "</tr>\n",
       "<tr>\n",
       "  <th>Method:</th>             <td>Least Squares</td>  <th>  F-statistic:       </th> <td>   1958.</td> \n",
       "</tr>\n",
       "<tr>\n",
       "  <th>Date:</th>             <td>Tue, 07 Feb 2017</td> <th>  Prob (F-statistic):</th> <td>1.53e-237</td>\n",
       "</tr>\n",
       "<tr>\n",
       "  <th>Time:</th>                 <td>11:55:30</td>     <th>  Log-Likelihood:    </th> <td> -3828.0</td> \n",
       "</tr>\n",
       "<tr>\n",
       "  <th>No. Observations:</th>      <td>   999</td>      <th>  AIC:               </th> <td>   7658.</td> \n",
       "</tr>\n",
       "<tr>\n",
       "  <th>Df Residuals:</th>          <td>   998</td>      <th>  BIC:               </th> <td>   7663.</td> \n",
       "</tr>\n",
       "<tr>\n",
       "  <th>Df Model:</th>              <td>     1</td>      <th>                     </th>     <td> </td>    \n",
       "</tr>\n",
       "<tr>\n",
       "  <th>Covariance Type:</th>      <td>nonrobust</td>    <th>                     </th>     <td> </td>    \n",
       "</tr>\n",
       "</table>\n",
       "<table class=\"simpletable\">\n",
       "<tr>\n",
       "   <td></td>     <th>coef</th>     <th>std err</th>      <th>t</th>      <th>P>|t|</th> <th>[95.0% Conf. Int.]</th> \n",
       "</tr>\n",
       "<tr>\n",
       "  <th>x1</th> <td>   3.5e-05</td> <td> 7.91e-07</td> <td>   44.248</td> <td> 0.000</td> <td> 3.34e-05  3.65e-05</td>\n",
       "</tr>\n",
       "</table>\n",
       "<table class=\"simpletable\">\n",
       "<tr>\n",
       "  <th>Omnibus:</th>       <td>116.230</td> <th>  Durbin-Watson:     </th> <td>   1.163</td>\n",
       "</tr>\n",
       "<tr>\n",
       "  <th>Prob(Omnibus):</th> <td> 0.000</td>  <th>  Jarque-Bera (JB):  </th> <td> 132.155</td>\n",
       "</tr>\n",
       "<tr>\n",
       "  <th>Skew:</th>          <td>-0.849</td>  <th>  Prob(JB):          </th> <td>2.01e-29</td>\n",
       "</tr>\n",
       "<tr>\n",
       "  <th>Kurtosis:</th>      <td> 2.460</td>  <th>  Cond. No.          </th> <td>    1.00</td>\n",
       "</tr>\n",
       "</table>"
      ],
      "text/plain": [
       "<class 'statsmodels.iolib.summary.Summary'>\n",
       "\"\"\"\n",
       "                            OLS Regression Results                            \n",
       "==============================================================================\n",
       "Dep. Variable:                      y   R-squared:                       0.662\n",
       "Model:                            OLS   Adj. R-squared:                  0.662\n",
       "Method:                 Least Squares   F-statistic:                     1958.\n",
       "Date:                Tue, 07 Feb 2017   Prob (F-statistic):          1.53e-237\n",
       "Time:                        11:55:30   Log-Likelihood:                -3828.0\n",
       "No. Observations:                 999   AIC:                             7658.\n",
       "Df Residuals:                     998   BIC:                             7663.\n",
       "Df Model:                           1                                         \n",
       "Covariance Type:            nonrobust                                         \n",
       "==============================================================================\n",
       "                 coef    std err          t      P>|t|      [95.0% Conf. Int.]\n",
       "------------------------------------------------------------------------------\n",
       "x1            3.5e-05   7.91e-07     44.248      0.000      3.34e-05  3.65e-05\n",
       "==============================================================================\n",
       "Omnibus:                      116.230   Durbin-Watson:                   1.163\n",
       "Prob(Omnibus):                  0.000   Jarque-Bera (JB):              132.155\n",
       "Skew:                          -0.849   Prob(JB):                     2.01e-29\n",
       "Kurtosis:                       2.460   Cond. No.                         1.00\n",
       "==============================================================================\n",
       "\n",
       "Warnings:\n",
       "[1] Standard Errors assume that the covariance matrix of the errors is correctly specified.\n",
       "\"\"\""
      ]
     },
     "execution_count": 20,
     "metadata": {},
     "output_type": "execute_result"
    }
   ],
   "source": [
    "lsm = sm.OLS(y,np.power(x,2))\n",
    "fit = lsm.fit()\n",
    "fit.summary()"
   ]
  },
  {
   "cell_type": "code",
   "execution_count": 94,
   "metadata": {
    "collapsed": false
   },
   "outputs": [],
   "source": [
    "df = pd.DataFrame({\"Y\": y, \"x\":x,\"x_squared\":  X_squared})"
   ]
  },
  {
   "cell_type": "code",
   "execution_count": 104,
   "metadata": {
    "collapsed": false
   },
   "outputs": [
    {
     "data": {
      "text/html": [
       "<table class=\"simpletable\">\n",
       "<caption>OLS Regression Results</caption>\n",
       "<tr>\n",
       "  <th>Dep. Variable:</th>            <td>Y</td>        <th>  R-squared:         </th> <td>   0.969</td> \n",
       "</tr>\n",
       "<tr>\n",
       "  <th>Model:</th>                   <td>OLS</td>       <th>  Adj. R-squared:    </th> <td>   0.969</td> \n",
       "</tr>\n",
       "<tr>\n",
       "  <th>Method:</th>             <td>Least Squares</td>  <th>  F-statistic:       </th> <td>1.027e+04</td>\n",
       "</tr>\n",
       "<tr>\n",
       "  <th>Date:</th>             <td>Mon, 06 Feb 2017</td> <th>  Prob (F-statistic):</th>  <td>  0.00</td>  \n",
       "</tr>\n",
       "<tr>\n",
       "  <th>Time:</th>                 <td>16:14:51</td>     <th>  Log-Likelihood:    </th> <td> -1476.0</td> \n",
       "</tr>\n",
       "<tr>\n",
       "  <th>No. Observations:</th>      <td>   999</td>      <th>  AIC:               </th> <td>   2958.</td> \n",
       "</tr>\n",
       "<tr>\n",
       "  <th>Df Residuals:</th>          <td>   996</td>      <th>  BIC:               </th> <td>   2973.</td> \n",
       "</tr>\n",
       "<tr>\n",
       "  <th>Df Model:</th>              <td>     3</td>      <th>                     </th>     <td> </td>    \n",
       "</tr>\n",
       "<tr>\n",
       "  <th>Covariance Type:</th>      <td>nonrobust</td>    <th>                     </th>     <td> </td>    \n",
       "</tr>\n",
       "</table>\n",
       "<table class=\"simpletable\">\n",
       "<tr>\n",
       "      <td></td>         <th>coef</th>     <th>std err</th>      <th>t</th>      <th>P>|t|</th> <th>[95.0% Conf. Int.]</th> \n",
       "</tr>\n",
       "<tr>\n",
       "  <th>epsilon</th>   <td>    3.8131</td> <td>    0.201</td> <td>   18.936</td> <td> 0.000</td> <td>    3.418     4.208</td>\n",
       "</tr>\n",
       "<tr>\n",
       "  <th>x</th>         <td>    0.0186</td> <td>    0.000</td> <td>   61.325</td> <td> 0.000</td> <td>    0.018     0.019</td>\n",
       "</tr>\n",
       "<tr>\n",
       "  <th>x_squared</th> <td>-1.389e-05</td> <td> 3.41e-07</td> <td>  -40.773</td> <td> 0.000</td> <td>-1.46e-05 -1.32e-05</td>\n",
       "</tr>\n",
       "</table>\n",
       "<table class=\"simpletable\">\n",
       "<tr>\n",
       "  <th>Omnibus:</th>       <td>38.120</td> <th>  Durbin-Watson:     </th> <td>   1.922</td>\n",
       "</tr>\n",
       "<tr>\n",
       "  <th>Prob(Omnibus):</th> <td> 0.000</td> <th>  Jarque-Bera (JB):  </th> <td>  30.570</td>\n",
       "</tr>\n",
       "<tr>\n",
       "  <th>Skew:</th>          <td> 0.345</td> <th>  Prob(JB):          </th> <td>2.30e-07</td>\n",
       "</tr>\n",
       "<tr>\n",
       "  <th>Kurtosis:</th>      <td> 2.492</td> <th>  Cond. No.          </th> <td>2.68e+06</td>\n",
       "</tr>\n",
       "</table>"
      ],
      "text/plain": [
       "<class 'statsmodels.iolib.summary.Summary'>\n",
       "\"\"\"\n",
       "                            OLS Regression Results                            \n",
       "==============================================================================\n",
       "Dep. Variable:                      Y   R-squared:                       0.969\n",
       "Model:                            OLS   Adj. R-squared:                  0.969\n",
       "Method:                 Least Squares   F-statistic:                 1.027e+04\n",
       "Date:                Mon, 06 Feb 2017   Prob (F-statistic):               0.00\n",
       "Time:                        16:14:51   Log-Likelihood:                -1476.0\n",
       "No. Observations:                 999   AIC:                             2958.\n",
       "Df Residuals:                     996   BIC:                             2973.\n",
       "Df Model:                           3                                         \n",
       "Covariance Type:            nonrobust                                         \n",
       "==============================================================================\n",
       "                 coef    std err          t      P>|t|      [95.0% Conf. Int.]\n",
       "------------------------------------------------------------------------------\n",
       "epsilon        3.8131      0.201     18.936      0.000         3.418     4.208\n",
       "x              0.0186      0.000     61.325      0.000         0.018     0.019\n",
       "x_squared  -1.389e-05   3.41e-07    -40.773      0.000     -1.46e-05 -1.32e-05\n",
       "==============================================================================\n",
       "Omnibus:                       38.120   Durbin-Watson:                   1.922\n",
       "Prob(Omnibus):                  0.000   Jarque-Bera (JB):               30.570\n",
       "Skew:                           0.345   Prob(JB):                     2.30e-07\n",
       "Kurtosis:                       2.492   Cond. No.                     2.68e+06\n",
       "==============================================================================\n",
       "\n",
       "Warnings:\n",
       "[1] Standard Errors assume that the covariance matrix of the errors is correctly specified.\n",
       "[2] The condition number is large, 2.68e+06. This might indicate that there are\n",
       "strong multicollinearity or other numerical problems.\n",
       "\"\"\""
      ]
     },
     "execution_count": 104,
     "metadata": {},
     "output_type": "execute_result"
    }
   ],
   "source": [
    "#possibly wrong\n",
    "\n",
    "#call model a quadratic transformation of y\n",
    "\"\"\"X_squared = list([i**2 for i in x])\n",
    "\n",
    "df = pd.DataFrame({\"Y\": y, \"x\":x,\"x_squared\":  X_squared, \"epsilon\": epsilon})\n",
    "y = df.Y\n",
    "x = df.drop(['Y'],1)\n",
    "\n",
    "\n",
    "lsm = sm.OLS(y,x)\n",
    "fit = lsm.fit()\n",
    "fit.summary()\"\"\"\n",
    "\n"
   ]
  },
  {
   "cell_type": "markdown",
   "metadata": {},
   "source": [
    "Challenge 2\n",
    "\n",
    "Generate (fake) data from a model of the form B0 + B1*x + B2*x^2 + epsilon. (You are making up the parameters.)\n",
    "\n",
    "Split the data into a training and test set.\n",
    "\n",
    "Fit a model to your training set. Calculate mean squared error on your training set. Then calculate it on your test set.\n",
    "\n",
    "(You could use sklearn.metrics.mean_squared_error.)"
   ]
  },
  {
   "cell_type": "code",
   "execution_count": 37,
   "metadata": {
    "collapsed": false
   },
   "outputs": [],
   "source": [
    "x = np.array(x)\n",
    "x2 = random.sample(xrange(1,1000), 999)\n",
    "x2_squared = np.power(x2, 2)\n",
    "B2 = 4\n",
    "B1 = 3\n",
    "B0 = 1\n",
    "log_x = np.log(x)\n",
    "epsilon = np.array([random.uniform(0,0.5) for i in range(999)])\n",
    "y = (B0 + B1*x + B2*x2_squared + epsilon)"
   ]
  },
  {
   "cell_type": "code",
   "execution_count": 40,
   "metadata": {
    "collapsed": false
   },
   "outputs": [],
   "source": [
    "df = pd.DataFrame({\"x\" : x, \"y\" : y, \"x2_squared\" : x2_squared})"
   ]
  },
  {
   "cell_type": "code",
   "execution_count": 41,
   "metadata": {
    "collapsed": false
   },
   "outputs": [
    {
     "data": {
      "text/html": [
       "<div>\n",
       "<table border=\"1\" class=\"dataframe\">\n",
       "  <thead>\n",
       "    <tr style=\"text-align: right;\">\n",
       "      <th></th>\n",
       "      <th>x</th>\n",
       "      <th>x2_squared</th>\n",
       "      <th>y</th>\n",
       "    </tr>\n",
       "  </thead>\n",
       "  <tbody>\n",
       "    <tr>\n",
       "      <th>0</th>\n",
       "      <td>222</td>\n",
       "      <td>238144</td>\n",
       "      <td>9.532432e+05</td>\n",
       "    </tr>\n",
       "    <tr>\n",
       "      <th>1</th>\n",
       "      <td>898</td>\n",
       "      <td>574564</td>\n",
       "      <td>2.300951e+06</td>\n",
       "    </tr>\n",
       "    <tr>\n",
       "      <th>2</th>\n",
       "      <td>373</td>\n",
       "      <td>338724</td>\n",
       "      <td>1.356016e+06</td>\n",
       "    </tr>\n",
       "    <tr>\n",
       "      <th>3</th>\n",
       "      <td>327</td>\n",
       "      <td>34969</td>\n",
       "      <td>1.408583e+05</td>\n",
       "    </tr>\n",
       "    <tr>\n",
       "      <th>4</th>\n",
       "      <td>91</td>\n",
       "      <td>76176</td>\n",
       "      <td>3.049782e+05</td>\n",
       "    </tr>\n",
       "  </tbody>\n",
       "</table>\n",
       "</div>"
      ],
      "text/plain": [
       "     x  x2_squared             y\n",
       "0  222      238144  9.532432e+05\n",
       "1  898      574564  2.300951e+06\n",
       "2  373      338724  1.356016e+06\n",
       "3  327       34969  1.408583e+05\n",
       "4   91       76176  3.049782e+05"
      ]
     },
     "execution_count": 41,
     "metadata": {},
     "output_type": "execute_result"
    }
   ],
   "source": [
    "df.head()"
   ]
  },
  {
   "cell_type": "code",
   "execution_count": 45,
   "metadata": {
    "collapsed": false
   },
   "outputs": [
    {
     "data": {
      "text/plain": [
       "0.99999999999998823"
      ]
     },
     "execution_count": 45,
     "metadata": {},
     "output_type": "execute_result"
    }
   ],
   "source": [
    "y = df[[\"y\"]]\n",
    "x = df[[\"x\", \"x2_squared\"]]\n",
    "x_train, x_test, y_train, y_test = train_test_split(x, y, test_size = 0.2)\n",
    "reg = LinearRegression()\n",
    "reg.fit(x_train, y_train)\n",
    "reg.score(x_test, y_test)"
   ]
  },
  {
   "cell_type": "code",
   "execution_count": null,
   "metadata": {
    "collapsed": false
   },
   "outputs": [],
   "source": []
  },
  {
   "cell_type": "code",
   "execution_count": 59,
   "metadata": {
    "collapsed": false
   },
   "outputs": [],
   "source": [
    "y_est = reg.predict(x_test)\n",
    "y_est = np.array(y_est)\n",
    "y_train = np.array(y_train)\n",
    "\n",
    "mse = metrics.mean_squared_error(y_train, y_est)"
   ]
  },
  {
   "cell_type": "markdown",
   "metadata": {},
   "source": [
    "challenge 3\n",
    "\n",
    "For the data from two (above), try polynomial fits from 0th (just constant) to 7th order (highest term x^7). Over the x axis of model degree (8 points), plot:\n",
    "\n",
    "training error\n",
    "test error\n",
    "R squared\n",
    "AIC"
   ]
  },
  {
   "cell_type": "code",
   "execution_count": 77,
   "metadata": {
    "collapsed": true
   },
   "outputs": [],
   "source": [
    "x = np.array(x)\n",
    "x2 = random.sample(xrange(1,1000), 999)\n",
    "x2_squared = np.power(x2, 2)\n",
    "B2 = 4\n",
    "B1 = 3\n",
    "B0 = 1\n",
    "log_x = np.log(x)\n",
    "epsilon = np.array([random.uniform(0,0.5) for i in range(999)])\n",
    "y = (B0 + B1*x + B2*x2_squared + epsilon)"
   ]
  },
  {
   "cell_type": "code",
   "execution_count": 78,
   "metadata": {
    "collapsed": false
   },
   "outputs": [],
   "source": [
    "x_2 = np.power(x, 2)\n",
    "x_3 = np.power(x, 3)\n",
    "x_4 = np.power(x, 4)\n",
    "x_5 = np.power(x, 5)\n",
    "x_6 = np.power(x, 6)\n",
    "x_7 = np.power(x, 7)\n",
    "\n"
   ]
  },
  {
   "cell_type": "code",
   "execution_count": 79,
   "metadata": {
    "collapsed": false
   },
   "outputs": [],
   "source": [
    "df = pd.DataFrame({\"y\" : y, \"x\" : x,\"x_2\":  x2, \"x_3\": x_3, \n",
    "                   \"x_4\": x_4, \"x_5\": x_5, \"x_6\" : x_6, \n",
    "                   \"x_7\" : x_7})\n",
    "\n",
    "features_list = list(df)"
   ]
  },
  {
   "cell_type": "code",
   "execution_count": 80,
   "metadata": {
    "collapsed": false
   },
   "outputs": [
    {
     "data": {
      "text/html": [
       "<div>\n",
       "<table border=\"1\" class=\"dataframe\">\n",
       "  <thead>\n",
       "    <tr style=\"text-align: right;\">\n",
       "      <th></th>\n",
       "      <th>x</th>\n",
       "      <th>x_2</th>\n",
       "      <th>x_3</th>\n",
       "      <th>x_4</th>\n",
       "      <th>x_5</th>\n",
       "      <th>x_6</th>\n",
       "      <th>x_7</th>\n",
       "      <th>y</th>\n",
       "    </tr>\n",
       "  </thead>\n",
       "  <tbody>\n",
       "    <tr>\n",
       "      <th>0</th>\n",
       "      <td>332</td>\n",
       "      <td>380</td>\n",
       "      <td>36594368</td>\n",
       "      <td>12149330176</td>\n",
       "      <td>4033577618432</td>\n",
       "      <td>1339147769319424</td>\n",
       "      <td>444597059414048768</td>\n",
       "      <td>5.785972e+05</td>\n",
       "    </tr>\n",
       "    <tr>\n",
       "      <th>1</th>\n",
       "      <td>914</td>\n",
       "      <td>72</td>\n",
       "      <td>763551944</td>\n",
       "      <td>697886476816</td>\n",
       "      <td>637868239809824</td>\n",
       "      <td>583011571186179072</td>\n",
       "      <td>-9223372036854775808</td>\n",
       "      <td>2.347942e+04</td>\n",
       "    </tr>\n",
       "    <tr>\n",
       "      <th>2</th>\n",
       "      <td>36</td>\n",
       "      <td>495</td>\n",
       "      <td>46656</td>\n",
       "      <td>1679616</td>\n",
       "      <td>60466176</td>\n",
       "      <td>2176782336</td>\n",
       "      <td>78364164096</td>\n",
       "      <td>9.802092e+05</td>\n",
       "    </tr>\n",
       "    <tr>\n",
       "      <th>3</th>\n",
       "      <td>324</td>\n",
       "      <td>861</td>\n",
       "      <td>34012224</td>\n",
       "      <td>11019960576</td>\n",
       "      <td>3570467226624</td>\n",
       "      <td>1156831381426176</td>\n",
       "      <td>374813367582081024</td>\n",
       "      <td>2.966257e+06</td>\n",
       "    </tr>\n",
       "    <tr>\n",
       "      <th>4</th>\n",
       "      <td>314</td>\n",
       "      <td>875</td>\n",
       "      <td>30959144</td>\n",
       "      <td>9721171216</td>\n",
       "      <td>3052447761824</td>\n",
       "      <td>958468597212736</td>\n",
       "      <td>300959139524799104</td>\n",
       "      <td>3.063443e+06</td>\n",
       "    </tr>\n",
       "  </tbody>\n",
       "</table>\n",
       "</div>"
      ],
      "text/plain": [
       "     x  x_2        x_3           x_4              x_5                 x_6  \\\n",
       "0  332  380   36594368   12149330176    4033577618432    1339147769319424   \n",
       "1  914   72  763551944  697886476816  637868239809824  583011571186179072   \n",
       "2   36  495      46656       1679616         60466176          2176782336   \n",
       "3  324  861   34012224   11019960576    3570467226624    1156831381426176   \n",
       "4  314  875   30959144    9721171216    3052447761824     958468597212736   \n",
       "\n",
       "                   x_7             y  \n",
       "0   444597059414048768  5.785972e+05  \n",
       "1 -9223372036854775808  2.347942e+04  \n",
       "2          78364164096  9.802092e+05  \n",
       "3   374813367582081024  2.966257e+06  \n",
       "4   300959139524799104  3.063443e+06  "
      ]
     },
     "execution_count": 80,
     "metadata": {},
     "output_type": "execute_result"
    }
   ],
   "source": [
    "df.head()"
   ]
  },
  {
   "cell_type": "code",
   "execution_count": 91,
   "metadata": {
    "collapsed": false
   },
   "outputs": [
    {
     "name": "stdout",
     "output_type": "stream",
     "text": [
      "[1459339835926.8435, 89109764574.41568, 88162979709.035049, 89337074537.761169, 86746833771.225998, 90663840164.409256, 1410913824557.5076]\n",
      "[-0.0026803154001115992, 0.93506450023111043, 0.94124822828329535, 0.93346188900716076, 0.93351572664539662, 0.92549324683535761, -0.0064496873127479759]\n",
      "[1254851377964.9683, 86126244109.511444, 89977877829.107864, 85510327302.343674, 95686098175.634155, 109578200175.60614, 1439563085413.334]\n"
     ]
    },
    {
     "data": {
      "image/png": "[encoded data removed]",
      "text/plain": [
       "<matplotlib.figure.Figure at 0x11bcac6d0>"
      ]
     },
     "metadata": {},
     "output_type": "display_data"
    }
   ],
   "source": [
    "r2_list = []\n",
    "mse_train_list = []\n",
    "mse_test_list = []\n",
    "x_list = []\n",
    "\n",
    "for i in range(0,7):\n",
    "    x_list.append(i)\n",
    "    features = features_list[:i+1]\n",
    "    \n",
    "    x = df[features]\n",
    "    y = df[[\"y\"]]\n",
    "    \n",
    "    #train test\n",
    "    x_train, x_test, y_train, y_test = train_test_split(x, y, test_size = 0.2)\n",
    "    lr = LinearRegression()\n",
    "    lr.fit(x_train, y_train)\n",
    "    r2 = lr.score(x_test, y_test)\n",
    "    r2_list.append(r2)\n",
    "    \n",
    "    y_est_train = lr.predict(x_train)\n",
    "    y_est_test = lr.predict(x_test)\n",
    "    \n",
    "    mse_train = metrics.mean_squared_error(y_train, y_est_train)\n",
    "    mse_test = metrics.mean_squared_error(y_test, y_est_test)\n",
    "    \n",
    "    mse_train_list.append(mse_train)\n",
    "    mse_test_list.append(mse_test)\n",
    "    \n",
    "\n",
    "plt.plot(x_list, mse_train_list)\n",
    "plt.plot(x_list, r2_list)\n",
    "plt.plot(x_list, mse_test_list)\n",
    "\n",
    "print mse_train_list\n",
    "print r2_list\n",
    "print mse_test_list"
   ]
  },
  {
   "cell_type": "markdown",
   "metadata": {
    "collapsed": true
   },
   "source": [
    "Challenge 4\n",
    "\n",
    "For the data from two (above), fit a model to only the first 5 of your data points (m=5). Then to first 10 (m=10). Then to first 15 (m=15). In this manner, keep fitting until you fit your entire training set. For each step, calculate the training error and the test error. Plot both (in the same plot) over m. This is called a learning curve."
   ]
  },
  {
   "cell_type": "code",
   "execution_count": 96,
   "metadata": {
    "collapsed": true
   },
   "outputs": [],
   "source": [
    "X_all = df[[\"x\",\"x_2\",\"x_3\",\"x_4\",\"x_5\",\"x_6\",\"x_7\"]]"
   ]
  },
  {
   "cell_type": "code",
   "execution_count": 98,
   "metadata": {
    "collapsed": false
   },
   "outputs": [],
   "source": [
    "m = []\n",
    "\n",
    "for i in range (1,200):\n",
    "    m.append(i*5)\n",
    "\n",
    "\n",
    "\n",
    "y= df.y"
   ]
  },
  {
   "cell_type": "code",
   "execution_count": 101,
   "metadata": {
    "collapsed": false
   },
   "outputs": [
    {
     "data": {
      "text/plain": [
       "[<matplotlib.lines.Line2D at 0x11c41ab50>]"
      ]
     },
     "execution_count": 101,
     "metadata": {},
     "output_type": "execute_result"
    },
    {
     "data": {
      "image/png": "[encoded data removed]",
      "text/plain": [
       "<matplotlib.figure.Figure at 0x11c490850>"
      ]
     },
     "metadata": {},
     "output_type": "display_data"
    }
   ],
   "source": [
    "r2_l = []\n",
    "mse_train_l = []\n",
    "mse_test_l = []\n",
    "x_list = []\n",
    "\n",
    "for i in m:\n",
    "    x_list.append(i)\n",
    "    x_data = X_all.iloc[:i]\n",
    "    y_data = y.iloc[:i]\n",
    "    \n",
    "        \n",
    "    #train test\n",
    "    x_train, x_test, y_train, y_test = train_test_split(x_data, y_data, test_size = 0.2)\n",
    "    lr = LinearRegression()\n",
    "    lr.fit(x_train, y_train)\n",
    "    r2 = lr.score(x_test, y_test)\n",
    "    r2_l.append(r2)\n",
    "    \n",
    "    y_est_train = lr.predict(x_train)\n",
    "    y_est_test = lr.predict(x_test)\n",
    "    \n",
    "    mse_train = metrics.mean_squared_error(y_train, y_est_train)\n",
    "    mse_test = metrics.mean_squared_error(y_test, y_est_test)\n",
    "    \n",
    "    mse_train_l.append(mse_train)\n",
    "    mse_test_l.append(mse_test)\n",
    "    \n",
    "\n",
    "plt.plot(x_list, mse_train_l)\n",
    "plt.plot(x_list, r2_l)\n",
    "plt.plot(x_list, mse_test_l)\n"
   ]
  },
  {
   "cell_type": "code",
   "execution_count": null,
   "metadata": {
    "collapsed": true
   },
   "outputs": [],
   "source": []
  }
 ],
 "metadata": {
  "anaconda-cloud": {},
  "kernelspec": {
   "display_name": "Python [Root]",
   "language": "python",
   "name": "Python [Root]"
  },
  "language_info": {
   "codemirror_mode": {
    "name": "ipython",
    "version": 2
   },
   "file_extension": ".py",
   "mimetype": "text/x-python",
   "name": "python",
   "nbconvert_exporter": "python",
   "pygments_lexer": "ipython2",
   "version": "2.7.12"
  }
 },
 "nbformat": 4,
 "nbformat_minor": 0
}
