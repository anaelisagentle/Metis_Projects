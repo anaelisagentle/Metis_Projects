{
 "cells": [
  {
   "cell_type": "markdown",
   "metadata": {},
   "source": [
    "## Linear Regression Challenge\n"
   ]
  },
  {
   "cell_type": "code",
   "execution_count": 55,
   "metadata": {
    "collapsed": true
   },
   "outputs": [],
   "source": [
    "import pandas as pd\n",
    "import numpy as np\n",
    "import matplotlib.pyplot as plt\n",
    "import seaborn as sns\n",
    "import statsmodels.api as sm\n",
    "import patsy\n",
    "\n",
    "from statsmodels.formula.api import ols\n",
    "from IPython.display import Image\n",
    "from sklearn import datasets, linear_model\n",
    "from sklearn.linear_model import LinearRegression\n",
    "from sklearn.cross_validation import cross_val_score\n",
    "from sklearn.cross_validation import train_test_split\n",
    "\n",
    "%matplotlib inline\n"
   ]
  },
  {
   "cell_type": "code",
   "execution_count": 2,
   "metadata": {
    "collapsed": true
   },
   "outputs": [],
   "source": [
    "df = pd.read_csv('2013_movies.csv')"
   ]
  },
  {
   "cell_type": "code",
   "execution_count": 3,
   "metadata": {
    "collapsed": false
   },
   "outputs": [],
   "source": [
    "df.ReleaseDate = pd.to_datetime(df['ReleaseDate'])"
   ]
  },
  {
   "cell_type": "code",
   "execution_count": 4,
   "metadata": {
    "collapsed": false
   },
   "outputs": [],
   "source": [
    "#create list of columns from data frame\n",
    "l = df[[\"Budget\",\"DomesticTotalGross\",\"Runtime\"]]"
   ]
  },
  {
   "cell_type": "code",
   "execution_count": 5,
   "metadata": {
    "collapsed": true
   },
   "outputs": [],
   "source": [
    "#loop that replaces null values with mean value for column\n",
    "for c in l:\n",
    "    df.loc[df[c].isnull(), c] = df[c].mean()"
   ]
  },
  {
   "cell_type": "markdown",
   "metadata": {},
   "source": [
    "Build a linear model that uses only a constant term (a column of ones) to predict a continuous outcome (like domestic total gross). How can you interpret the results of this model? What does it predict? Make a plot of predictions against actual outcome. Make a histogram of residuals. How are the residuals distributed?"
   ]
  },
  {
   "cell_type": "code",
   "execution_count": 6,
   "metadata": {
    "collapsed": false
   },
   "outputs": [],
   "source": [
    "#create a column of ones\n",
    "df = df.assign(one=[1 for i in xrange(len(df))])"
   ]
  },
  {
   "cell_type": "markdown",
   "metadata": {},
   "source": [
    "Use column of ones to predict domestic total gross"
   ]
  },
  {
   "cell_type": "code",
   "execution_count": 8,
   "metadata": {
    "collapsed": false
   },
   "outputs": [
    {
     "data": {
      "text/html": [
       "<table class=\"simpletable\">\n",
       "<caption>OLS Regression Results</caption>\n",
       "<tr>\n",
       "  <th>Dep. Variable:</th>    <td>DomesticTotalGross</td> <th>  R-squared:         </th> <td>   0.000</td>\n",
       "</tr>\n",
       "<tr>\n",
       "  <th>Model:</th>                    <td>OLS</td>        <th>  Adj. R-squared:    </th> <td>   0.000</td>\n",
       "</tr>\n",
       "<tr>\n",
       "  <th>Method:</th>              <td>Least Squares</td>   <th>  F-statistic:       </th> <td>     inf</td>\n",
       "</tr>\n",
       "<tr>\n",
       "  <th>Date:</th>              <td>Sun, 05 Feb 2017</td>  <th>  Prob (F-statistic):</th>  <td>   nan</td> \n",
       "</tr>\n",
       "<tr>\n",
       "  <th>Time:</th>                  <td>13:44:03</td>      <th>  Log-Likelihood:    </th> <td> -1970.0</td>\n",
       "</tr>\n",
       "<tr>\n",
       "  <th>No. Observations:</th>       <td>   100</td>       <th>  AIC:               </th> <td>   3942.</td>\n",
       "</tr>\n",
       "<tr>\n",
       "  <th>Df Residuals:</th>           <td>    99</td>       <th>  BIC:               </th> <td>   3945.</td>\n",
       "</tr>\n",
       "<tr>\n",
       "  <th>Df Model:</th>               <td>     0</td>       <th>                     </th>     <td> </td>   \n",
       "</tr>\n",
       "<tr>\n",
       "  <th>Covariance Type:</th>       <td>nonrobust</td>     <th>                     </th>     <td> </td>   \n",
       "</tr>\n",
       "</table>\n",
       "<table class=\"simpletable\">\n",
       "<tr>\n",
       "      <td></td>         <th>coef</th>     <th>std err</th>      <th>t</th>      <th>P>|t|</th> <th>[95.0% Conf. Int.]</th> \n",
       "</tr>\n",
       "<tr>\n",
       "  <th>Intercept</th> <td>  5.03e+07</td> <td> 4.37e+06</td> <td>   11.510</td> <td> 0.000</td> <td> 4.16e+07   5.9e+07</td>\n",
       "</tr>\n",
       "<tr>\n",
       "  <th>one</th>       <td>  5.03e+07</td> <td> 4.37e+06</td> <td>   11.510</td> <td> 0.000</td> <td> 4.16e+07   5.9e+07</td>\n",
       "</tr>\n",
       "</table>\n",
       "<table class=\"simpletable\">\n",
       "<tr>\n",
       "  <th>Omnibus:</th>       <td>51.114</td> <th>  Durbin-Watson:     </th> <td>   0.013</td>\n",
       "</tr>\n",
       "<tr>\n",
       "  <th>Prob(Omnibus):</th> <td> 0.000</td> <th>  Jarque-Bera (JB):  </th> <td> 125.961</td>\n",
       "</tr>\n",
       "<tr>\n",
       "  <th>Skew:</th>          <td> 1.985</td> <th>  Prob(JB):          </th> <td>4.45e-28</td>\n",
       "</tr>\n",
       "<tr>\n",
       "  <th>Kurtosis:</th>      <td> 6.804</td> <th>  Cond. No.          </th> <td>     inf</td>\n",
       "</tr>\n",
       "</table>"
      ],
      "text/plain": [
       "<class 'statsmodels.iolib.summary.Summary'>\n",
       "\"\"\"\n",
       "                            OLS Regression Results                            \n",
       "==============================================================================\n",
       "Dep. Variable:     DomesticTotalGross   R-squared:                       0.000\n",
       "Model:                            OLS   Adj. R-squared:                  0.000\n",
       "Method:                 Least Squares   F-statistic:                       inf\n",
       "Date:                Sun, 05 Feb 2017   Prob (F-statistic):                nan\n",
       "Time:                        13:44:03   Log-Likelihood:                -1970.0\n",
       "No. Observations:                 100   AIC:                             3942.\n",
       "Df Residuals:                      99   BIC:                             3945.\n",
       "Df Model:                           0                                         \n",
       "Covariance Type:            nonrobust                                         \n",
       "==============================================================================\n",
       "                 coef    std err          t      P>|t|      [95.0% Conf. Int.]\n",
       "------------------------------------------------------------------------------\n",
       "Intercept    5.03e+07   4.37e+06     11.510      0.000      4.16e+07   5.9e+07\n",
       "one          5.03e+07   4.37e+06     11.510      0.000      4.16e+07   5.9e+07\n",
       "==============================================================================\n",
       "Omnibus:                       51.114   Durbin-Watson:                   0.013\n",
       "Prob(Omnibus):                  0.000   Jarque-Bera (JB):              125.961\n",
       "Skew:                           1.985   Prob(JB):                     4.45e-28\n",
       "Kurtosis:                       6.804   Cond. No.                          inf\n",
       "==============================================================================\n",
       "\n",
       "Warnings:\n",
       "[1] Standard Errors assume that the covariance matrix of the errors is correctly specified.\n",
       "[2] The smallest eigenvalue is      0. This might indicate that there are\n",
       "strong multicollinearity problems or that the design matrix is singular.\n",
       "\"\"\""
      ]
     },
     "execution_count": 8,
     "metadata": {},
     "output_type": "execute_result"
    }
   ],
   "source": [
    "#another version of the same model\n",
    "model = ols(\"DomesticTotalGross ~ one\", data=df).fit()\n",
    "model.summary()"
   ]
  },
  {
   "cell_type": "markdown",
   "metadata": {},
   "source": [
    "A plot of the predictied versus the actual out come. The graph shows that the one's column does very little to predict the Domestic Total Gross. The r-squared of 0 indicates that the model explains none of the variability of the response data around its mean."
   ]
  },
  {
   "cell_type": "code",
   "execution_count": 9,
   "metadata": {
    "collapsed": false
   },
   "outputs": [
    {
     "name": "stderr",
     "output_type": "stream",
     "text": [
      "//anaconda/lib/python2.7/site-packages/numpy/lib/polynomial.py:595: RankWarning: Polyfit may be poorly conditioned\n",
      "  warnings.warn(msg, RankWarning)\n",
      "//anaconda/lib/python2.7/site-packages/matplotlib/figure.py:397: UserWarning: matplotlib is currently using a non-GUI backend, so cannot show the figure\n",
      "  \"matplotlib is currently using a non-GUI backend, \"\n"
     ]
    },
    {
     "data": {
      "image/png": "[encoded data removed]",
      "text/plain": [
       "<matplotlib.figure.Figure at 0x117e21850>"
      ]
     },
     "metadata": {},
     "output_type": "display_data"
    }
   ],
   "source": [
    "x2= df[\"one\"]\n",
    "y = df.DomesticTotalGross\n",
    "\n",
    "fig, ax = plt.subplots()\n",
    "fit = np.polyfit(x2, y, deg=1)\n",
    "ax.plot(x2, color='red')\n",
    "ax.scatter(x2, y)\n",
    "\n",
    "fig.show()"
   ]
  },
  {
   "cell_type": "code",
   "execution_count": 10,
   "metadata": {
    "collapsed": false
   },
   "outputs": [
    {
     "data": {
      "text/plain": [
       "<matplotlib.text.Text at 0x11a4c2b50>"
      ]
     },
     "execution_count": 10,
     "metadata": {},
     "output_type": "execute_result"
    },
    {
     "data": {
      "image/png": "[encoded data removed]",
      "text/plain": [
       "<matplotlib.figure.Figure at 0x11a341d50>"
      ]
     },
     "metadata": {},
     "output_type": "display_data"
    }
   ],
   "source": [
    "plt.hist(fit)\n",
    "plt.title('Histogram of Residuals')"
   ]
  },
  {
   "cell_type": "markdown",
   "metadata": {},
   "source": [
    "Repeat the process of challenge one, but also add one continuous (numeric) predictor variable. Also add plots of model prediction against your feature variable and residuals against feature variable. How can you interpret what's happening in the model?"
   ]
  },
  {
   "cell_type": "code",
   "execution_count": 11,
   "metadata": {
    "collapsed": false
   },
   "outputs": [
    {
     "data": {
      "text/html": [
       "<table class=\"simpletable\">\n",
       "<caption>OLS Regression Results</caption>\n",
       "<tr>\n",
       "  <th>Dep. Variable:</th>    <td>DomesticTotalGross</td> <th>  R-squared:         </th> <td>   0.253</td>\n",
       "</tr>\n",
       "<tr>\n",
       "  <th>Model:</th>                    <td>OLS</td>        <th>  Adj. R-squared:    </th> <td>   0.245</td>\n",
       "</tr>\n",
       "<tr>\n",
       "  <th>Method:</th>              <td>Least Squares</td>   <th>  F-statistic:       </th> <td>   33.18</td>\n",
       "</tr>\n",
       "<tr>\n",
       "  <th>Date:</th>              <td>Sun, 05 Feb 2017</td>  <th>  Prob (F-statistic):</th> <td>9.69e-08</td>\n",
       "</tr>\n",
       "<tr>\n",
       "  <th>Time:</th>                  <td>13:44:05</td>      <th>  Log-Likelihood:    </th> <td> -1955.4</td>\n",
       "</tr>\n",
       "<tr>\n",
       "  <th>No. Observations:</th>       <td>   100</td>       <th>  AIC:               </th> <td>   3915.</td>\n",
       "</tr>\n",
       "<tr>\n",
       "  <th>Df Residuals:</th>           <td>    98</td>       <th>  BIC:               </th> <td>   3920.</td>\n",
       "</tr>\n",
       "<tr>\n",
       "  <th>Df Model:</th>               <td>     1</td>       <th>                     </th>     <td> </td>   \n",
       "</tr>\n",
       "<tr>\n",
       "  <th>Covariance Type:</th>       <td>nonrobust</td>     <th>                     </th>     <td> </td>   \n",
       "</tr>\n",
       "</table>\n",
       "<table class=\"simpletable\">\n",
       "<tr>\n",
       "      <td></td>         <th>coef</th>     <th>std err</th>      <th>t</th>      <th>P>|t|</th> <th>[95.0% Conf. Int.]</th> \n",
       "</tr>\n",
       "<tr>\n",
       "  <th>Intercept</th> <td> 2.097e+07</td> <td> 6.35e+06</td> <td>    3.303</td> <td> 0.001</td> <td> 8.37e+06  3.36e+07</td>\n",
       "</tr>\n",
       "<tr>\n",
       "  <th>one</th>       <td> 2.097e+07</td> <td> 6.35e+06</td> <td>    3.303</td> <td> 0.001</td> <td> 8.37e+06  3.36e+07</td>\n",
       "</tr>\n",
       "<tr>\n",
       "  <th>Budget</th>    <td>    0.7846</td> <td>    0.136</td> <td>    5.760</td> <td> 0.000</td> <td>    0.514     1.055</td>\n",
       "</tr>\n",
       "</table>\n",
       "<table class=\"simpletable\">\n",
       "<tr>\n",
       "  <th>Omnibus:</th>       <td>39.855</td> <th>  Durbin-Watson:     </th> <td>   0.547</td>\n",
       "</tr>\n",
       "<tr>\n",
       "  <th>Prob(Omnibus):</th> <td> 0.000</td> <th>  Jarque-Bera (JB):  </th> <td>  87.023</td>\n",
       "</tr>\n",
       "<tr>\n",
       "  <th>Skew:</th>          <td> 1.547</td> <th>  Prob(JB):          </th> <td>1.27e-19</td>\n",
       "</tr>\n",
       "<tr>\n",
       "  <th>Kurtosis:</th>      <td> 6.363</td> <th>  Cond. No.          </th> <td>1.31e+17</td>\n",
       "</tr>\n",
       "</table>"
      ],
      "text/plain": [
       "<class 'statsmodels.iolib.summary.Summary'>\n",
       "\"\"\"\n",
       "                            OLS Regression Results                            \n",
       "==============================================================================\n",
       "Dep. Variable:     DomesticTotalGross   R-squared:                       0.253\n",
       "Model:                            OLS   Adj. R-squared:                  0.245\n",
       "Method:                 Least Squares   F-statistic:                     33.18\n",
       "Date:                Sun, 05 Feb 2017   Prob (F-statistic):           9.69e-08\n",
       "Time:                        13:44:05   Log-Likelihood:                -1955.4\n",
       "No. Observations:                 100   AIC:                             3915.\n",
       "Df Residuals:                      98   BIC:                             3920.\n",
       "Df Model:                           1                                         \n",
       "Covariance Type:            nonrobust                                         \n",
       "==============================================================================\n",
       "                 coef    std err          t      P>|t|      [95.0% Conf. Int.]\n",
       "------------------------------------------------------------------------------\n",
       "Intercept   2.097e+07   6.35e+06      3.303      0.001      8.37e+06  3.36e+07\n",
       "one         2.097e+07   6.35e+06      3.303      0.001      8.37e+06  3.36e+07\n",
       "Budget         0.7846      0.136      5.760      0.000         0.514     1.055\n",
       "==============================================================================\n",
       "Omnibus:                       39.855   Durbin-Watson:                   0.547\n",
       "Prob(Omnibus):                  0.000   Jarque-Bera (JB):               87.023\n",
       "Skew:                           1.547   Prob(JB):                     1.27e-19\n",
       "Kurtosis:                       6.363   Cond. No.                     1.31e+17\n",
       "==============================================================================\n",
       "\n",
       "Warnings:\n",
       "[1] Standard Errors assume that the covariance matrix of the errors is correctly specified.\n",
       "[2] The smallest eigenvalue is 5.09e-17. This might indicate that there are\n",
       "strong multicollinearity problems or that the design matrix is singular.\n",
       "\"\"\""
      ]
     },
     "execution_count": 11,
     "metadata": {},
     "output_type": "execute_result"
    }
   ],
   "source": [
    "model2 = ols(\"DomesticTotalGross ~ one + Budget\", data=df).fit()\n",
    "model2.summary()"
   ]
  },
  {
   "cell_type": "markdown",
   "metadata": {},
   "source": [
    "Plot the residuals from the model with Domestic Total Gross as target and ones column and Budget as features. The plot shows us that the linear regression used is not an appropriate fit. The plots should be scattered, but instead show a negative slope trend. "
   ]
  },
  {
   "cell_type": "code",
   "execution_count": 20,
   "metadata": {
    "collapsed": false
   },
   "outputs": [
    {
     "data": {
      "text/plain": [
       "<matplotlib.axes._subplots.AxesSubplot at 0x11a645610>"
      ]
     },
     "execution_count": 20,
     "metadata": {},
     "output_type": "execute_result"
    },
    {
     "data": {
      "image/png": "[encoded data removed]",
      "text/plain": [
       "<matplotlib.figure.Figure at 0x11bc49090>"
      ]
     },
     "metadata": {},
     "output_type": "display_data"
    }
   ],
   "source": [
    "#plot the residuals for model with column of ones and budget\n",
    "model2.resid.plot(style='o', figsize=(12,8))"
   ]
  },
  {
   "cell_type": "markdown",
   "metadata": {
    "collapsed": false
   },
   "source": [
    "Repeat the process of challenge 1, but add a categorical feature (like genre). You'll have to convert a column of text into a number of numerical columns (\"dummy variables\"). How can you interpret what's happening in the model?"
   ]
  },
  {
   "cell_type": "markdown",
   "metadata": {
    "collapsed": false
   },
   "source": [
    "Create dummy variables for rating"
   ]
  },
  {
   "cell_type": "code",
   "execution_count": 24,
   "metadata": {
    "collapsed": false
   },
   "outputs": [],
   "source": [
    "df_rating = patsy.dmatrix('Rating', data=df,return_type='dataframe')"
   ]
  },
  {
   "cell_type": "code",
   "execution_count": 25,
   "metadata": {
    "collapsed": true
   },
   "outputs": [],
   "source": [
    "#join dummy dataframe with main dataframe\n",
    "\n",
    "df = pd.concat([df_rating, df], axis=1)"
   ]
  },
  {
   "cell_type": "code",
   "execution_count": 29,
   "metadata": {
    "collapsed": true
   },
   "outputs": [],
   "source": [
    "df = df.rename(columns={'Rating[T.PG]': 'PG', 'Rating[T.PG-13]': 'PG13', \"Rating[T.R]\" : \"R\"})"
   ]
  },
  {
   "cell_type": "code",
   "execution_count": 30,
   "metadata": {
    "collapsed": false
   },
   "outputs": [
    {
     "data": {
      "text/html": [
       "<div>\n",
       "<table border=\"1\" class=\"dataframe\">\n",
       "  <thead>\n",
       "    <tr style=\"text-align: right;\">\n",
       "      <th></th>\n",
       "      <th>Intercept</th>\n",
       "      <th>PG</th>\n",
       "      <th>PG13</th>\n",
       "      <th>R</th>\n",
       "      <th>Title</th>\n",
       "      <th>Budget</th>\n",
       "      <th>DomesticTotalGross</th>\n",
       "      <th>Director</th>\n",
       "      <th>Rating</th>\n",
       "      <th>Runtime</th>\n",
       "      <th>ReleaseDate</th>\n",
       "      <th>one</th>\n",
       "    </tr>\n",
       "  </thead>\n",
       "  <tbody>\n",
       "    <tr>\n",
       "      <th>0</th>\n",
       "      <td>1.0</td>\n",
       "      <td>0.0</td>\n",
       "      <td>1.0</td>\n",
       "      <td>0.0</td>\n",
       "      <td>The Hunger Games: Catching Fire</td>\n",
       "      <td>130000000.0</td>\n",
       "      <td>424668047.0</td>\n",
       "      <td>Francis Lawrence</td>\n",
       "      <td>PG-13</td>\n",
       "      <td>146.0</td>\n",
       "      <td>2013-11-22</td>\n",
       "      <td>1</td>\n",
       "    </tr>\n",
       "    <tr>\n",
       "      <th>1</th>\n",
       "      <td>1.0</td>\n",
       "      <td>0.0</td>\n",
       "      <td>1.0</td>\n",
       "      <td>0.0</td>\n",
       "      <td>Iron Man 3</td>\n",
       "      <td>200000000.0</td>\n",
       "      <td>409013994.0</td>\n",
       "      <td>Shane Black</td>\n",
       "      <td>PG-13</td>\n",
       "      <td>129.0</td>\n",
       "      <td>2013-05-03</td>\n",
       "      <td>1</td>\n",
       "    </tr>\n",
       "    <tr>\n",
       "      <th>2</th>\n",
       "      <td>1.0</td>\n",
       "      <td>1.0</td>\n",
       "      <td>0.0</td>\n",
       "      <td>0.0</td>\n",
       "      <td>Frozen</td>\n",
       "      <td>150000000.0</td>\n",
       "      <td>400738009.0</td>\n",
       "      <td>Chris BuckJennifer Lee</td>\n",
       "      <td>PG</td>\n",
       "      <td>108.0</td>\n",
       "      <td>2013-11-22</td>\n",
       "      <td>1</td>\n",
       "    </tr>\n",
       "    <tr>\n",
       "      <th>3</th>\n",
       "      <td>1.0</td>\n",
       "      <td>1.0</td>\n",
       "      <td>0.0</td>\n",
       "      <td>0.0</td>\n",
       "      <td>Despicable Me 2</td>\n",
       "      <td>76000000.0</td>\n",
       "      <td>368061265.0</td>\n",
       "      <td>Pierre CoffinChris Renaud</td>\n",
       "      <td>PG</td>\n",
       "      <td>98.0</td>\n",
       "      <td>2013-07-03</td>\n",
       "      <td>1</td>\n",
       "    </tr>\n",
       "    <tr>\n",
       "      <th>4</th>\n",
       "      <td>1.0</td>\n",
       "      <td>0.0</td>\n",
       "      <td>1.0</td>\n",
       "      <td>0.0</td>\n",
       "      <td>Man of Steel</td>\n",
       "      <td>225000000.0</td>\n",
       "      <td>291045518.0</td>\n",
       "      <td>Zack Snyder</td>\n",
       "      <td>PG-13</td>\n",
       "      <td>143.0</td>\n",
       "      <td>2013-06-14</td>\n",
       "      <td>1</td>\n",
       "    </tr>\n",
       "  </tbody>\n",
       "</table>\n",
       "</div>"
      ],
      "text/plain": [
       "   Intercept   PG  PG13    R                            Title       Budget  \\\n",
       "0        1.0  0.0   1.0  0.0  The Hunger Games: Catching Fire  130000000.0   \n",
       "1        1.0  0.0   1.0  0.0                       Iron Man 3  200000000.0   \n",
       "2        1.0  1.0   0.0  0.0                           Frozen  150000000.0   \n",
       "3        1.0  1.0   0.0  0.0                  Despicable Me 2   76000000.0   \n",
       "4        1.0  0.0   1.0  0.0                     Man of Steel  225000000.0   \n",
       "\n",
       "   DomesticTotalGross                   Director Rating  Runtime ReleaseDate  \\\n",
       "0         424668047.0           Francis Lawrence  PG-13    146.0  2013-11-22   \n",
       "1         409013994.0                Shane Black  PG-13    129.0  2013-05-03   \n",
       "2         400738009.0     Chris BuckJennifer Lee     PG    108.0  2013-11-22   \n",
       "3         368061265.0  Pierre CoffinChris Renaud     PG     98.0  2013-07-03   \n",
       "4         291045518.0                Zack Snyder  PG-13    143.0  2013-06-14   \n",
       "\n",
       "   one  \n",
       "0    1  \n",
       "1    1  \n",
       "2    1  \n",
       "3    1  \n",
       "4    1  "
      ]
     },
     "execution_count": 30,
     "metadata": {},
     "output_type": "execute_result"
    }
   ],
   "source": [
    "df.head()"
   ]
  },
  {
   "cell_type": "code",
   "execution_count": 41,
   "metadata": {
    "collapsed": false
   },
   "outputs": [
    {
     "data": {
      "text/html": [
       "<table class=\"simpletable\">\n",
       "<caption>OLS Regression Results</caption>\n",
       "<tr>\n",
       "  <th>Dep. Variable:</th>    <td>DomesticTotalGross</td> <th>  R-squared:         </th> <td>   0.298</td>\n",
       "</tr>\n",
       "<tr>\n",
       "  <th>Model:</th>                    <td>OLS</td>        <th>  Adj. R-squared:    </th> <td>   0.268</td>\n",
       "</tr>\n",
       "<tr>\n",
       "  <th>Method:</th>              <td>Least Squares</td>   <th>  F-statistic:       </th> <td>   10.07</td>\n",
       "</tr>\n",
       "<tr>\n",
       "  <th>Date:</th>              <td>Sun, 05 Feb 2017</td>  <th>  Prob (F-statistic):</th> <td>7.69e-07</td>\n",
       "</tr>\n",
       "<tr>\n",
       "  <th>Time:</th>                  <td>14:59:36</td>      <th>  Log-Likelihood:    </th> <td> -1952.3</td>\n",
       "</tr>\n",
       "<tr>\n",
       "  <th>No. Observations:</th>       <td>   100</td>       <th>  AIC:               </th> <td>   3915.</td>\n",
       "</tr>\n",
       "<tr>\n",
       "  <th>Df Residuals:</th>           <td>    95</td>       <th>  BIC:               </th> <td>   3928.</td>\n",
       "</tr>\n",
       "<tr>\n",
       "  <th>Df Model:</th>               <td>     4</td>       <th>                     </th>     <td> </td>   \n",
       "</tr>\n",
       "<tr>\n",
       "  <th>Covariance Type:</th>       <td>nonrobust</td>     <th>                     </th>     <td> </td>   \n",
       "</tr>\n",
       "</table>\n",
       "<table class=\"simpletable\">\n",
       "<tr>\n",
       "      <td></td>         <th>coef</th>     <th>std err</th>      <th>t</th>      <th>P>|t|</th> <th>[95.0% Conf. Int.]</th> \n",
       "</tr>\n",
       "<tr>\n",
       "  <th>Intercept</th> <td>  1.06e+08</td> <td> 3.78e+07</td> <td>    2.805</td> <td> 0.006</td> <td>  3.1e+07  1.81e+08</td>\n",
       "</tr>\n",
       "<tr>\n",
       "  <th>one</th>       <td>  1.06e+08</td> <td> 3.78e+07</td> <td>    2.805</td> <td> 0.006</td> <td>  3.1e+07  1.81e+08</td>\n",
       "</tr>\n",
       "<tr>\n",
       "  <th>PG</th>        <td>-1.518e+08</td> <td> 7.73e+07</td> <td>   -1.965</td> <td> 0.052</td> <td>-3.05e+08  1.55e+06</td>\n",
       "</tr>\n",
       "<tr>\n",
       "  <th>PG13</th>      <td>-1.714e+08</td> <td> 7.56e+07</td> <td>   -2.268</td> <td> 0.026</td> <td>-3.22e+08 -2.14e+07</td>\n",
       "</tr>\n",
       "<tr>\n",
       "  <th>R</th>         <td>-1.744e+08</td> <td> 7.59e+07</td> <td>   -2.298</td> <td> 0.024</td> <td>-3.25e+08 -2.37e+07</td>\n",
       "</tr>\n",
       "<tr>\n",
       "  <th>Budget</th>    <td>    0.7551</td> <td>    0.149</td> <td>    5.052</td> <td> 0.000</td> <td>    0.458     1.052</td>\n",
       "</tr>\n",
       "</table>\n",
       "<table class=\"simpletable\">\n",
       "<tr>\n",
       "  <th>Omnibus:</th>       <td>40.933</td> <th>  Durbin-Watson:     </th> <td>   0.675</td>\n",
       "</tr>\n",
       "<tr>\n",
       "  <th>Prob(Omnibus):</th> <td> 0.000</td> <th>  Jarque-Bera (JB):  </th> <td>  93.251</td>\n",
       "</tr>\n",
       "<tr>\n",
       "  <th>Skew:</th>          <td> 1.566</td> <th>  Prob(JB):          </th> <td>5.63e-21</td>\n",
       "</tr>\n",
       "<tr>\n",
       "  <th>Kurtosis:</th>      <td> 6.545</td> <th>  Cond. No.          </th> <td>4.01e+17</td>\n",
       "</tr>\n",
       "</table>"
      ],
      "text/plain": [
       "<class 'statsmodels.iolib.summary.Summary'>\n",
       "\"\"\"\n",
       "                            OLS Regression Results                            \n",
       "==============================================================================\n",
       "Dep. Variable:     DomesticTotalGross   R-squared:                       0.298\n",
       "Model:                            OLS   Adj. R-squared:                  0.268\n",
       "Method:                 Least Squares   F-statistic:                     10.07\n",
       "Date:                Sun, 05 Feb 2017   Prob (F-statistic):           7.69e-07\n",
       "Time:                        14:59:36   Log-Likelihood:                -1952.3\n",
       "No. Observations:                 100   AIC:                             3915.\n",
       "Df Residuals:                      95   BIC:                             3928.\n",
       "Df Model:                           4                                         \n",
       "Covariance Type:            nonrobust                                         \n",
       "==============================================================================\n",
       "                 coef    std err          t      P>|t|      [95.0% Conf. Int.]\n",
       "------------------------------------------------------------------------------\n",
       "Intercept    1.06e+08   3.78e+07      2.805      0.006       3.1e+07  1.81e+08\n",
       "one          1.06e+08   3.78e+07      2.805      0.006       3.1e+07  1.81e+08\n",
       "PG         -1.518e+08   7.73e+07     -1.965      0.052     -3.05e+08  1.55e+06\n",
       "PG13       -1.714e+08   7.56e+07     -2.268      0.026     -3.22e+08 -2.14e+07\n",
       "R          -1.744e+08   7.59e+07     -2.298      0.024     -3.25e+08 -2.37e+07\n",
       "Budget         0.7551      0.149      5.052      0.000         0.458     1.052\n",
       "==============================================================================\n",
       "Omnibus:                       40.933   Durbin-Watson:                   0.675\n",
       "Prob(Omnibus):                  0.000   Jarque-Bera (JB):               93.251\n",
       "Skew:                           1.566   Prob(JB):                     5.63e-21\n",
       "Kurtosis:                       6.545   Cond. No.                     4.01e+17\n",
       "==============================================================================\n",
       "\n",
       "Warnings:\n",
       "[1] Standard Errors assume that the covariance matrix of the errors is correctly specified.\n",
       "[2] The smallest eigenvalue is 5.41e-18. This might indicate that there are\n",
       "strong multicollinearity problems or that the design matrix is singular.\n",
       "\"\"\""
      ]
     },
     "execution_count": 41,
     "metadata": {},
     "output_type": "execute_result"
    }
   ],
   "source": [
    "#create new model\n",
    "model2 = ols(\"DomesticTotalGross ~ one + PG + PG13 + R + one + Budget\", data=df).fit()\n",
    "model2.summary()"
   ]
  },
  {
   "cell_type": "markdown",
   "metadata": {},
   "source": [
    "The R-squared value increased slightly with the addition of the feature rating as dummy variables. This shows that the regression line is a better fit than the previous model, but not by much. The residual plot below still shows a trend in plots. "
   ]
  },
  {
   "cell_type": "code",
   "execution_count": 42,
   "metadata": {
    "collapsed": false
   },
   "outputs": [
    {
     "data": {
      "text/plain": [
       "<matplotlib.axes._subplots.AxesSubplot at 0x11bc22a90>"
      ]
     },
     "execution_count": 42,
     "metadata": {},
     "output_type": "execute_result"
    },
    {
     "data": {
      "image/png": "[encoded data removed]",
      "text/plain": [
       "<matplotlib.figure.Figure at 0x11c5c9590>"
      ]
     },
     "metadata": {},
     "output_type": "display_data"
    }
   ],
   "source": [
    "#plot the residuals for model\n",
    "model2.resid.plot(style='o', figsize=(12,8))"
   ]
  },
  {
   "cell_type": "markdown",
   "metadata": {},
   "source": [
    "Enhance your model further by adding more features and/or transforming existing features. Think about how you build the model matrix and how to interpret what the model is doing."
   ]
  },
  {
   "cell_type": "code",
   "execution_count": 43,
   "metadata": {
    "collapsed": false
   },
   "outputs": [
    {
     "data": {
      "text/html": [
       "<table class=\"simpletable\">\n",
       "<caption>OLS Regression Results</caption>\n",
       "<tr>\n",
       "  <th>Dep. Variable:</th>    <td>DomesticTotalGross</td> <th>  R-squared:         </th> <td>   0.332</td>\n",
       "</tr>\n",
       "<tr>\n",
       "  <th>Model:</th>                    <td>OLS</td>        <th>  Adj. R-squared:    </th> <td>   0.296</td>\n",
       "</tr>\n",
       "<tr>\n",
       "  <th>Method:</th>              <td>Least Squares</td>   <th>  F-statistic:       </th> <td>   9.343</td>\n",
       "</tr>\n",
       "<tr>\n",
       "  <th>Date:</th>              <td>Sun, 05 Feb 2017</td>  <th>  Prob (F-statistic):</th> <td>2.99e-07</td>\n",
       "</tr>\n",
       "<tr>\n",
       "  <th>Time:</th>                  <td>14:59:50</td>      <th>  Log-Likelihood:    </th> <td> -1949.8</td>\n",
       "</tr>\n",
       "<tr>\n",
       "  <th>No. Observations:</th>       <td>   100</td>       <th>  AIC:               </th> <td>   3912.</td>\n",
       "</tr>\n",
       "<tr>\n",
       "  <th>Df Residuals:</th>           <td>    94</td>       <th>  BIC:               </th> <td>   3927.</td>\n",
       "</tr>\n",
       "<tr>\n",
       "  <th>Df Model:</th>               <td>     5</td>       <th>                     </th>     <td> </td>   \n",
       "</tr>\n",
       "<tr>\n",
       "  <th>Covariance Type:</th>       <td>nonrobust</td>     <th>                     </th>     <td> </td>   \n",
       "</tr>\n",
       "</table>\n",
       "<table class=\"simpletable\">\n",
       "<tr>\n",
       "      <td></td>         <th>coef</th>     <th>std err</th>      <th>t</th>      <th>P>|t|</th> <th>[95.0% Conf. Int.]</th> \n",
       "</tr>\n",
       "<tr>\n",
       "  <th>Intercept</th> <td>  5.67e+07</td> <td> 4.34e+07</td> <td>    1.308</td> <td> 0.194</td> <td>-2.94e+07  1.43e+08</td>\n",
       "</tr>\n",
       "<tr>\n",
       "  <th>PG</th>        <td>-1.424e+08</td> <td> 7.59e+07</td> <td>   -1.877</td> <td> 0.064</td> <td>-2.93e+08  8.23e+06</td>\n",
       "</tr>\n",
       "<tr>\n",
       "  <th>PG13</th>      <td>-1.797e+08</td> <td> 7.42e+07</td> <td>   -2.421</td> <td> 0.017</td> <td>-3.27e+08 -3.23e+07</td>\n",
       "</tr>\n",
       "<tr>\n",
       "  <th>R</th>         <td> -1.82e+08</td> <td> 7.45e+07</td> <td>   -2.443</td> <td> 0.016</td> <td> -3.3e+08 -3.41e+07</td>\n",
       "</tr>\n",
       "<tr>\n",
       "  <th>one</th>       <td>  5.67e+07</td> <td> 4.34e+07</td> <td>    1.308</td> <td> 0.194</td> <td>-2.94e+07  1.43e+08</td>\n",
       "</tr>\n",
       "<tr>\n",
       "  <th>Budget</th>    <td>    0.6352</td> <td>    0.156</td> <td>    4.061</td> <td> 0.000</td> <td>    0.325     0.946</td>\n",
       "</tr>\n",
       "<tr>\n",
       "  <th>Runtime</th>   <td> 1.006e+06</td> <td> 4.59e+05</td> <td>    2.192</td> <td> 0.031</td> <td> 9.46e+04  1.92e+06</td>\n",
       "</tr>\n",
       "</table>\n",
       "<table class=\"simpletable\">\n",
       "<tr>\n",
       "  <th>Omnibus:</th>       <td>39.436</td> <th>  Durbin-Watson:     </th> <td>   0.793</td>\n",
       "</tr>\n",
       "<tr>\n",
       "  <th>Prob(Omnibus):</th> <td> 0.000</td> <th>  Jarque-Bera (JB):  </th> <td>  87.072</td>\n",
       "</tr>\n",
       "<tr>\n",
       "  <th>Skew:</th>          <td> 1.521</td> <th>  Prob(JB):          </th> <td>1.24e-19</td>\n",
       "</tr>\n",
       "<tr>\n",
       "  <th>Kurtosis:</th>      <td> 6.413</td> <th>  Cond. No.          </th> <td>8.24e+24</td>\n",
       "</tr>\n",
       "</table>"
      ],
      "text/plain": [
       "<class 'statsmodels.iolib.summary.Summary'>\n",
       "\"\"\"\n",
       "                            OLS Regression Results                            \n",
       "==============================================================================\n",
       "Dep. Variable:     DomesticTotalGross   R-squared:                       0.332\n",
       "Model:                            OLS   Adj. R-squared:                  0.296\n",
       "Method:                 Least Squares   F-statistic:                     9.343\n",
       "Date:                Sun, 05 Feb 2017   Prob (F-statistic):           2.99e-07\n",
       "Time:                        14:59:50   Log-Likelihood:                -1949.8\n",
       "No. Observations:                 100   AIC:                             3912.\n",
       "Df Residuals:                      94   BIC:                             3927.\n",
       "Df Model:                           5                                         \n",
       "Covariance Type:            nonrobust                                         \n",
       "==============================================================================\n",
       "                 coef    std err          t      P>|t|      [95.0% Conf. Int.]\n",
       "------------------------------------------------------------------------------\n",
       "Intercept    5.67e+07   4.34e+07      1.308      0.194     -2.94e+07  1.43e+08\n",
       "PG         -1.424e+08   7.59e+07     -1.877      0.064     -2.93e+08  8.23e+06\n",
       "PG13       -1.797e+08   7.42e+07     -2.421      0.017     -3.27e+08 -3.23e+07\n",
       "R           -1.82e+08   7.45e+07     -2.443      0.016      -3.3e+08 -3.41e+07\n",
       "one          5.67e+07   4.34e+07      1.308      0.194     -2.94e+07  1.43e+08\n",
       "Budget         0.6352      0.156      4.061      0.000         0.325     0.946\n",
       "Runtime     1.006e+06   4.59e+05      2.192      0.031      9.46e+04  1.92e+06\n",
       "==============================================================================\n",
       "Omnibus:                       39.436   Durbin-Watson:                   0.793\n",
       "Prob(Omnibus):                  0.000   Jarque-Bera (JB):               87.072\n",
       "Skew:                           1.521   Prob(JB):                     1.24e-19\n",
       "Kurtosis:                       6.413   Cond. No.                     8.24e+24\n",
       "==============================================================================\n",
       "\n",
       "Warnings:\n",
       "[1] Standard Errors assume that the covariance matrix of the errors is correctly specified.\n",
       "[2] The smallest eigenvalue is 1.28e-32. This might indicate that there are\n",
       "strong multicollinearity problems or that the design matrix is singular.\n",
       "\"\"\""
      ]
     },
     "execution_count": 43,
     "metadata": {},
     "output_type": "execute_result"
    }
   ],
   "source": [
    "#create model without column of ones; add Runtime\n",
    "model3 = ols(\"DomesticTotalGross ~ PG + PG13 + R + one + Budget + Runtime\", data=df).fit()\n",
    "model3.summary()"
   ]
  },
  {
   "cell_type": "markdown",
   "metadata": {},
   "source": [
    "The output shows us the model is still weak with some skew. The residual plots does not show random plots"
   ]
  },
  {
   "cell_type": "code",
   "execution_count": 44,
   "metadata": {
    "collapsed": false
   },
   "outputs": [
    {
     "data": {
      "text/plain": [
       "<matplotlib.axes._subplots.AxesSubplot at 0x11b7e4250>"
      ]
     },
     "execution_count": 44,
     "metadata": {},
     "output_type": "execute_result"
    },
    {
     "data": {
      "image/png": "[encoded data removed]",
      "text/plain": [
       "<matplotlib.figure.Figure at 0x11b7dc810>"
      ]
     },
     "metadata": {},
     "output_type": "display_data"
    }
   ],
   "source": [
    "#plot the residuals for model with column of ones and budget\n",
    "model3.resid.plot(style='o', figsize=(12,8))"
   ]
  },
  {
   "cell_type": "markdown",
   "metadata": {},
   "source": [
    "Fitting and checking predictions on the exact same data set can be misleading. Divide your data into two sets: a training and a test set (roughly 75% training, 25% test is a fine split). Fit a model on the training set, check the predictions (by plotting versus actual values) in the test set."
   ]
  },
  {
   "cell_type": "code",
   "execution_count": 52,
   "metadata": {
    "collapsed": false
   },
   "outputs": [
    {
     "data": {
      "text/html": [
       "<table class=\"simpletable\">\n",
       "<caption>OLS Regression Results</caption>\n",
       "<tr>\n",
       "  <th>Dep. Variable:</th>    <td>DomesticTotalGross</td> <th>  R-squared:         </th> <td>   0.332</td>\n",
       "</tr>\n",
       "<tr>\n",
       "  <th>Model:</th>                    <td>OLS</td>        <th>  Adj. R-squared:    </th> <td>   0.296</td>\n",
       "</tr>\n",
       "<tr>\n",
       "  <th>Method:</th>              <td>Least Squares</td>   <th>  F-statistic:       </th> <td>   9.343</td>\n",
       "</tr>\n",
       "<tr>\n",
       "  <th>Date:</th>              <td>Sun, 05 Feb 2017</td>  <th>  Prob (F-statistic):</th> <td>2.99e-07</td>\n",
       "</tr>\n",
       "<tr>\n",
       "  <th>Time:</th>                  <td>15:13:48</td>      <th>  Log-Likelihood:    </th> <td> -1949.8</td>\n",
       "</tr>\n",
       "<tr>\n",
       "  <th>No. Observations:</th>       <td>   100</td>       <th>  AIC:               </th> <td>   3912.</td>\n",
       "</tr>\n",
       "<tr>\n",
       "  <th>Df Residuals:</th>           <td>    94</td>       <th>  BIC:               </th> <td>   3927.</td>\n",
       "</tr>\n",
       "<tr>\n",
       "  <th>Df Model:</th>               <td>     5</td>       <th>                     </th>     <td> </td>   \n",
       "</tr>\n",
       "<tr>\n",
       "  <th>Covariance Type:</th>       <td>nonrobust</td>     <th>                     </th>     <td> </td>   \n",
       "</tr>\n",
       "</table>\n",
       "<table class=\"simpletable\">\n",
       "<tr>\n",
       "      <td></td>         <th>coef</th>     <th>std err</th>      <th>t</th>      <th>P>|t|</th> <th>[95.0% Conf. Int.]</th> \n",
       "</tr>\n",
       "<tr>\n",
       "  <th>Intercept</th> <td> 1.134e+08</td> <td> 8.67e+07</td> <td>    1.308</td> <td> 0.194</td> <td>-5.88e+07  2.86e+08</td>\n",
       "</tr>\n",
       "<tr>\n",
       "  <th>PG</th>        <td>-1.424e+08</td> <td> 7.59e+07</td> <td>   -1.877</td> <td> 0.064</td> <td>-2.93e+08  8.23e+06</td>\n",
       "</tr>\n",
       "<tr>\n",
       "  <th>PG13</th>      <td>-1.797e+08</td> <td> 7.42e+07</td> <td>   -2.421</td> <td> 0.017</td> <td>-3.27e+08 -3.23e+07</td>\n",
       "</tr>\n",
       "<tr>\n",
       "  <th>R</th>         <td> -1.82e+08</td> <td> 7.45e+07</td> <td>   -2.443</td> <td> 0.016</td> <td> -3.3e+08 -3.41e+07</td>\n",
       "</tr>\n",
       "<tr>\n",
       "  <th>Budget</th>    <td>    0.6352</td> <td>    0.156</td> <td>    4.061</td> <td> 0.000</td> <td>    0.325     0.946</td>\n",
       "</tr>\n",
       "<tr>\n",
       "  <th>Runtime</th>   <td> 1.006e+06</td> <td> 4.59e+05</td> <td>    2.192</td> <td> 0.031</td> <td> 9.46e+04  1.92e+06</td>\n",
       "</tr>\n",
       "</table>\n",
       "<table class=\"simpletable\">\n",
       "<tr>\n",
       "  <th>Omnibus:</th>       <td>39.436</td> <th>  Durbin-Watson:     </th> <td>   0.793</td>\n",
       "</tr>\n",
       "<tr>\n",
       "  <th>Prob(Omnibus):</th> <td> 0.000</td> <th>  Jarque-Bera (JB):  </th> <td>  87.072</td>\n",
       "</tr>\n",
       "<tr>\n",
       "  <th>Skew:</th>          <td> 1.521</td> <th>  Prob(JB):          </th> <td>1.24e-19</td>\n",
       "</tr>\n",
       "<tr>\n",
       "  <th>Kurtosis:</th>      <td> 6.413</td> <th>  Cond. No.          </th> <td>1.89e+09</td>\n",
       "</tr>\n",
       "</table>"
      ],
      "text/plain": [
       "<class 'statsmodels.iolib.summary.Summary'>\n",
       "\"\"\"\n",
       "                            OLS Regression Results                            \n",
       "==============================================================================\n",
       "Dep. Variable:     DomesticTotalGross   R-squared:                       0.332\n",
       "Model:                            OLS   Adj. R-squared:                  0.296\n",
       "Method:                 Least Squares   F-statistic:                     9.343\n",
       "Date:                Sun, 05 Feb 2017   Prob (F-statistic):           2.99e-07\n",
       "Time:                        15:13:48   Log-Likelihood:                -1949.8\n",
       "No. Observations:                 100   AIC:                             3912.\n",
       "Df Residuals:                      94   BIC:                             3927.\n",
       "Df Model:                           5                                         \n",
       "Covariance Type:            nonrobust                                         \n",
       "==============================================================================\n",
       "                 coef    std err          t      P>|t|      [95.0% Conf. Int.]\n",
       "------------------------------------------------------------------------------\n",
       "Intercept   1.134e+08   8.67e+07      1.308      0.194     -5.88e+07  2.86e+08\n",
       "PG         -1.424e+08   7.59e+07     -1.877      0.064     -2.93e+08  8.23e+06\n",
       "PG13       -1.797e+08   7.42e+07     -2.421      0.017     -3.27e+08 -3.23e+07\n",
       "R           -1.82e+08   7.45e+07     -2.443      0.016      -3.3e+08 -3.41e+07\n",
       "Budget         0.6352      0.156      4.061      0.000         0.325     0.946\n",
       "Runtime     1.006e+06   4.59e+05      2.192      0.031      9.46e+04  1.92e+06\n",
       "==============================================================================\n",
       "Omnibus:                       39.436   Durbin-Watson:                   0.793\n",
       "Prob(Omnibus):                  0.000   Jarque-Bera (JB):               87.072\n",
       "Skew:                           1.521   Prob(JB):                     1.24e-19\n",
       "Kurtosis:                       6.413   Cond. No.                     1.89e+09\n",
       "==============================================================================\n",
       "\n",
       "Warnings:\n",
       "[1] Standard Errors assume that the covariance matrix of the errors is correctly specified.\n",
       "[2] The condition number is large, 1.89e+09. This might indicate that there are\n",
       "strong multicollinearity or other numerical problems.\n",
       "\"\"\""
      ]
     },
     "execution_count": 52,
     "metadata": {},
     "output_type": "execute_result"
    }
   ],
   "source": [
    "y = df.DomesticTotalGross\n",
    "X = df.drop([\"DomesticTotalGross\",\"Title\",\"Director\",\"Rating\",\"ReleaseDate\",\"one\"],1)\n",
    "\n",
    "\n",
    "lsm = sm.OLS(y,x)\n",
    "fit = lsm.fit()\n",
    "fit.summary()"
   ]
  },
  {
   "cell_type": "code",
   "execution_count": 53,
   "metadata": {
    "collapsed": false
   },
   "outputs": [
    {
     "name": "stdout",
     "output_type": "stream",
     "text": [
      "[  4.93463209e+16   4.64779227e+15   1.41126605e+15   4.43728000e+15\n",
      "   3.02309306e+15   4.34034414e+15   1.16939823e+15   4.11555633e+15\n",
      "   3.14844239e+15   2.00581245e+15]\n"
     ]
    }
   ],
   "source": [
    "# 10-fold cross-validation\n",
    "reg = LinearRegression()\n",
    "scores = cross_val_score(reg, X, y, cv=10, scoring='mean_squared_error')\n",
    "\n",
    "# scores output is negative, a sklearn quirk bc mse is used to min. optimization func.\n",
    "mean_sq = (-scores)\n",
    "print mean_sq"
   ]
  },
  {
   "cell_type": "code",
   "execution_count": 54,
   "metadata": {
    "collapsed": false
   },
   "outputs": [
    {
     "data": {
      "text/plain": [
       "7764530585537530.0"
      ]
     },
     "execution_count": 54,
     "metadata": {},
     "output_type": "execute_result"
    }
   ],
   "source": [
    "np.mean(mean_sq)"
   ]
  },
  {
   "cell_type": "markdown",
   "metadata": {},
   "source": [
    "The high mean squared error shows the actual values are far from the regression line.  "
   ]
  },
  {
   "cell_type": "code",
   "execution_count": null,
   "metadata": {
    "collapsed": true
   },
   "outputs": [],
   "source": []
  }
 ],
 "metadata": {
  "anaconda-cloud": {},
  "kernelspec": {
   "display_name": "Python [Root]",
   "language": "python",
   "name": "Python [Root]"
  },
  "language_info": {
   "codemirror_mode": {
    "name": "ipython",
    "version": 2
   },
   "file_extension": ".py",
   "mimetype": "text/x-python",
   "name": "python",
   "nbconvert_exporter": "python",
   "pygments_lexer": "ipython2",
   "version": "2.7.12"
  }
 },
 "nbformat": 4,
 "nbformat_minor": 0
}
