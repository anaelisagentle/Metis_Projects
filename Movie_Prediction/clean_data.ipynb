{
 "cells": [
  {
   "cell_type": "code",
   "execution_count": 1,
   "metadata": {
    "collapsed": false
   },
   "outputs": [],
   "source": [
    "import pickle\n",
    "import requests\n",
    "import re\n",
    "import pandas as pd\n",
    "import numpy as np\n",
    "import matplotlib.pyplot as plt\n",
    "import dateutil.parser\n",
    "from datetime import datetime\n",
    "import locale\n",
    "#from locale import atof\n",
    "import patsy\n",
    "#locale.setlocale(locale.LC_NUMERIC, '')\n",
    "#'en_GB.UTF-8'\n",
    "\n",
    "%matplotlib inline\n",
    "from IPython.display import Image"
   ]
  },
  {
   "cell_type": "markdown",
   "metadata": {},
   "source": [
    "open the data frame with data from box office mojo and imdb"
   ]
  },
  {
   "cell_type": "code",
   "execution_count": 2,
   "metadata": {
    "collapsed": false
   },
   "outputs": [],
   "source": [
    "with open(\"df_merge.pkl\", 'rb') as picklefile: \n",
    "    df = pickle.load(picklefile)"
   ]
  },
  {
   "cell_type": "markdown",
   "metadata": {},
   "source": [
    "Convert relevant columns to usuable format for model. ie- if value of column is date, make datetime object. "
   ]
  },
  {
   "cell_type": "code",
   "execution_count": 3,
   "metadata": {
    "collapsed": false
   },
   "outputs": [],
   "source": [
    "#remove \"min\" from runtime and convert to integer\n",
    "df['Runtime'] = df['Runtime'].str.rstrip(' min')\n",
    "df['Runtime'] = df['Runtime'].apply(str)\n"
   ]
  },
  {
   "cell_type": "code",
   "execution_count": 4,
   "metadata": {
    "collapsed": false
   },
   "outputs": [],
   "source": [
    "#remove \"runtime\" (in hours) from data frame- there are two, one in minutes, one in hours\n",
    "df = df.drop(['runtime'], 1)"
   ]
  },
  {
   "cell_type": "code",
   "execution_count": 5,
   "metadata": {
    "collapsed": false
   },
   "outputs": [],
   "source": [
    "#remove any movies that aren't comedy\n",
    "df = df[df.genre.str.contains(\"Comedy\",\"comedy\") == True]"
   ]
  },
  {
   "cell_type": "code",
   "execution_count": 6,
   "metadata": {
    "collapsed": false
   },
   "outputs": [],
   "source": [
    "df['Released'] = df['Released'].apply(str)\n",
    "df[\"distributor\"] = df[\"distributor\"].apply(str)\n",
    "df[\"genre\"] = df[\"genre\"].apply(str)\n",
    "df[\"rating\"] = df[\"rating\"]\n",
    "\n",
    "#df['Released']\n",
    "#pd.to_datetime(df['Released'], format='%d%b%Y')"
   ]
  },
  {
   "cell_type": "code",
   "execution_count": 9,
   "metadata": {
    "collapsed": false
   },
   "outputs": [],
   "source": [
    "#create datetime variable\n",
    "dt = datetime.strptime(\"October 1, 1999\",'%B %d, %Y')"
   ]
  },
  {
   "cell_type": "code",
   "execution_count": 10,
   "metadata": {
    "collapsed": false
   },
   "outputs": [],
   "source": [
    "df.loc[df[\"release_date\"].str.contains(\"N/A\"), \"release_date\"] = np.nan"
   ]
  },
  {
   "cell_type": "code",
   "execution_count": 11,
   "metadata": {
    "collapsed": false
   },
   "outputs": [],
   "source": [
    "#delete two movies that are messing up date function\n",
    "df = df.drop([590,258,455,456])\n"
   ]
  },
  {
   "cell_type": "code",
   "execution_count": 12,
   "metadata": {
    "collapsed": false
   },
   "outputs": [],
   "source": [
    "#parse release_dates\n",
    "df[\"release_date\"] = df[\"release_date\"].apply(str)\n",
    "df[\"release_datetime\"] = df[\"release_date\"].apply(lambda x: datetime.strptime(x, '%B %d, %Y'))\n"
   ]
  },
  {
   "cell_type": "code",
   "execution_count": 13,
   "metadata": {
    "collapsed": false
   },
   "outputs": [],
   "source": [
    "#convert release_date to datetime object\n",
    "df['release_date'] = pd.to_datetime(df['release_datetime'])"
   ]
  },
  {
   "cell_type": "markdown",
   "metadata": {},
   "source": [
    "Remove columns that cannot be used for regression"
   ]
  },
  {
   "cell_type": "code",
   "execution_count": 45,
   "metadata": {
    "collapsed": false,
    "scrolled": true
   },
   "outputs": [],
   "source": [
    "#find N/A values\n",
    "#df[df.tomatoMeter.str.contains(\"N/A\")]"
   ]
  },
  {
   "cell_type": "markdown",
   "metadata": {},
   "source": [
    "Add NaN values for missing N/A data"
   ]
  },
  {
   "cell_type": "code",
   "execution_count": 15,
   "metadata": {
    "collapsed": false
   },
   "outputs": [],
   "source": [
    "df.loc[df[\"tomatoMeter\"].str.contains(\"N/A\"), \"tomatoMeter\"] = np.nan"
   ]
  },
  {
   "cell_type": "code",
   "execution_count": 16,
   "metadata": {
    "collapsed": true
   },
   "outputs": [],
   "source": [
    "df.loc[df[\"tomatoRating\"].str.contains(\"N/A\"), \"tomatoRating\"] = np.nan"
   ]
  },
  {
   "cell_type": "code",
   "execution_count": 17,
   "metadata": {
    "collapsed": true
   },
   "outputs": [],
   "source": [
    "df.loc[df[\"tomatoReviews\"].str.contains(\"N/A\"), \"tomatoReviews\"] = np.nan"
   ]
  },
  {
   "cell_type": "code",
   "execution_count": 18,
   "metadata": {
    "collapsed": false
   },
   "outputs": [],
   "source": [
    "df.loc[df[\"tomatoRotten\"].str.contains(\"N/A\"), \"tomatoRotten\"] = np.nan\n",
    "df.loc[df[\"tomatoUserRating\"].str.contains(\"N/A\"), \"tomatoUserRating\"] = np.nan\n",
    "df.loc[df[\"tomatoUserReviews\"].str.contains(\"N/A\"), \"tomatoUserReviews\"] = np.nan\n",
    "df.loc[df[\"tomatoFresh\"].str.contains(\"N/A\"), \"tomatoFresh\"] = np.nan\n",
    "df.loc[df[\"imdbVotes\"].str.contains(\"N/A\"), \"imdbVotes\"] = np.nan\n",
    "df.loc[df[\"imdbRating\"].str.contains(\"N/A\"), \"imdbRating\"] = np.nan\n",
    "df.loc[df[\"Runtime\"].str.contains(\"N/A\"), \"Runtime\"] = np.nan"
   ]
  },
  {
   "cell_type": "markdown",
   "metadata": {},
   "source": [
    "Convert numerical data to floats"
   ]
  },
  {
   "cell_type": "code",
   "execution_count": 19,
   "metadata": {
    "collapsed": false
   },
   "outputs": [],
   "source": [
    "df[\"imdbVotes\"] = df[\"imdbVotes\"].str.replace(r'[$,]', '').astype('float')"
   ]
  },
  {
   "cell_type": "code",
   "execution_count": 20,
   "metadata": {
    "collapsed": false
   },
   "outputs": [],
   "source": [
    "df[\"tomatoMeter\"] = df[\"tomatoMeter\"].apply(float)\n",
    "df[\"tomatoRating\"] = df[\"tomatoRating\"].apply(float)\n",
    "df[\"tomatoReviews\"] = df[\"tomatoReviews\"].apply(float)\n",
    "df[\"tomatoRotten\"] = df[\"tomatoRotten\"].apply(float)\n",
    "df[\"tomatoUserRating\"] = df[\"tomatoUserRating\"].apply(float)\n",
    "df[\"tomatoUserReviews\"] = df[\"tomatoUserReviews\"].apply(float)\n",
    "df[\"tomatoFresh\"] = df[\"tomatoFresh\"].apply(float)\n",
    "df[\"imdbVotes\"] = df[\"imdbVotes\"].apply(float)\n",
    "df[\"imdbRating\"] = df[\"imdbRating\"].apply(float)\n",
    "df[\"Runtime\"] = df[\"Runtime\"].apply(float)\n"
   ]
  },
  {
   "cell_type": "markdown",
   "metadata": {},
   "source": [
    "Remove columns/features from df that cannot be used in regression"
   ]
  },
  {
   "cell_type": "code",
   "execution_count": 21,
   "metadata": {
    "collapsed": false
   },
   "outputs": [],
   "source": [
    "df = df.drop(['Plot','Poster',\"tomatoConsensus\",\"tomatoURL\",\n",
    "              \"totalSeasons\",\"imdbID\",\"Type\",\"Response\",\"BoxOffice\",\n",
    "              \"Website\",\"Error\",\"Genre\",\"release_datetime\",\"budget\",\n",
    "              \"Year\",\"Writer\",\"Awards\",\"distributor\",\"tomatoImage\",\n",
    "              \"Director\",\"Actors\",\"tomatoUserMeter\", \"Country\",\"DVD\",\n",
    "              \"Language\",\"Metascore\",\"Rated\",\"Released\"], 1)"
   ]
  },
  {
   "cell_type": "markdown",
   "metadata": {},
   "source": [
    "create dummy variables for production and rating features"
   ]
  },
  {
   "cell_type": "code",
   "execution_count": 22,
   "metadata": {
    "collapsed": false
   },
   "outputs": [],
   "source": [
    "\n",
    "d_rating = patsy.dmatrix('rating', data=df,return_type='dataframe')\n",
    "#y = df.join(d_rating)\n",
    "d_production = patsy.dmatrix('Production', data=df,return_type='dataframe')\n",
    "#z = df.join(d_production)"
   ]
  },
  {
   "cell_type": "code",
   "execution_count": 37,
   "metadata": {
    "collapsed": false
   },
   "outputs": [],
   "source": [
    "#df_join = d_rating.join(d_production)\n",
    "df_production_rating = pd.concat([d_rating,d_production, df], axis=1)"
   ]
  },
  {
   "cell_type": "code",
   "execution_count": 39,
   "metadata": {
    "collapsed": false
   },
   "outputs": [],
   "source": [
    "#add dummy variables to main dataframe\n",
    "df_rating = pd.concat([d_rating, df], axis=1)"
   ]
  },
  {
   "cell_type": "code",
   "execution_count": 40,
   "metadata": {
    "collapsed": false
   },
   "outputs": [],
   "source": [
    "#pickle dataframes for regression\n",
    "\"\"\"with open('df_production_rating', 'wb') as picklefile:\n",
    "    pickle.dump(df_production_rating , picklefile)\"\"\""
   ]
  },
  {
   "cell_type": "code",
   "execution_count": 43,
   "metadata": {
    "collapsed": true
   },
   "outputs": [],
   "source": [
    "\"\"\"with open('df_rating', 'wb') as picklefile:\n",
    "    pickle.dump(df_rating , picklefile)\"\"\""
   ]
  }
 ],
 "metadata": {
  "anaconda-cloud": {},
  "kernelspec": {
   "display_name": "Python 2",
   "language": "python",
   "name": "python2"
  },
  "language_info": {
   "codemirror_mode": {
    "name": "ipython",
    "version": 2
   },
   "file_extension": ".py",
   "mimetype": "text/x-python",
   "name": "python",
   "nbconvert_exporter": "python",
   "pygments_lexer": "ipython2",
   "version": "2.7.13"
  }
 },
 "nbformat": 4,
 "nbformat_minor": 0
}
