{
 "cells": [
  {
   "cell_type": "markdown",
   "metadata": {
    "ExecuteTime": {
     "end_time": "2017-06-14T14:20:23.479093Z",
     "start_time": "2017-06-14T14:20:23.463302"
    }
   },
   "source": [
    "### Imports"
   ]
  },
  {
   "cell_type": "code",
   "execution_count": 73,
   "metadata": {
    "ExecuteTime": {
     "end_time": "2017-06-14T14:53:05.506758Z",
     "start_time": "2017-06-14T14:53:05.486643"
    },
    "collapsed": false
   },
   "outputs": [],
   "source": [
    "import pandas as pd\n",
    "import numpy as np\n",
    "from sklearn.model_selection import train_test_split\n",
    "from sklearn.linear_model import LogisticRegression\n",
    "from sklearn.linear_model import LinearRegression\n",
    "from sklearn.preprocessing import StandardScaler"
   ]
  },
  {
   "cell_type": "markdown",
   "metadata": {
    "ExecuteTime": {
     "end_time": "2017-06-14T14:20:34.467450Z",
     "start_time": "2017-06-14T14:20:34.462636"
    }
   },
   "source": [
    "### Load Data"
   ]
  },
  {
   "cell_type": "code",
   "execution_count": 3,
   "metadata": {
    "ExecuteTime": {
     "end_time": "2017-06-14T13:29:39.424933Z",
     "start_time": "2017-06-14T13:29:39.224490"
    },
    "collapsed": false
   },
   "outputs": [],
   "source": [
    "df = pd.DataFrame.from_csv(\"AArete_data.csv\")"
   ]
  },
  {
   "cell_type": "code",
   "execution_count": 4,
   "metadata": {
    "ExecuteTime": {
     "end_time": "2017-06-14T13:29:41.864973Z",
     "start_time": "2017-06-14T13:29:41.662936"
    },
    "collapsed": false
   },
   "outputs": [
    {
     "data": {
      "text/html": [
       "<div>\n",
       "<table border=\"1\" class=\"dataframe\">\n",
       "  <thead>\n",
       "    <tr style=\"text-align: right;\">\n",
       "      <th></th>\n",
       "      <th>Age</th>\n",
       "      <th>Weight</th>\n",
       "      <th>Sex</th>\n",
       "      <th>Eye_Color</th>\n",
       "      <th>Spend_Dollars</th>\n",
       "    </tr>\n",
       "    <tr>\n",
       "      <th>PERSON_ID</th>\n",
       "      <th></th>\n",
       "      <th></th>\n",
       "      <th></th>\n",
       "      <th></th>\n",
       "      <th></th>\n",
       "    </tr>\n",
       "  </thead>\n",
       "  <tbody>\n",
       "    <tr>\n",
       "      <th>1</th>\n",
       "      <td>22</td>\n",
       "      <td>168</td>\n",
       "      <td>M</td>\n",
       "      <td>Blue</td>\n",
       "      <td>224</td>\n",
       "    </tr>\n",
       "    <tr>\n",
       "      <th>2</th>\n",
       "      <td>24</td>\n",
       "      <td>220</td>\n",
       "      <td>M</td>\n",
       "      <td>Green</td>\n",
       "      <td>600</td>\n",
       "    </tr>\n",
       "    <tr>\n",
       "      <th>3</th>\n",
       "      <td>18</td>\n",
       "      <td>175</td>\n",
       "      <td>F</td>\n",
       "      <td>NaN</td>\n",
       "      <td>1000</td>\n",
       "    </tr>\n",
       "    <tr>\n",
       "      <th>4</th>\n",
       "      <td>65</td>\n",
       "      <td>140</td>\n",
       "      <td>M</td>\n",
       "      <td>Brown</td>\n",
       "      <td>116</td>\n",
       "    </tr>\n",
       "    <tr>\n",
       "      <th>5</th>\n",
       "      <td>44</td>\n",
       "      <td>134</td>\n",
       "      <td>F</td>\n",
       "      <td>Brown</td>\n",
       "      <td>0</td>\n",
       "    </tr>\n",
       "    <tr>\n",
       "      <th>6</th>\n",
       "      <td>56</td>\n",
       "      <td>187</td>\n",
       "      <td>F</td>\n",
       "      <td>Blue</td>\n",
       "      <td>16670</td>\n",
       "    </tr>\n",
       "    <tr>\n",
       "      <th>7</th>\n",
       "      <td>21</td>\n",
       "      <td>199</td>\n",
       "      <td>F</td>\n",
       "      <td>Blue</td>\n",
       "      <td>589</td>\n",
       "    </tr>\n",
       "    <tr>\n",
       "      <th>8</th>\n",
       "      <td>16</td>\n",
       "      <td>165</td>\n",
       "      <td>M</td>\n",
       "      <td>NaN</td>\n",
       "      <td>44</td>\n",
       "    </tr>\n",
       "    <tr>\n",
       "      <th>9</th>\n",
       "      <td>78</td>\n",
       "      <td>166</td>\n",
       "      <td>M</td>\n",
       "      <td>Blue</td>\n",
       "      <td>1155</td>\n",
       "    </tr>\n",
       "    <tr>\n",
       "      <th>10</th>\n",
       "      <td>87</td>\n",
       "      <td>500</td>\n",
       "      <td>NaN</td>\n",
       "      <td>Blue</td>\n",
       "      <td>5841</td>\n",
       "    </tr>\n",
       "  </tbody>\n",
       "</table>\n",
       "</div>"
      ],
      "text/plain": [
       "           Age  Weight  Sex Eye_Color  Spend_Dollars\n",
       "PERSON_ID                                           \n",
       "1           22     168    M      Blue            224\n",
       "2           24     220    M     Green            600\n",
       "3           18     175    F       NaN           1000\n",
       "4           65     140    M     Brown            116\n",
       "5           44     134    F     Brown              0\n",
       "6           56     187    F      Blue          16670\n",
       "7           21     199    F      Blue            589\n",
       "8           16     165    M       NaN             44\n",
       "9           78     166    M      Blue           1155\n",
       "10          87     500  NaN      Blue           5841"
      ]
     },
     "execution_count": 4,
     "metadata": {},
     "output_type": "execute_result"
    }
   ],
   "source": [
    "df"
   ]
  },
  {
   "cell_type": "markdown",
   "metadata": {
    "ExecuteTime": {
     "end_time": "2017-06-14T14:20:49.034672Z",
     "start_time": "2017-06-14T14:20:49.030864"
    }
   },
   "source": [
    "### Questions"
   ]
  },
  {
   "cell_type": "markdown",
   "metadata": {},
   "source": [
    "Question 1: \n",
    "Create a binary variable for “Spend_Dollars” to a binary classifier that is &gt;=1000 and &lt;1000"
   ]
  },
  {
   "cell_type": "code",
   "execution_count": 7,
   "metadata": {
    "ExecuteTime": {
     "end_time": "2017-06-14T13:39:04.240582Z",
     "start_time": "2017-06-14T13:39:04.235284"
    },
    "collapsed": true
   },
   "outputs": [],
   "source": [
    "df[\"above_below_1000\"] = df.Spend_Dollars >= 1000"
   ]
  },
  {
   "cell_type": "code",
   "execution_count": 8,
   "metadata": {
    "ExecuteTime": {
     "end_time": "2017-06-14T13:39:05.084896Z",
     "start_time": "2017-06-14T13:39:05.013612"
    },
    "collapsed": false
   },
   "outputs": [
    {
     "data": {
      "text/html": [
       "<div>\n",
       "<table border=\"1\" class=\"dataframe\">\n",
       "  <thead>\n",
       "    <tr style=\"text-align: right;\">\n",
       "      <th></th>\n",
       "      <th>Age</th>\n",
       "      <th>Weight</th>\n",
       "      <th>Sex</th>\n",
       "      <th>Eye_Color</th>\n",
       "      <th>Spend_Dollars</th>\n",
       "      <th>above_below_1000</th>\n",
       "    </tr>\n",
       "    <tr>\n",
       "      <th>PERSON_ID</th>\n",
       "      <th></th>\n",
       "      <th></th>\n",
       "      <th></th>\n",
       "      <th></th>\n",
       "      <th></th>\n",
       "      <th></th>\n",
       "    </tr>\n",
       "  </thead>\n",
       "  <tbody>\n",
       "    <tr>\n",
       "      <th>1</th>\n",
       "      <td>22</td>\n",
       "      <td>168</td>\n",
       "      <td>M</td>\n",
       "      <td>Blue</td>\n",
       "      <td>224</td>\n",
       "      <td>False</td>\n",
       "    </tr>\n",
       "    <tr>\n",
       "      <th>2</th>\n",
       "      <td>24</td>\n",
       "      <td>220</td>\n",
       "      <td>M</td>\n",
       "      <td>Green</td>\n",
       "      <td>600</td>\n",
       "      <td>False</td>\n",
       "    </tr>\n",
       "    <tr>\n",
       "      <th>3</th>\n",
       "      <td>18</td>\n",
       "      <td>175</td>\n",
       "      <td>F</td>\n",
       "      <td>NaN</td>\n",
       "      <td>1000</td>\n",
       "      <td>True</td>\n",
       "    </tr>\n",
       "    <tr>\n",
       "      <th>4</th>\n",
       "      <td>65</td>\n",
       "      <td>140</td>\n",
       "      <td>M</td>\n",
       "      <td>Brown</td>\n",
       "      <td>116</td>\n",
       "      <td>False</td>\n",
       "    </tr>\n",
       "    <tr>\n",
       "      <th>5</th>\n",
       "      <td>44</td>\n",
       "      <td>134</td>\n",
       "      <td>F</td>\n",
       "      <td>Brown</td>\n",
       "      <td>0</td>\n",
       "      <td>False</td>\n",
       "    </tr>\n",
       "    <tr>\n",
       "      <th>6</th>\n",
       "      <td>56</td>\n",
       "      <td>187</td>\n",
       "      <td>F</td>\n",
       "      <td>Blue</td>\n",
       "      <td>16670</td>\n",
       "      <td>True</td>\n",
       "    </tr>\n",
       "    <tr>\n",
       "      <th>7</th>\n",
       "      <td>21</td>\n",
       "      <td>199</td>\n",
       "      <td>F</td>\n",
       "      <td>Blue</td>\n",
       "      <td>589</td>\n",
       "      <td>False</td>\n",
       "    </tr>\n",
       "    <tr>\n",
       "      <th>8</th>\n",
       "      <td>16</td>\n",
       "      <td>165</td>\n",
       "      <td>M</td>\n",
       "      <td>NaN</td>\n",
       "      <td>44</td>\n",
       "      <td>False</td>\n",
       "    </tr>\n",
       "    <tr>\n",
       "      <th>9</th>\n",
       "      <td>78</td>\n",
       "      <td>166</td>\n",
       "      <td>M</td>\n",
       "      <td>Blue</td>\n",
       "      <td>1155</td>\n",
       "      <td>True</td>\n",
       "    </tr>\n",
       "    <tr>\n",
       "      <th>10</th>\n",
       "      <td>87</td>\n",
       "      <td>500</td>\n",
       "      <td>NaN</td>\n",
       "      <td>Blue</td>\n",
       "      <td>5841</td>\n",
       "      <td>True</td>\n",
       "    </tr>\n",
       "  </tbody>\n",
       "</table>\n",
       "</div>"
      ],
      "text/plain": [
       "           Age  Weight  Sex Eye_Color  Spend_Dollars above_below_1000\n",
       "PERSON_ID                                                            \n",
       "1           22     168    M      Blue            224            False\n",
       "2           24     220    M     Green            600            False\n",
       "3           18     175    F       NaN           1000             True\n",
       "4           65     140    M     Brown            116            False\n",
       "5           44     134    F     Brown              0            False\n",
       "6           56     187    F      Blue          16670             True\n",
       "7           21     199    F      Blue            589            False\n",
       "8           16     165    M       NaN             44            False\n",
       "9           78     166    M      Blue           1155             True\n",
       "10          87     500  NaN      Blue           5841             True"
      ]
     },
     "execution_count": 8,
     "metadata": {},
     "output_type": "execute_result"
    }
   ],
   "source": [
    "df"
   ]
  },
  {
   "cell_type": "markdown",
   "metadata": {},
   "source": [
    "Question 2: Write a pairwise correlation matrix for all numeric variables"
   ]
  },
  {
   "cell_type": "code",
   "execution_count": 10,
   "metadata": {
    "ExecuteTime": {
     "end_time": "2017-06-14T13:40:26.347468Z",
     "start_time": "2017-06-14T13:40:26.121314"
    },
    "collapsed": false
   },
   "outputs": [
    {
     "data": {
      "text/html": [
       "<div>\n",
       "<table border=\"1\" class=\"dataframe\">\n",
       "  <thead>\n",
       "    <tr style=\"text-align: right;\">\n",
       "      <th></th>\n",
       "      <th>Age</th>\n",
       "      <th>Weight</th>\n",
       "      <th>Spend_Dollars</th>\n",
       "      <th>above_below_1000</th>\n",
       "    </tr>\n",
       "  </thead>\n",
       "  <tbody>\n",
       "    <tr>\n",
       "      <th>Age</th>\n",
       "      <td>1.000000</td>\n",
       "      <td>0.480046</td>\n",
       "      <td>0.363910</td>\n",
       "      <td>0.535086</td>\n",
       "    </tr>\n",
       "    <tr>\n",
       "      <th>Weight</th>\n",
       "      <td>0.480046</td>\n",
       "      <td>1.000000</td>\n",
       "      <td>0.264104</td>\n",
       "      <td>0.416622</td>\n",
       "    </tr>\n",
       "    <tr>\n",
       "      <th>Spend_Dollars</th>\n",
       "      <td>0.363910</td>\n",
       "      <td>0.264104</td>\n",
       "      <td>1.000000</td>\n",
       "      <td>0.582876</td>\n",
       "    </tr>\n",
       "    <tr>\n",
       "      <th>above_below_1000</th>\n",
       "      <td>0.535086</td>\n",
       "      <td>0.416622</td>\n",
       "      <td>0.582876</td>\n",
       "      <td>1.000000</td>\n",
       "    </tr>\n",
       "  </tbody>\n",
       "</table>\n",
       "</div>"
      ],
      "text/plain": [
       "                       Age    Weight  Spend_Dollars  above_below_1000\n",
       "Age               1.000000  0.480046       0.363910          0.535086\n",
       "Weight            0.480046  1.000000       0.264104          0.416622\n",
       "Spend_Dollars     0.363910  0.264104       1.000000          0.582876\n",
       "above_below_1000  0.535086  0.416622       0.582876          1.000000"
      ]
     },
     "execution_count": 10,
     "metadata": {},
     "output_type": "execute_result"
    }
   ],
   "source": [
    "df.corr()"
   ]
  },
  {
   "cell_type": "markdown",
   "metadata": {},
   "source": [
    "Question 3:"
   ]
  },
  {
   "cell_type": "markdown",
   "metadata": {},
   "source": [
    "From your binary variable from # 1, write a simple logistic regression model with the variables\n",
    "\n",
    "Eye Color, Weight, Sex\n",
    "\n",
    "a. How would you calculate an ROC Curve? Syntax not required. Keep answer 4-5\n",
    "\n",
    "sentences"
   ]
  },
  {
   "cell_type": "markdown",
   "metadata": {
    "ExecuteTime": {
     "end_time": "2017-06-14T13:59:51.536690Z",
     "start_time": "2017-06-14T13:59:51.485004"
    }
   },
   "source": [
    "Create Dummy Variables"
   ]
  },
  {
   "cell_type": "code",
   "execution_count": 27,
   "metadata": {
    "ExecuteTime": {
     "end_time": "2017-06-14T13:58:16.532303Z",
     "start_time": "2017-06-14T13:58:16.527328"
    },
    "collapsed": false
   },
   "outputs": [],
   "source": [
    "df_eye_color = pd.get_dummies(df[\"Eye_Color\"])"
   ]
  },
  {
   "cell_type": "code",
   "execution_count": 29,
   "metadata": {
    "ExecuteTime": {
     "end_time": "2017-06-14T13:59:12.420828Z",
     "start_time": "2017-06-14T13:59:12.414612"
    },
    "collapsed": true
   },
   "outputs": [],
   "source": [
    "df_sex = pd.get_dummies(df[\"Sex\"])"
   ]
  },
  {
   "cell_type": "code",
   "execution_count": 30,
   "metadata": {
    "ExecuteTime": {
     "end_time": "2017-06-14T13:59:31.990840Z",
     "start_time": "2017-06-14T13:59:31.927229"
    },
    "collapsed": false
   },
   "outputs": [],
   "source": [
    "df = pd.concat([df, df_eye_color, df_sex], axis=1, join='inner')"
   ]
  },
  {
   "cell_type": "code",
   "execution_count": 33,
   "metadata": {
    "ExecuteTime": {
     "end_time": "2017-06-14T14:00:00.898208Z",
     "start_time": "2017-06-14T14:00:00.867710"
    },
    "collapsed": false
   },
   "outputs": [
    {
     "data": {
      "text/html": [
       "<div>\n",
       "<table border=\"1\" class=\"dataframe\">\n",
       "  <thead>\n",
       "    <tr style=\"text-align: right;\">\n",
       "      <th></th>\n",
       "      <th>Age</th>\n",
       "      <th>Weight</th>\n",
       "      <th>Sex</th>\n",
       "      <th>Eye_Color</th>\n",
       "      <th>Spend_Dollars</th>\n",
       "      <th>above_below_1000</th>\n",
       "      <th>Blue</th>\n",
       "      <th>Brown</th>\n",
       "      <th>Green</th>\n",
       "      <th>F</th>\n",
       "      <th>M</th>\n",
       "    </tr>\n",
       "    <tr>\n",
       "      <th>PERSON_ID</th>\n",
       "      <th></th>\n",
       "      <th></th>\n",
       "      <th></th>\n",
       "      <th></th>\n",
       "      <th></th>\n",
       "      <th></th>\n",
       "      <th></th>\n",
       "      <th></th>\n",
       "      <th></th>\n",
       "      <th></th>\n",
       "      <th></th>\n",
       "    </tr>\n",
       "  </thead>\n",
       "  <tbody>\n",
       "    <tr>\n",
       "      <th>1</th>\n",
       "      <td>22</td>\n",
       "      <td>168</td>\n",
       "      <td>M</td>\n",
       "      <td>Blue</td>\n",
       "      <td>224</td>\n",
       "      <td>False</td>\n",
       "      <td>1</td>\n",
       "      <td>0</td>\n",
       "      <td>0</td>\n",
       "      <td>0</td>\n",
       "      <td>1</td>\n",
       "    </tr>\n",
       "    <tr>\n",
       "      <th>2</th>\n",
       "      <td>24</td>\n",
       "      <td>220</td>\n",
       "      <td>M</td>\n",
       "      <td>Green</td>\n",
       "      <td>600</td>\n",
       "      <td>False</td>\n",
       "      <td>0</td>\n",
       "      <td>0</td>\n",
       "      <td>1</td>\n",
       "      <td>0</td>\n",
       "      <td>1</td>\n",
       "    </tr>\n",
       "    <tr>\n",
       "      <th>3</th>\n",
       "      <td>18</td>\n",
       "      <td>175</td>\n",
       "      <td>F</td>\n",
       "      <td>NaN</td>\n",
       "      <td>1000</td>\n",
       "      <td>True</td>\n",
       "      <td>0</td>\n",
       "      <td>0</td>\n",
       "      <td>0</td>\n",
       "      <td>1</td>\n",
       "      <td>0</td>\n",
       "    </tr>\n",
       "    <tr>\n",
       "      <th>4</th>\n",
       "      <td>65</td>\n",
       "      <td>140</td>\n",
       "      <td>M</td>\n",
       "      <td>Brown</td>\n",
       "      <td>116</td>\n",
       "      <td>False</td>\n",
       "      <td>0</td>\n",
       "      <td>1</td>\n",
       "      <td>0</td>\n",
       "      <td>0</td>\n",
       "      <td>1</td>\n",
       "    </tr>\n",
       "    <tr>\n",
       "      <th>5</th>\n",
       "      <td>44</td>\n",
       "      <td>134</td>\n",
       "      <td>F</td>\n",
       "      <td>Brown</td>\n",
       "      <td>0</td>\n",
       "      <td>False</td>\n",
       "      <td>0</td>\n",
       "      <td>1</td>\n",
       "      <td>0</td>\n",
       "      <td>1</td>\n",
       "      <td>0</td>\n",
       "    </tr>\n",
       "    <tr>\n",
       "      <th>6</th>\n",
       "      <td>56</td>\n",
       "      <td>187</td>\n",
       "      <td>F</td>\n",
       "      <td>Blue</td>\n",
       "      <td>16670</td>\n",
       "      <td>True</td>\n",
       "      <td>1</td>\n",
       "      <td>0</td>\n",
       "      <td>0</td>\n",
       "      <td>1</td>\n",
       "      <td>0</td>\n",
       "    </tr>\n",
       "    <tr>\n",
       "      <th>7</th>\n",
       "      <td>21</td>\n",
       "      <td>199</td>\n",
       "      <td>F</td>\n",
       "      <td>Blue</td>\n",
       "      <td>589</td>\n",
       "      <td>False</td>\n",
       "      <td>1</td>\n",
       "      <td>0</td>\n",
       "      <td>0</td>\n",
       "      <td>1</td>\n",
       "      <td>0</td>\n",
       "    </tr>\n",
       "    <tr>\n",
       "      <th>8</th>\n",
       "      <td>16</td>\n",
       "      <td>165</td>\n",
       "      <td>M</td>\n",
       "      <td>NaN</td>\n",
       "      <td>44</td>\n",
       "      <td>False</td>\n",
       "      <td>0</td>\n",
       "      <td>0</td>\n",
       "      <td>0</td>\n",
       "      <td>0</td>\n",
       "      <td>1</td>\n",
       "    </tr>\n",
       "    <tr>\n",
       "      <th>9</th>\n",
       "      <td>78</td>\n",
       "      <td>166</td>\n",
       "      <td>M</td>\n",
       "      <td>Blue</td>\n",
       "      <td>1155</td>\n",
       "      <td>True</td>\n",
       "      <td>1</td>\n",
       "      <td>0</td>\n",
       "      <td>0</td>\n",
       "      <td>0</td>\n",
       "      <td>1</td>\n",
       "    </tr>\n",
       "    <tr>\n",
       "      <th>10</th>\n",
       "      <td>87</td>\n",
       "      <td>500</td>\n",
       "      <td>NaN</td>\n",
       "      <td>Blue</td>\n",
       "      <td>5841</td>\n",
       "      <td>True</td>\n",
       "      <td>1</td>\n",
       "      <td>0</td>\n",
       "      <td>0</td>\n",
       "      <td>0</td>\n",
       "      <td>0</td>\n",
       "    </tr>\n",
       "  </tbody>\n",
       "</table>\n",
       "</div>"
      ],
      "text/plain": [
       "           Age  Weight  Sex Eye_Color  Spend_Dollars above_below_1000  Blue  \\\n",
       "PERSON_ID                                                                     \n",
       "1           22     168    M      Blue            224            False     1   \n",
       "2           24     220    M     Green            600            False     0   \n",
       "3           18     175    F       NaN           1000             True     0   \n",
       "4           65     140    M     Brown            116            False     0   \n",
       "5           44     134    F     Brown              0            False     0   \n",
       "6           56     187    F      Blue          16670             True     1   \n",
       "7           21     199    F      Blue            589            False     1   \n",
       "8           16     165    M       NaN             44            False     0   \n",
       "9           78     166    M      Blue           1155             True     1   \n",
       "10          87     500  NaN      Blue           5841             True     1   \n",
       "\n",
       "           Brown  Green  F  M  \n",
       "PERSON_ID                      \n",
       "1              0      0  0  1  \n",
       "2              0      1  0  1  \n",
       "3              0      0  1  0  \n",
       "4              1      0  0  1  \n",
       "5              1      0  1  0  \n",
       "6              0      0  1  0  \n",
       "7              0      0  1  0  \n",
       "8              0      0  0  1  \n",
       "9              0      0  0  1  \n",
       "10             0      0  0  0  "
      ]
     },
     "execution_count": 33,
     "metadata": {},
     "output_type": "execute_result"
    }
   ],
   "source": [
    "#new df\n",
    "df"
   ]
  },
  {
   "cell_type": "code",
   "execution_count": 47,
   "metadata": {
    "ExecuteTime": {
     "end_time": "2017-06-14T14:23:35.721815Z",
     "start_time": "2017-06-14T14:23:35.705191"
    },
    "collapsed": false
   },
   "outputs": [],
   "source": [
    "X = df[[\"Blue\",\"Brown\",\"M\",\"Weight\"]]\n",
    "y = df[\"above_below_1000\"]"
   ]
  },
  {
   "cell_type": "code",
   "execution_count": 48,
   "metadata": {
    "ExecuteTime": {
     "end_time": "2017-06-14T14:23:36.239013Z",
     "start_time": "2017-06-14T14:23:36.225502"
    },
    "collapsed": true
   },
   "outputs": [],
   "source": [
    "#train test split\n",
    "X_train, X_test, y_train, y_test = train_test_split(X, y, test_size=0.33, random_state=42)"
   ]
  },
  {
   "cell_type": "code",
   "execution_count": 49,
   "metadata": {
    "ExecuteTime": {
     "end_time": "2017-06-14T14:23:36.673108Z",
     "start_time": "2017-06-14T14:23:36.656225"
    },
    "collapsed": false
   },
   "outputs": [
    {
     "data": {
      "text/plain": [
       "LogisticRegression(C=1.0, class_weight=None, dual=False, fit_intercept=True,\n",
       "          intercept_scaling=1, max_iter=100, multi_class='ovr', n_jobs=1,\n",
       "          penalty='l2', random_state=None, solver='liblinear', tol=0.0001,\n",
       "          verbose=0, warm_start=False)"
      ]
     },
     "execution_count": 49,
     "metadata": {},
     "output_type": "execute_result"
    }
   ],
   "source": [
    "# Create logistic regression object\n",
    "logistic = linear_model.LogisticRegression()\n",
    "\n",
    "# Train the model using the training sets\n",
    "logistic.fit(X, y)"
   ]
  },
  {
   "cell_type": "code",
   "execution_count": 50,
   "metadata": {
    "ExecuteTime": {
     "end_time": "2017-06-14T14:23:38.833654Z",
     "start_time": "2017-06-14T14:23:38.825327"
    },
    "collapsed": false
   },
   "outputs": [
    {
     "name": "stdout",
     "output_type": "stream",
     "text": [
      "Coefficients: \n",
      " [[ 0.29188707 -0.55024557 -0.68830048  0.00251134]]\n"
     ]
    }
   ],
   "source": [
    "# The coefficients\n",
    "print('Coefficients: \\n', logistic.coef_)"
   ]
  },
  {
   "cell_type": "markdown",
   "metadata": {},
   "source": [
    "ROC: \n",
    "\n",
    "A ROC plots the true positives versus the false positives and can help us set a threshold to maximize true positves while while minimizing false positives. To do this you determine the Sensitivity = TP/(TP + FN) and the Specificity = TN/(TN + FP). You then graph 1-Specificity on the x-axis and the Sensitivity on the y-axis. In a perfect scenario the TP will be 1 and the FP will be 0, this represented by the uper left corner of the graph. "
   ]
  },
  {
   "cell_type": "markdown",
   "metadata": {},
   "source": [
    "Question 4: Create a simple linear regression with your dependent variable as spend_dollars, and the\n",
    "\n",
    "following variables, sex, weight. Assume your target is normally distributed\n",
    "\n",
    "a. How would you interpret the coefficient for sex? For weight? Syntax not required\n",
    "\n",
    "b. Suppose your target variable is right-skewed, what steps would you take to adjust your\n",
    "\n",
    "model? Syntax not required, Keep answer to 4-5 sentences."
   ]
  },
  {
   "cell_type": "code",
   "execution_count": 69,
   "metadata": {
    "ExecuteTime": {
     "end_time": "2017-06-14T14:34:43.791817Z",
     "start_time": "2017-06-14T14:34:43.783941"
    },
    "collapsed": true
   },
   "outputs": [],
   "source": [
    "X_reg = df[[\"M\",\"F\",\"Weight\"]]\n",
    "y_reg = df[\"Spend_Dollars\"]\n"
   ]
  },
  {
   "cell_type": "code",
   "execution_count": null,
   "metadata": {
    "ExecuteTime": {
     "end_time": "2017-06-14T14:28:51.560668Z",
     "start_time": "2017-06-14T14:28:51.542409"
    },
    "collapsed": false
   },
   "outputs": [],
   "source": []
  },
  {
   "cell_type": "code",
   "execution_count": 70,
   "metadata": {
    "ExecuteTime": {
     "end_time": "2017-06-14T14:34:45.122844Z",
     "start_time": "2017-06-14T14:34:45.084352"
    },
    "collapsed": false
   },
   "outputs": [
    {
     "data": {
      "text/plain": [
       "LinearRegression(copy_X=True, fit_intercept=True, n_jobs=1, normalize=False)"
      ]
     },
     "execution_count": 70,
     "metadata": {},
     "output_type": "execute_result"
    }
   ],
   "source": [
    "# Create logistic regression object\n",
    "reg = linear_model.LinearRegression()\n",
    "\n",
    "# Train the model using the training sets\n",
    "reg.fit(X_reg, y_reg)"
   ]
  },
  {
   "cell_type": "code",
   "execution_count": 71,
   "metadata": {
    "ExecuteTime": {
     "end_time": "2017-06-14T14:34:46.565286Z",
     "start_time": "2017-06-14T14:34:46.557808"
    },
    "collapsed": false
   },
   "outputs": [
    {
     "name": "stdout",
     "output_type": "stream",
     "text": [
      "Coefficients: \n",
      " [  8923.07679165  12974.84781619     43.68152587]\n"
     ]
    }
   ],
   "source": [
    "# The coefficients\n",
    "print('Coefficients: \\n', reg.coef_)"
   ]
  },
  {
   "cell_type": "markdown",
   "metadata": {},
   "source": [
    "Interpreting coefficients:\n",
    "\n",
    "Weight: This is a continuous variable so for every one unit increase in weight, we can expect the dollars spent to go up about $43.7\n",
    "\n",
    "Sex: This is a categorical variable. So if the person is female, we can expect the dollars spent to go up 8923 and if male the amount spent will is expected to be 12974. (Typically, one dummy variable should be dropped to reduce the redundancy. If a person is male, you know they are not female, so we don't need the femal column)"
   ]
  },
  {
   "cell_type": "markdown",
   "metadata": {},
   "source": [
    "Right Skew: if the model has a skew the data can be standardized to set the mean to 0 and with 1 unit variance. "
   ]
  },
  {
   "cell_type": "markdown",
   "metadata": {
    "ExecuteTime": {
     "end_time": "2017-06-14T14:52:09.178446Z",
     "start_time": "2017-06-14T14:52:09.111147"
    }
   },
   "source": [
    "Question 5: Write a function to standardize your Spend_Dollars to a new variable\n",
    "\n",
    "Spend_Dollars_Standardized"
   ]
  },
  {
   "cell_type": "code",
   "execution_count": 78,
   "metadata": {
    "ExecuteTime": {
     "end_time": "2017-06-14T14:54:42.196561Z",
     "start_time": "2017-06-14T14:54:42.189639"
    },
    "collapsed": false
   },
   "outputs": [
    {
     "name": "stderr",
     "output_type": "stream",
     "text": [
      "/Users/anaelisagentle/anaconda/lib/python3.6/site-packages/sklearn/utils/validation.py:429: DataConversionWarning: Data with input dtype int64 was converted to float64 by StandardScaler.\n",
      "  warnings.warn(msg, _DataConversionWarning)\n",
      "/Users/anaelisagentle/anaconda/lib/python3.6/site-packages/sklearn/preprocessing/data.py:586: DeprecationWarning: Passing 1d arrays as data is deprecated in 0.17 and will raise ValueError in 0.19. Reshape your data either using X.reshape(-1, 1) if your data has a single feature or X.reshape(1, -1) if it contains a single sample.\n",
      "  warnings.warn(DEPRECATION_MSG_1D, DeprecationWarning)\n",
      "/Users/anaelisagentle/anaconda/lib/python3.6/site-packages/sklearn/preprocessing/data.py:649: DeprecationWarning: Passing 1d arrays as data is deprecated in 0.17 and will raise ValueError in 0.19. Reshape your data either using X.reshape(-1, 1) if your data has a single feature or X.reshape(1, -1) if it contains a single sample.\n",
      "  warnings.warn(DEPRECATION_MSG_1D, DeprecationWarning)\n"
     ]
    }
   ],
   "source": [
    "Spend_Dollars_Standardized = StandardScaler().fit_transform(df.Spend_Dollars)"
   ]
  },
  {
   "cell_type": "code",
   "execution_count": 79,
   "metadata": {
    "ExecuteTime": {
     "end_time": "2017-06-14T14:54:46.192633Z",
     "start_time": "2017-06-14T14:54:46.183429"
    },
    "collapsed": false
   },
   "outputs": [
    {
     "data": {
      "text/plain": [
       "array([-0.48360693, -0.40783869, -0.32723418, -0.50537015, -0.52874546,\n",
       "        2.83044767, -0.41005532, -0.51987897, -0.29599993,  0.64828196])"
      ]
     },
     "execution_count": 79,
     "metadata": {},
     "output_type": "execute_result"
    }
   ],
   "source": [
    "Spend_Dollars_Standardized"
   ]
  },
  {
   "cell_type": "markdown",
   "metadata": {},
   "source": [
    "6) Create a for loop to print each age"
   ]
  },
  {
   "cell_type": "code",
   "execution_count": 89,
   "metadata": {
    "ExecuteTime": {
     "end_time": "2017-06-14T14:58:02.173133Z",
     "start_time": "2017-06-14T14:58:02.164326"
    },
    "collapsed": false
   },
   "outputs": [
    {
     "data": {
      "text/plain": [
       "PERSON_ID\n",
       "1     22\n",
       "2     24\n",
       "3     18\n",
       "4     65\n",
       "5     44\n",
       "6     56\n",
       "7     21\n",
       "8     16\n",
       "9     78\n",
       "10    87\n",
       "Name: Age, dtype: int64"
      ]
     },
     "execution_count": 89,
     "metadata": {},
     "output_type": "execute_result"
    }
   ],
   "source": [
    "df.Age.apply(lambda x: x)"
   ]
  },
  {
   "cell_type": "code",
   "execution_count": null,
   "metadata": {
    "collapsed": true
   },
   "outputs": [],
   "source": []
  }
 ],
 "metadata": {
  "kernelspec": {
   "display_name": "Python 3",
   "language": "python",
   "name": "python3"
  },
  "language_info": {
   "codemirror_mode": {
    "name": "ipython",
    "version": 3
   },
   "file_extension": ".py",
   "mimetype": "text/x-python",
   "name": "python",
   "nbconvert_exporter": "python",
   "pygments_lexer": "ipython3",
   "version": "3.6.0"
  }
 },
 "nbformat": 4,
 "nbformat_minor": 2
}
