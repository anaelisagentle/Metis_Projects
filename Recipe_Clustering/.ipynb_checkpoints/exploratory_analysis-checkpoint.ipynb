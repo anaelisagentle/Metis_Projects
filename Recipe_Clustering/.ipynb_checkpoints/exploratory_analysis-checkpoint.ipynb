{
 "cells": [
  {
   "cell_type": "code",
   "execution_count": 2,
   "metadata": {
    "collapsed": false
   },
   "outputs": [],
   "source": [
    "import pandas as pd\n",
    "import matplotlib.pyplot as plt\n",
    "\n",
    "%matplotlib inline "
   ]
  },
  {
   "cell_type": "code",
   "execution_count": 4,
   "metadata": {
    "collapsed": false
   },
   "outputs": [],
   "source": [
    "# reading the file as dataframe and getting summary #\n",
    "df = pd.read_json('train.json')"
   ]
  },
  {
   "cell_type": "code",
   "execution_count": 6,
   "metadata": {
    "collapsed": false
   },
   "outputs": [
    {
     "data": {
      "text/html": [
       "<div>\n",
       "<table border=\"1\" class=\"dataframe\">\n",
       "  <thead>\n",
       "    <tr style=\"text-align: right;\">\n",
       "      <th></th>\n",
       "      <th>cuisine</th>\n",
       "      <th>id</th>\n",
       "      <th>ingredients</th>\n",
       "    </tr>\n",
       "  </thead>\n",
       "  <tbody>\n",
       "    <tr>\n",
       "      <th>0</th>\n",
       "      <td>greek</td>\n",
       "      <td>10259</td>\n",
       "      <td>[romaine lettuce, black olives, grape tomatoes...</td>\n",
       "    </tr>\n",
       "    <tr>\n",
       "      <th>1</th>\n",
       "      <td>southern_us</td>\n",
       "      <td>25693</td>\n",
       "      <td>[plain flour, ground pepper, salt, tomatoes, g...</td>\n",
       "    </tr>\n",
       "    <tr>\n",
       "      <th>2</th>\n",
       "      <td>filipino</td>\n",
       "      <td>20130</td>\n",
       "      <td>[eggs, pepper, salt, mayonaise, cooking oil, g...</td>\n",
       "    </tr>\n",
       "    <tr>\n",
       "      <th>3</th>\n",
       "      <td>indian</td>\n",
       "      <td>22213</td>\n",
       "      <td>[water, vegetable oil, wheat, salt]</td>\n",
       "    </tr>\n",
       "    <tr>\n",
       "      <th>4</th>\n",
       "      <td>indian</td>\n",
       "      <td>13162</td>\n",
       "      <td>[black pepper, shallots, cornflour, cayenne pe...</td>\n",
       "    </tr>\n",
       "  </tbody>\n",
       "</table>\n",
       "</div>"
      ],
      "text/plain": [
       "       cuisine     id                                        ingredients\n",
       "0        greek  10259  [romaine lettuce, black olives, grape tomatoes...\n",
       "1  southern_us  25693  [plain flour, ground pepper, salt, tomatoes, g...\n",
       "2     filipino  20130  [eggs, pepper, salt, mayonaise, cooking oil, g...\n",
       "3       indian  22213                [water, vegetable oil, wheat, salt]\n",
       "4       indian  13162  [black pepper, shallots, cornflour, cayenne pe..."
      ]
     },
     "execution_count": 6,
     "metadata": {},
     "output_type": "execute_result"
    }
   ],
   "source": [
    "df.head()"
   ]
  },
  {
   "cell_type": "code",
   "execution_count": 7,
   "metadata": {
    "collapsed": true
   },
   "outputs": [],
   "source": [
    "# grouping the rows based on id and get the rainfall #\n",
    "df_grouped = df.groupby(['cuisine'])"
   ]
  },
  {
   "cell_type": "code",
   "execution_count": null,
   "metadata": {
    "collapsed": false
   },
   "outputs": [],
   "source": []
  },
  {
   "cell_type": "code",
   "execution_count": 10,
   "metadata": {
    "collapsed": false
   },
   "outputs": [
    {
     "name": "stdout",
     "output_type": "stream",
     "text": [
      "brazilian       ->        467\n",
      "british         ->        804\n",
      "cajun_creole    ->       1546\n",
      "chinese         ->       2673\n",
      "filipino        ->        755\n",
      "french          ->       2646\n",
      "greek           ->       1175\n",
      "indian          ->       3003\n",
      "irish           ->        667\n",
      "italian         ->       7838\n",
      "jamaican        ->        526\n",
      "japanese        ->       1423\n",
      "korean          ->        830\n",
      "mexican         ->       6438\n",
      "moroccan        ->        821\n",
      "russian         ->        489\n",
      "southern_us     ->       4320\n",
      "spanish         ->        989\n",
      "thai            ->       1539\n",
      "vietnamese      ->        825\n"
     ]
    },
    {
     "data": {
      "text/plain": [
       "0        [None, None, None, None, None, None, None, Non...\n",
       "1        [None, None, None, None, None, None, None, Non...\n",
       "2        [None, None, None, None, None, None, None, Non...\n",
       "3                                 [None, None, None, None]\n",
       "4        [None, None, None, None, None, None, None, Non...\n",
       "5        [None, None, None, None, None, None, None, Non...\n",
       "6        [None, None, None, None, None, None, None, Non...\n",
       "7        [None, None, None, None, None, None, None, Non...\n",
       "8        [None, None, None, None, None, None, None, Non...\n",
       "9                     [None, None, None, None, None, None]\n",
       "10       [None, None, None, None, None, None, None, Non...\n",
       "11       [None, None, None, None, None, None, None, Non...\n",
       "12       [None, None, None, None, None, None, None, Non...\n",
       "13       [None, None, None, None, None, None, None, Non...\n",
       "14       [None, None, None, None, None, None, None, Non...\n",
       "15       [None, None, None, None, None, None, None, Non...\n",
       "16                                [None, None, None, None]\n",
       "17                                [None, None, None, None]\n",
       "18                                [None, None, None, None]\n",
       "19       [None, None, None, None, None, None, None, Non...\n",
       "20       [None, None, None, None, None, None, None, Non...\n",
       "21                    [None, None, None, None, None, None]\n",
       "22                    [None, None, None, None, None, None]\n",
       "23       [None, None, None, None, None, None, None, Non...\n",
       "24       [None, None, None, None, None, None, None, Non...\n",
       "25       [None, None, None, None, None, None, None, Non...\n",
       "26       [None, None, None, None, None, None, None, Non...\n",
       "27       [None, None, None, None, None, None, None, Non...\n",
       "28       [None, None, None, None, None, None, None, Non...\n",
       "29                                [None, None, None, None]\n",
       "                               ...                        \n",
       "39744     [None, None, None, None, None, None, None, None]\n",
       "39745                             [None, None, None, None]\n",
       "39746    [None, None, None, None, None, None, None, Non...\n",
       "39747                 [None, None, None, None, None, None]\n",
       "39748     [None, None, None, None, None, None, None, None]\n",
       "39749    [None, None, None, None, None, None, None, Non...\n",
       "39750    [None, None, None, None, None, None, None, Non...\n",
       "39751    [None, None, None, None, None, None, None, Non...\n",
       "39752                       [None, None, None, None, None]\n",
       "39753    [None, None, None, None, None, None, None, Non...\n",
       "39754    [None, None, None, None, None, None, None, Non...\n",
       "39755    [None, None, None, None, None, None, None, Non...\n",
       "39756    [None, None, None, None, None, None, None, Non...\n",
       "39757                             [None, None, None, None]\n",
       "39758    [None, None, None, None, None, None, None, Non...\n",
       "39759    [None, None, None, None, None, None, None, Non...\n",
       "39760           [None, None, None, None, None, None, None]\n",
       "39761    [None, None, None, None, None, None, None, Non...\n",
       "39762    [None, None, None, None, None, None, None, Non...\n",
       "39763           [None, None, None, None, None, None, None]\n",
       "39764    [None, None, None, None, None, None, None, Non...\n",
       "39765                             [None, None, None, None]\n",
       "39766    [None, None, None, None, None, None, None, Non...\n",
       "39767    [None, None, None, None, None, None, None, Non...\n",
       "39768    [None, None, None, None, None, None, None, Non...\n",
       "39769    [None, None, None, None, None, None, None, Non...\n",
       "39770           [None, None, None, None, None, None, None]\n",
       "39771    [None, None, None, None, None, None, None, Non...\n",
       "39772    [None, None, None, None, None, None, None, Non...\n",
       "39773    [None, None, None, None, None, None, None, Non...\n",
       "Name: ingredients, dtype: object"
      ]
     },
     "execution_count": 10,
     "metadata": {},
     "output_type": "execute_result"
    }
   ],
   "source": [
    "for cuisine in df_grouped.groups.keys():\n",
    "    print('{0:15} -> {1:10}'.format(cuisine,len(df_grouped.groups[cuisine])))\n",
    "\n",
    "plt.style.use(u'ggplot')\n",
    "all_ingredients = set()\n",
    "df.ingredients.map(lambda x: [all_ingredients.add(i) for i in list(x)])"
   ]
  },
  {
   "cell_type": "code",
   "execution_count": 11,
   "metadata": {
    "collapsed": true
   },
   "outputs": [],
   "source": [
    "# fill the dataset with a column per ingredient\n",
    "for ingredient in all_ingredients:\n",
    "    df[ingredient] = df.ingredients.apply(lambda x: ingredient in x)"
   ]
  },
  {
   "cell_type": "code",
   "execution_count": 12,
   "metadata": {
    "collapsed": false
   },
   "outputs": [
    {
     "name": "stderr",
     "output_type": "stream",
     "text": [
      "/Users/anaelisagentle/anaconda/lib/python3.6/site-packages/ipykernel/__main__.py:6: FutureWarning: sort is deprecated, use sort_values(inplace=True) for INPLACE sorting\n"
     ]
    },
    {
     "data": {
      "image/png": "[encoded data removed]",
      "text/plain": [
       "<matplotlib.figure.Figure at 0x121e56898>"
      ]
     },
     "metadata": {},
     "output_type": "display_data"
    }
   ],
   "source": [
    "# Lets take a serie with the number of times each ingredient was used\n",
    "for cuisine in df_grouped.groups.keys():\n",
    "    df_cuisine = df_grouped.get_group(cuisine);\n",
    "    s = df_cuisine[list(all_ingredients)].apply(pd.value_counts).fillna(0).transpose()[True]\n",
    "    # Finally, plot the 10 most used ingredients\n",
    "    fig = s.sort(inplace=False, ascending=False)[:10].plot(kind='bar', title = cuisine)\n",
    "    fig = fig.get_figure()\n",
    "    fig.tight_layout()\n",
    "    fig.savefig(cuisine + '_10_most_used_ingredients.jpg')"
   ]
  },
  {
   "cell_type": "code",
   "execution_count": 14,
   "metadata": {
    "collapsed": false
   },
   "outputs": [
    {
     "name": "stderr",
     "output_type": "stream",
     "text": [
      "/Users/anaelisagentle/anaconda/lib/python3.6/site-packages/ipykernel/__main__.py:4: FutureWarning: sort is deprecated, use sort_values(inplace=True) for INPLACE sorting\n"
     ]
    },
    {
     "data": {
      "image/png": "[encoded data removed]",
      "text/plain": [
       "<matplotlib.figure.Figure at 0x12170ba90>"
      ]
     },
     "metadata": {},
     "output_type": "display_data"
    }
   ],
   "source": [
    "df_cuisine = df_grouped.get_group(\"vietnamese\");\n",
    "s = df_cuisine[list(all_ingredients)].apply(pd.value_counts).fillna(0).transpose()[True]\n",
    "# Finally, plot the 10 most used ingredients\n",
    "fig = s.sort(inplace=False, ascending=False)[:10].plot(kind='bar', title = cuisine)\n",
    "fig = fig.get_figure()\n",
    "fig.tight_layout()\n",
    "#fig.savefig(cuisine + '_10_most_used_ingredients.jpg')"
   ]
  },
  {
   "cell_type": "code",
   "execution_count": null,
   "metadata": {
    "collapsed": true
   },
   "outputs": [],
   "source": []
  }
 ],
 "metadata": {
  "kernelspec": {
   "display_name": "Python 3",
   "language": "python",
   "name": "python3"
  },
  "language_info": {
   "codemirror_mode": {
    "name": "ipython",
    "version": 3
   },
   "file_extension": ".py",
   "mimetype": "text/x-python",
   "name": "python",
   "nbconvert_exporter": "python",
   "pygments_lexer": "ipython3",
   "version": "3.6.0"
  }
 },
 "nbformat": 4,
 "nbformat_minor": 2
}
