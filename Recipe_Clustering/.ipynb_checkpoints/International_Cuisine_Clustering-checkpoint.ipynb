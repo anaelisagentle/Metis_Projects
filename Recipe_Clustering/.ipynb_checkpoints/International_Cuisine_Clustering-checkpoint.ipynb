{
 "cells": [
  {
   "cell_type": "markdown",
   "metadata": {},
   "source": [
    "# Cuisine Clustering"
   ]
  },
  {
   "cell_type": "code",
   "execution_count": 381,
   "metadata": {
    "collapsed": true
   },
   "outputs": [],
   "source": [
    "import pandas as pd\n",
    "import numpy as np\n",
    "import json\n",
    "from sklearn.feature_extraction.text import CountVectorizer\n",
    "from scipy import sparse\n",
    "from sklearn.decomposition import PCA\n",
    "from sklearn.feature_extraction.text import TfidfTransformer\n",
    "from sklearn.feature_extraction.text import TfidfVectorizer\n",
    "from sklearn.cluster import AgglomerativeClustering\n",
    "from sklearn.decomposition import TruncatedSVD\n",
    "from sklearn.preprocessing import Normalizer\n",
    "from sklearn.pipeline import make_pipeline\n",
    "from sklearn.cluster import KMeans\n",
    "import matplotlib.pyplot as plt\n",
    "import matplotlib.cm as cm\n",
    "from sklearn.metrics import silhouette_samples, silhouette_score\n",
    "from sklearn.feature_extraction.text import TfidfVectorizer\n",
    "import pickle"
   ]
  },
  {
   "cell_type": "markdown",
   "metadata": {},
   "source": [
    "Yummly provided a dataset with recipe ingredients and the couisine's country that the recipes fall into. "
   ]
  },
  {
   "cell_type": "markdown",
   "metadata": {},
   "source": [
    "## Load JSON file and create term count matrix\n",
    "\n",
    "There are over 30,000 recipes. In order to cluster a cuisine with similar cuisines, all recipes for each cuisine are combined into one master recipe list. \n",
    "\n",
    "There are 20 unique cuisines. "
   ]
  },
  {
   "cell_type": "code",
   "execution_count": 2,
   "metadata": {
    "collapsed": false
   },
   "outputs": [],
   "source": [
    "with open('train.json') as data_file:    \n",
    "    data = json.load(data_file)"
   ]
  },
  {
   "cell_type": "markdown",
   "metadata": {},
   "source": [
    "Create a dataframe with each recipe as a row"
   ]
  },
  {
   "cell_type": "code",
   "execution_count": 3,
   "metadata": {
    "collapsed": false
   },
   "outputs": [],
   "source": [
    "recipe_df = pd.DataFrame(data)\n",
    "recipe_df = recipe_df.drop(\"id\", axis=1)"
   ]
  },
  {
   "cell_type": "code",
   "execution_count": null,
   "metadata": {
    "collapsed": false
   },
   "outputs": [],
   "source": []
  },
  {
   "cell_type": "markdown",
   "metadata": {},
   "source": [
    "Isolate the ingredients column in the dataframe"
   ]
  },
  {
   "cell_type": "code",
   "execution_count": 4,
   "metadata": {
    "collapsed": false
   },
   "outputs": [],
   "source": [
    "recipe_ingredients = recipe_df.ingredients"
   ]
  },
  {
   "cell_type": "markdown",
   "metadata": {},
   "source": [
    "Create a list of recipes that contains all of the recipes in the data"
   ]
  },
  {
   "cell_type": "code",
   "execution_count": 5,
   "metadata": {
    "collapsed": true
   },
   "outputs": [],
   "source": [
    "recipe_master_list = [' '.join(ingredients) for ingredients in recipe_ingredients]"
   ]
  },
  {
   "cell_type": "markdown",
   "metadata": {},
   "source": [
    "Create a count vectorizer from the ingredient master list"
   ]
  },
  {
   "cell_type": "code",
   "execution_count": 6,
   "metadata": {
    "collapsed": false
   },
   "outputs": [],
   "source": [
    "# count_vectorizer = CountVectorizer()\n",
    "# cv = count_vectorizer.fit_transform(recipe_master_list)\n",
    "# recipe_count_vector = cv.toarray()"
   ]
  },
  {
   "cell_type": "code",
   "execution_count": 7,
   "metadata": {
    "collapsed": false
   },
   "outputs": [],
   "source": [
    "# tfidfvectorizer = TfidfVectorizer(stop_words = \"english\", max_df=95)\n",
    "# tv = tfidfvectorizer.fit_transform(recipe_master_list)\n",
    "# tv = tv.toarray()"
   ]
  },
  {
   "cell_type": "code",
   "execution_count": 8,
   "metadata": {
    "collapsed": false
   },
   "outputs": [],
   "source": [
    "# svd1 = TruncatedSVD(n_components=1000, n_iter=10)\n",
    "# normalizer = Normalizer(copy=False)\n",
    "# lsa = make_pipeline(svd1, normalizer)\n",
    "# SVD_reduced = svd1.fit_transform(tv)"
   ]
  },
  {
   "cell_type": "code",
   "execution_count": 9,
   "metadata": {
    "collapsed": false
   },
   "outputs": [],
   "source": [
    "# sum(svd1.explained_variance_ratio_)"
   ]
  },
  {
   "cell_type": "code",
   "execution_count": null,
   "metadata": {
    "collapsed": false
   },
   "outputs": [],
   "source": [
    "\n"
   ]
  },
  {
   "cell_type": "code",
   "execution_count": 88,
   "metadata": {
    "collapsed": true
   },
   "outputs": [],
   "source": [
    "def cuisine_list(data):\n",
    "    '''function takes in list of json and returns dictionary of all unique cuisines \n",
    "    and each ingredient from the cuisines' recipes'''\n",
    "\n",
    "    cuisine_dictionary = {}\n",
    "    ingredient_list = []\n",
    "    cuisine_list = []\n",
    "    \n",
    "    for d in data:\n",
    "        cuisine = d[\"cuisine\"]\n",
    "        cuisine_list.append(cuisine)\n",
    "        ingredients = d[\"ingredients\"]\n",
    "        cuisine_dictionary.setdefault(cuisine, []).append(ingredients)\n",
    "        for ingredient in ingredients:\n",
    "            ingredient_list.append(ingredient)\n",
    "        \n",
    "    ingredient_list = list(set(ingredient_list))\n",
    "    cuisine_list = list(set(cuisine_list))\n",
    "    return cuisine_dictionary, ingredient_list, cuisine_list"
   ]
  },
  {
   "cell_type": "code",
   "execution_count": 89,
   "metadata": {
    "collapsed": false
   },
   "outputs": [],
   "source": [
    "cuisine_dict, ingredient_list, cuisine_list = cuisine_list(data)"
   ]
  },
  {
   "cell_type": "code",
   "execution_count": 90,
   "metadata": {
    "collapsed": true
   },
   "outputs": [],
   "source": [
    "def clustering_dict(dict):\n",
    "    '''takes in dictionary of cuisines and their recipes. Returns one list of recipes per cuisine'''\n",
    "    for key in dict:\n",
    "        ingredients = dict[key]\n",
    "        text = [' '.join(ingredient) for ingredient in ingredients]\n",
    "        dict[key] = text\n",
    "    return dict"
   ]
  },
  {
   "cell_type": "code",
   "execution_count": 91,
   "metadata": {
    "collapsed": true
   },
   "outputs": [],
   "source": [
    "#d1 = (clustering_dict(cuisine_dict))"
   ]
  },
  {
   "cell_type": "code",
   "execution_count": 92,
   "metadata": {
    "collapsed": true
   },
   "outputs": [],
   "source": [
    "def join_string(dict):\n",
    "    '''takes in dictionary of cuisines and recipes, make recipe into one document for vectorizer'''\n",
    "    for key in dict:\n",
    "        recipe = dict[key]\n",
    "        r = [' '.join(recipe)]\n",
    "        dict[key] = r\n",
    "    return dict"
   ]
  },
  {
   "cell_type": "code",
   "execution_count": 93,
   "metadata": {
    "collapsed": true
   },
   "outputs": [],
   "source": [
    "#d2 = join_string(d1)"
   ]
  },
  {
   "cell_type": "code",
   "execution_count": 94,
   "metadata": {
    "collapsed": true
   },
   "outputs": [],
   "source": [
    "#cuisine_df = pd.DataFrame(d2)"
   ]
  },
  {
   "cell_type": "code",
   "execution_count": 96,
   "metadata": {
    "collapsed": false
   },
   "outputs": [
    {
     "data": {
      "text/html": [
       "<div>\n",
       "<table border=\"1\" class=\"dataframe\">\n",
       "  <thead>\n",
       "    <tr style=\"text-align: right;\">\n",
       "      <th></th>\n",
       "      <th>brazilian</th>\n",
       "      <th>british</th>\n",
       "      <th>cajun_creole</th>\n",
       "      <th>chinese</th>\n",
       "      <th>filipino</th>\n",
       "      <th>french</th>\n",
       "      <th>greek</th>\n",
       "      <th>indian</th>\n",
       "      <th>irish</th>\n",
       "      <th>italian</th>\n",
       "      <th>jamaican</th>\n",
       "      <th>japanese</th>\n",
       "      <th>korean</th>\n",
       "      <th>mexican</th>\n",
       "      <th>moroccan</th>\n",
       "      <th>russian</th>\n",
       "      <th>southern_us</th>\n",
       "      <th>spanish</th>\n",
       "      <th>thai</th>\n",
       "      <th>vietnamese</th>\n",
       "    </tr>\n",
       "  </thead>\n",
       "  <tbody>\n",
       "    <tr>\n",
       "      <th>0</th>\n",
       "      <td>ice cubes club soda white rum lime turbinado e...</td>\n",
       "      <td>greek yogurt lemon curd confectioners sugar ra...</td>\n",
       "      <td>herbs lemon juice fresh tomatoes paprika mango...</td>\n",
       "      <td>low sodium soy sauce fresh ginger dry mustard ...</td>\n",
       "      <td>eggs pepper salt mayonaise cooking oil green c...</td>\n",
       "      <td>sugar salt fennel bulb water lemon olive oil g...</td>\n",
       "      <td>romaine lettuce black olives grape tomatoes ga...</td>\n",
       "      <td>water vegetable oil wheat salt black pepper sh...</td>\n",
       "      <td>cooking spray salt black pepper yukon gold pot...</td>\n",
       "      <td>sugar pistachio nuts white almond bark flour v...</td>\n",
       "      <td>plain flour sugar butter eggs fresh ginger roo...</td>\n",
       "      <td>sirloin mirin yellow onion low sodium soy sauc...</td>\n",
       "      <td>jasmine rice garlic scallions sugar shiitake G...</td>\n",
       "      <td>olive oil purple onion fresh pineapple pork po...</td>\n",
       "      <td>ground cloves whole nutmegs ground ginger grou...</td>\n",
       "      <td>water grits mozzarella cheese salt water dill ...</td>\n",
       "      <td>plain flour ground pepper salt tomatoes ground...</td>\n",
       "      <td>olive oil salt medium shrimp pepper garlic cho...</td>\n",
       "      <td>sugar hot chili asian fish sauce lime juice po...</td>\n",
       "      <td>soy sauce vegetable oil red bell pepper chicke...</td>\n",
       "    </tr>\n",
       "  </tbody>\n",
       "</table>\n",
       "</div>"
      ],
      "text/plain": [
       "                                           brazilian  \\\n",
       "0  ice cubes club soda white rum lime turbinado e...   \n",
       "\n",
       "                                             british  \\\n",
       "0  greek yogurt lemon curd confectioners sugar ra...   \n",
       "\n",
       "                                        cajun_creole  \\\n",
       "0  herbs lemon juice fresh tomatoes paprika mango...   \n",
       "\n",
       "                                             chinese  \\\n",
       "0  low sodium soy sauce fresh ginger dry mustard ...   \n",
       "\n",
       "                                            filipino  \\\n",
       "0  eggs pepper salt mayonaise cooking oil green c...   \n",
       "\n",
       "                                              french  \\\n",
       "0  sugar salt fennel bulb water lemon olive oil g...   \n",
       "\n",
       "                                               greek  \\\n",
       "0  romaine lettuce black olives grape tomatoes ga...   \n",
       "\n",
       "                                              indian  \\\n",
       "0  water vegetable oil wheat salt black pepper sh...   \n",
       "\n",
       "                                               irish  \\\n",
       "0  cooking spray salt black pepper yukon gold pot...   \n",
       "\n",
       "                                             italian  \\\n",
       "0  sugar pistachio nuts white almond bark flour v...   \n",
       "\n",
       "                                            jamaican  \\\n",
       "0  plain flour sugar butter eggs fresh ginger roo...   \n",
       "\n",
       "                                            japanese  \\\n",
       "0  sirloin mirin yellow onion low sodium soy sauc...   \n",
       "\n",
       "                                              korean  \\\n",
       "0  jasmine rice garlic scallions sugar shiitake G...   \n",
       "\n",
       "                                             mexican  \\\n",
       "0  olive oil purple onion fresh pineapple pork po...   \n",
       "\n",
       "                                            moroccan  \\\n",
       "0  ground cloves whole nutmegs ground ginger grou...   \n",
       "\n",
       "                                             russian  \\\n",
       "0  water grits mozzarella cheese salt water dill ...   \n",
       "\n",
       "                                         southern_us  \\\n",
       "0  plain flour ground pepper salt tomatoes ground...   \n",
       "\n",
       "                                             spanish  \\\n",
       "0  olive oil salt medium shrimp pepper garlic cho...   \n",
       "\n",
       "                                                thai  \\\n",
       "0  sugar hot chili asian fish sauce lime juice po...   \n",
       "\n",
       "                                          vietnamese  \n",
       "0  soy sauce vegetable oil red bell pepper chicke...  "
      ]
     },
     "execution_count": 96,
     "metadata": {},
     "output_type": "execute_result"
    }
   ],
   "source": [
    "cuisine_df"
   ]
  },
  {
   "cell_type": "markdown",
   "metadata": {},
   "source": [
    "A handwritten vectorizer, the actual clustering uses sklearn"
   ]
  },
  {
   "cell_type": "code",
   "execution_count": 12,
   "metadata": {
    "collapsed": false
   },
   "outputs": [],
   "source": [
    "def create_term_count_matrix(dictionary, numCuisines, numIngred, cuisines, ingredients):\n",
    "    \"\"\"This function creates a count matrix. For each ingredient in every cuisine, a count is recorded in a \n",
    "    matrix each time ingredient is used\"\"\"\n",
    "    termCountMatrix = np.zeros((numCuisines, numIngred))\n",
    "    i = 0\n",
    "    \n",
    "    for cuisine in cuisines:\n",
    "        ingredientsPerCuisine = cuisine_dict[cuisine]\n",
    "\n",
    "        for ingredients in ingredientsPerCuisine:\n",
    "            for item in ingredients:\n",
    "                j = ingredients.index(item)\n",
    "                #in order to know which column to put the term count in, we will ago according to the terms' order in the ingredients array\n",
    "                termCountMatrix[i,j] += 1\n",
    "\n",
    "        i += 1\n",
    "\n",
    "    return termCountMatrix"
   ]
  },
  {
   "cell_type": "code",
   "execution_count": 13,
   "metadata": {
    "collapsed": true
   },
   "outputs": [],
   "source": [
    "cuisine_count = len(cuisine_list)\n",
    "ingredient_count = len(ingredient_list)"
   ]
  },
  {
   "cell_type": "code",
   "execution_count": 14,
   "metadata": {
    "collapsed": false
   },
   "outputs": [],
   "source": [
    "term_counts = create_term_count_matrix(cuisine_dict, cuisine_count, ingredient_count, cuisine_list, ingredient_list)"
   ]
  },
  {
   "cell_type": "code",
   "execution_count": 392,
   "metadata": {
    "collapsed": false
   },
   "outputs": [
    {
     "data": {
      "text/html": [
       "<div>\n",
       "<table border=\"1\" class=\"dataframe\">\n",
       "  <thead>\n",
       "    <tr style=\"text-align: right;\">\n",
       "      <th></th>\n",
       "      <th>0</th>\n",
       "      <th>1</th>\n",
       "      <th>2</th>\n",
       "      <th>3</th>\n",
       "      <th>4</th>\n",
       "      <th>5</th>\n",
       "      <th>6</th>\n",
       "      <th>7</th>\n",
       "      <th>8</th>\n",
       "      <th>9</th>\n",
       "      <th>...</th>\n",
       "      <th>6704</th>\n",
       "      <th>6705</th>\n",
       "      <th>6706</th>\n",
       "      <th>6707</th>\n",
       "      <th>6708</th>\n",
       "      <th>6709</th>\n",
       "      <th>6710</th>\n",
       "      <th>6711</th>\n",
       "      <th>6712</th>\n",
       "      <th>6713</th>\n",
       "    </tr>\n",
       "  </thead>\n",
       "  <tbody>\n",
       "    <tr>\n",
       "      <th>0</th>\n",
       "      <td>3003.0</td>\n",
       "      <td>2997.0</td>\n",
       "      <td>2984.0</td>\n",
       "      <td>2957.0</td>\n",
       "      <td>2911.0</td>\n",
       "      <td>2812.0</td>\n",
       "      <td>2687.0</td>\n",
       "      <td>2534.0</td>\n",
       "      <td>2376.0</td>\n",
       "      <td>2175.0</td>\n",
       "      <td>...</td>\n",
       "      <td>0.0</td>\n",
       "      <td>0.0</td>\n",
       "      <td>0.0</td>\n",
       "      <td>0.0</td>\n",
       "      <td>0.0</td>\n",
       "      <td>0.0</td>\n",
       "      <td>0.0</td>\n",
       "      <td>0.0</td>\n",
       "      <td>0.0</td>\n",
       "      <td>0.0</td>\n",
       "    </tr>\n",
       "    <tr>\n",
       "      <th>1</th>\n",
       "      <td>825.0</td>\n",
       "      <td>824.0</td>\n",
       "      <td>814.0</td>\n",
       "      <td>805.0</td>\n",
       "      <td>787.0</td>\n",
       "      <td>769.0</td>\n",
       "      <td>723.0</td>\n",
       "      <td>666.0</td>\n",
       "      <td>628.0</td>\n",
       "      <td>576.0</td>\n",
       "      <td>...</td>\n",
       "      <td>0.0</td>\n",
       "      <td>0.0</td>\n",
       "      <td>0.0</td>\n",
       "      <td>0.0</td>\n",
       "      <td>0.0</td>\n",
       "      <td>0.0</td>\n",
       "      <td>0.0</td>\n",
       "      <td>0.0</td>\n",
       "      <td>0.0</td>\n",
       "      <td>0.0</td>\n",
       "    </tr>\n",
       "    <tr>\n",
       "      <th>2</th>\n",
       "      <td>755.0</td>\n",
       "      <td>755.0</td>\n",
       "      <td>752.0</td>\n",
       "      <td>743.0</td>\n",
       "      <td>716.0</td>\n",
       "      <td>672.0</td>\n",
       "      <td>612.0</td>\n",
       "      <td>557.0</td>\n",
       "      <td>487.0</td>\n",
       "      <td>400.0</td>\n",
       "      <td>...</td>\n",
       "      <td>0.0</td>\n",
       "      <td>0.0</td>\n",
       "      <td>0.0</td>\n",
       "      <td>0.0</td>\n",
       "      <td>0.0</td>\n",
       "      <td>0.0</td>\n",
       "      <td>0.0</td>\n",
       "      <td>0.0</td>\n",
       "      <td>0.0</td>\n",
       "      <td>0.0</td>\n",
       "    </tr>\n",
       "    <tr>\n",
       "      <th>3</th>\n",
       "      <td>489.0</td>\n",
       "      <td>489.0</td>\n",
       "      <td>488.0</td>\n",
       "      <td>477.0</td>\n",
       "      <td>462.0</td>\n",
       "      <td>440.0</td>\n",
       "      <td>405.0</td>\n",
       "      <td>364.0</td>\n",
       "      <td>313.0</td>\n",
       "      <td>246.0</td>\n",
       "      <td>...</td>\n",
       "      <td>0.0</td>\n",
       "      <td>0.0</td>\n",
       "      <td>0.0</td>\n",
       "      <td>0.0</td>\n",
       "      <td>0.0</td>\n",
       "      <td>0.0</td>\n",
       "      <td>0.0</td>\n",
       "      <td>0.0</td>\n",
       "      <td>0.0</td>\n",
       "      <td>0.0</td>\n",
       "    </tr>\n",
       "    <tr>\n",
       "      <th>4</th>\n",
       "      <td>6439.0</td>\n",
       "      <td>6437.0</td>\n",
       "      <td>6417.0</td>\n",
       "      <td>6347.0</td>\n",
       "      <td>6164.0</td>\n",
       "      <td>5873.0</td>\n",
       "      <td>5363.0</td>\n",
       "      <td>4782.0</td>\n",
       "      <td>4174.0</td>\n",
       "      <td>3607.0</td>\n",
       "      <td>...</td>\n",
       "      <td>0.0</td>\n",
       "      <td>0.0</td>\n",
       "      <td>0.0</td>\n",
       "      <td>0.0</td>\n",
       "      <td>0.0</td>\n",
       "      <td>0.0</td>\n",
       "      <td>0.0</td>\n",
       "      <td>0.0</td>\n",
       "      <td>0.0</td>\n",
       "      <td>0.0</td>\n",
       "    </tr>\n",
       "    <tr>\n",
       "      <th>5</th>\n",
       "      <td>804.0</td>\n",
       "      <td>804.0</td>\n",
       "      <td>801.0</td>\n",
       "      <td>783.0</td>\n",
       "      <td>742.0</td>\n",
       "      <td>671.0</td>\n",
       "      <td>615.0</td>\n",
       "      <td>530.0</td>\n",
       "      <td>456.0</td>\n",
       "      <td>388.0</td>\n",
       "      <td>...</td>\n",
       "      <td>0.0</td>\n",
       "      <td>0.0</td>\n",
       "      <td>0.0</td>\n",
       "      <td>0.0</td>\n",
       "      <td>0.0</td>\n",
       "      <td>0.0</td>\n",
       "      <td>0.0</td>\n",
       "      <td>0.0</td>\n",
       "      <td>0.0</td>\n",
       "      <td>0.0</td>\n",
       "    </tr>\n",
       "    <tr>\n",
       "      <th>6</th>\n",
       "      <td>526.0</td>\n",
       "      <td>526.0</td>\n",
       "      <td>525.0</td>\n",
       "      <td>520.0</td>\n",
       "      <td>513.0</td>\n",
       "      <td>502.0</td>\n",
       "      <td>477.0</td>\n",
       "      <td>447.0</td>\n",
       "      <td>408.0</td>\n",
       "      <td>353.0</td>\n",
       "      <td>...</td>\n",
       "      <td>0.0</td>\n",
       "      <td>0.0</td>\n",
       "      <td>0.0</td>\n",
       "      <td>0.0</td>\n",
       "      <td>0.0</td>\n",
       "      <td>0.0</td>\n",
       "      <td>0.0</td>\n",
       "      <td>0.0</td>\n",
       "      <td>0.0</td>\n",
       "      <td>0.0</td>\n",
       "    </tr>\n",
       "    <tr>\n",
       "      <th>7</th>\n",
       "      <td>821.0</td>\n",
       "      <td>821.0</td>\n",
       "      <td>820.0</td>\n",
       "      <td>808.0</td>\n",
       "      <td>787.0</td>\n",
       "      <td>767.0</td>\n",
       "      <td>745.0</td>\n",
       "      <td>704.0</td>\n",
       "      <td>659.0</td>\n",
       "      <td>607.0</td>\n",
       "      <td>...</td>\n",
       "      <td>0.0</td>\n",
       "      <td>0.0</td>\n",
       "      <td>0.0</td>\n",
       "      <td>0.0</td>\n",
       "      <td>0.0</td>\n",
       "      <td>0.0</td>\n",
       "      <td>0.0</td>\n",
       "      <td>0.0</td>\n",
       "      <td>0.0</td>\n",
       "      <td>0.0</td>\n",
       "    </tr>\n",
       "    <tr>\n",
       "      <th>8</th>\n",
       "      <td>4320.0</td>\n",
       "      <td>4319.0</td>\n",
       "      <td>4297.0</td>\n",
       "      <td>4205.0</td>\n",
       "      <td>4057.0</td>\n",
       "      <td>3780.0</td>\n",
       "      <td>3447.0</td>\n",
       "      <td>2980.0</td>\n",
       "      <td>2456.0</td>\n",
       "      <td>1976.0</td>\n",
       "      <td>...</td>\n",
       "      <td>0.0</td>\n",
       "      <td>0.0</td>\n",
       "      <td>0.0</td>\n",
       "      <td>0.0</td>\n",
       "      <td>0.0</td>\n",
       "      <td>0.0</td>\n",
       "      <td>0.0</td>\n",
       "      <td>0.0</td>\n",
       "      <td>0.0</td>\n",
       "      <td>0.0</td>\n",
       "    </tr>\n",
       "    <tr>\n",
       "      <th>9</th>\n",
       "      <td>1176.0</td>\n",
       "      <td>1175.0</td>\n",
       "      <td>1172.0</td>\n",
       "      <td>1161.0</td>\n",
       "      <td>1131.0</td>\n",
       "      <td>1065.0</td>\n",
       "      <td>984.0</td>\n",
       "      <td>879.0</td>\n",
       "      <td>755.0</td>\n",
       "      <td>640.0</td>\n",
       "      <td>...</td>\n",
       "      <td>0.0</td>\n",
       "      <td>0.0</td>\n",
       "      <td>0.0</td>\n",
       "      <td>0.0</td>\n",
       "      <td>0.0</td>\n",
       "      <td>0.0</td>\n",
       "      <td>0.0</td>\n",
       "      <td>0.0</td>\n",
       "      <td>0.0</td>\n",
       "      <td>0.0</td>\n",
       "    </tr>\n",
       "    <tr>\n",
       "      <th>10</th>\n",
       "      <td>989.0</td>\n",
       "      <td>987.0</td>\n",
       "      <td>981.0</td>\n",
       "      <td>971.0</td>\n",
       "      <td>940.0</td>\n",
       "      <td>891.0</td>\n",
       "      <td>822.0</td>\n",
       "      <td>739.0</td>\n",
       "      <td>636.0</td>\n",
       "      <td>533.0</td>\n",
       "      <td>...</td>\n",
       "      <td>0.0</td>\n",
       "      <td>0.0</td>\n",
       "      <td>0.0</td>\n",
       "      <td>0.0</td>\n",
       "      <td>0.0</td>\n",
       "      <td>0.0</td>\n",
       "      <td>0.0</td>\n",
       "      <td>0.0</td>\n",
       "      <td>0.0</td>\n",
       "      <td>0.0</td>\n",
       "    </tr>\n",
       "    <tr>\n",
       "      <th>11</th>\n",
       "      <td>467.0</td>\n",
       "      <td>467.0</td>\n",
       "      <td>464.0</td>\n",
       "      <td>440.0</td>\n",
       "      <td>383.0</td>\n",
       "      <td>333.0</td>\n",
       "      <td>283.0</td>\n",
       "      <td>256.0</td>\n",
       "      <td>234.0</td>\n",
       "      <td>208.0</td>\n",
       "      <td>...</td>\n",
       "      <td>0.0</td>\n",
       "      <td>0.0</td>\n",
       "      <td>0.0</td>\n",
       "      <td>0.0</td>\n",
       "      <td>0.0</td>\n",
       "      <td>0.0</td>\n",
       "      <td>0.0</td>\n",
       "      <td>0.0</td>\n",
       "      <td>0.0</td>\n",
       "      <td>0.0</td>\n",
       "    </tr>\n",
       "    <tr>\n",
       "      <th>12</th>\n",
       "      <td>1423.0</td>\n",
       "      <td>1420.0</td>\n",
       "      <td>1407.0</td>\n",
       "      <td>1363.0</td>\n",
       "      <td>1312.0</td>\n",
       "      <td>1228.0</td>\n",
       "      <td>1093.0</td>\n",
       "      <td>935.0</td>\n",
       "      <td>804.0</td>\n",
       "      <td>665.0</td>\n",
       "      <td>...</td>\n",
       "      <td>0.0</td>\n",
       "      <td>0.0</td>\n",
       "      <td>0.0</td>\n",
       "      <td>0.0</td>\n",
       "      <td>0.0</td>\n",
       "      <td>0.0</td>\n",
       "      <td>0.0</td>\n",
       "      <td>0.0</td>\n",
       "      <td>0.0</td>\n",
       "      <td>0.0</td>\n",
       "    </tr>\n",
       "    <tr>\n",
       "      <th>13</th>\n",
       "      <td>830.0</td>\n",
       "      <td>830.0</td>\n",
       "      <td>825.0</td>\n",
       "      <td>821.0</td>\n",
       "      <td>811.0</td>\n",
       "      <td>789.0</td>\n",
       "      <td>753.0</td>\n",
       "      <td>710.0</td>\n",
       "      <td>634.0</td>\n",
       "      <td>555.0</td>\n",
       "      <td>...</td>\n",
       "      <td>0.0</td>\n",
       "      <td>0.0</td>\n",
       "      <td>0.0</td>\n",
       "      <td>0.0</td>\n",
       "      <td>0.0</td>\n",
       "      <td>0.0</td>\n",
       "      <td>0.0</td>\n",
       "      <td>0.0</td>\n",
       "      <td>0.0</td>\n",
       "      <td>0.0</td>\n",
       "    </tr>\n",
       "    <tr>\n",
       "      <th>14</th>\n",
       "      <td>2673.0</td>\n",
       "      <td>2673.0</td>\n",
       "      <td>2663.0</td>\n",
       "      <td>2641.0</td>\n",
       "      <td>2614.0</td>\n",
       "      <td>2546.0</td>\n",
       "      <td>2450.0</td>\n",
       "      <td>2312.0</td>\n",
       "      <td>2168.0</td>\n",
       "      <td>1961.0</td>\n",
       "      <td>...</td>\n",
       "      <td>0.0</td>\n",
       "      <td>0.0</td>\n",
       "      <td>0.0</td>\n",
       "      <td>0.0</td>\n",
       "      <td>0.0</td>\n",
       "      <td>0.0</td>\n",
       "      <td>0.0</td>\n",
       "      <td>0.0</td>\n",
       "      <td>0.0</td>\n",
       "      <td>0.0</td>\n",
       "    </tr>\n",
       "    <tr>\n",
       "      <th>15</th>\n",
       "      <td>2646.0</td>\n",
       "      <td>2644.0</td>\n",
       "      <td>2612.0</td>\n",
       "      <td>2564.0</td>\n",
       "      <td>2453.0</td>\n",
       "      <td>2292.0</td>\n",
       "      <td>2057.0</td>\n",
       "      <td>1825.0</td>\n",
       "      <td>1566.0</td>\n",
       "      <td>1253.0</td>\n",
       "      <td>...</td>\n",
       "      <td>0.0</td>\n",
       "      <td>0.0</td>\n",
       "      <td>0.0</td>\n",
       "      <td>0.0</td>\n",
       "      <td>0.0</td>\n",
       "      <td>0.0</td>\n",
       "      <td>0.0</td>\n",
       "      <td>0.0</td>\n",
       "      <td>0.0</td>\n",
       "      <td>0.0</td>\n",
       "    </tr>\n",
       "    <tr>\n",
       "      <th>16</th>\n",
       "      <td>7839.0</td>\n",
       "      <td>7839.0</td>\n",
       "      <td>7801.0</td>\n",
       "      <td>7703.0</td>\n",
       "      <td>7453.0</td>\n",
       "      <td>7033.0</td>\n",
       "      <td>6460.0</td>\n",
       "      <td>5659.0</td>\n",
       "      <td>4814.0</td>\n",
       "      <td>3957.0</td>\n",
       "      <td>...</td>\n",
       "      <td>0.0</td>\n",
       "      <td>0.0</td>\n",
       "      <td>0.0</td>\n",
       "      <td>0.0</td>\n",
       "      <td>0.0</td>\n",
       "      <td>0.0</td>\n",
       "      <td>0.0</td>\n",
       "      <td>0.0</td>\n",
       "      <td>0.0</td>\n",
       "      <td>0.0</td>\n",
       "    </tr>\n",
       "    <tr>\n",
       "      <th>17</th>\n",
       "      <td>1539.0</td>\n",
       "      <td>1536.0</td>\n",
       "      <td>1535.0</td>\n",
       "      <td>1530.0</td>\n",
       "      <td>1518.0</td>\n",
       "      <td>1486.0</td>\n",
       "      <td>1432.0</td>\n",
       "      <td>1350.0</td>\n",
       "      <td>1270.0</td>\n",
       "      <td>1150.0</td>\n",
       "      <td>...</td>\n",
       "      <td>0.0</td>\n",
       "      <td>0.0</td>\n",
       "      <td>0.0</td>\n",
       "      <td>0.0</td>\n",
       "      <td>0.0</td>\n",
       "      <td>0.0</td>\n",
       "      <td>0.0</td>\n",
       "      <td>0.0</td>\n",
       "      <td>0.0</td>\n",
       "      <td>0.0</td>\n",
       "    </tr>\n",
       "    <tr>\n",
       "      <th>18</th>\n",
       "      <td>1546.0</td>\n",
       "      <td>1546.0</td>\n",
       "      <td>1539.0</td>\n",
       "      <td>1527.0</td>\n",
       "      <td>1509.0</td>\n",
       "      <td>1469.0</td>\n",
       "      <td>1416.0</td>\n",
       "      <td>1340.0</td>\n",
       "      <td>1259.0</td>\n",
       "      <td>1153.0</td>\n",
       "      <td>...</td>\n",
       "      <td>0.0</td>\n",
       "      <td>0.0</td>\n",
       "      <td>0.0</td>\n",
       "      <td>0.0</td>\n",
       "      <td>0.0</td>\n",
       "      <td>0.0</td>\n",
       "      <td>0.0</td>\n",
       "      <td>0.0</td>\n",
       "      <td>0.0</td>\n",
       "      <td>0.0</td>\n",
       "    </tr>\n",
       "    <tr>\n",
       "      <th>19</th>\n",
       "      <td>667.0</td>\n",
       "      <td>667.0</td>\n",
       "      <td>664.0</td>\n",
       "      <td>648.0</td>\n",
       "      <td>622.0</td>\n",
       "      <td>576.0</td>\n",
       "      <td>508.0</td>\n",
       "      <td>431.0</td>\n",
       "      <td>346.0</td>\n",
       "      <td>285.0</td>\n",
       "      <td>...</td>\n",
       "      <td>0.0</td>\n",
       "      <td>0.0</td>\n",
       "      <td>0.0</td>\n",
       "      <td>0.0</td>\n",
       "      <td>0.0</td>\n",
       "      <td>0.0</td>\n",
       "      <td>0.0</td>\n",
       "      <td>0.0</td>\n",
       "      <td>0.0</td>\n",
       "      <td>0.0</td>\n",
       "    </tr>\n",
       "  </tbody>\n",
       "</table>\n",
       "<p>20 rows × 6714 columns</p>\n",
       "</div>"
      ],
      "text/plain": [
       "      0       1       2       3       4       5       6       7       8     \\\n",
       "0   3003.0  2997.0  2984.0  2957.0  2911.0  2812.0  2687.0  2534.0  2376.0   \n",
       "1    825.0   824.0   814.0   805.0   787.0   769.0   723.0   666.0   628.0   \n",
       "2    755.0   755.0   752.0   743.0   716.0   672.0   612.0   557.0   487.0   \n",
       "3    489.0   489.0   488.0   477.0   462.0   440.0   405.0   364.0   313.0   \n",
       "4   6439.0  6437.0  6417.0  6347.0  6164.0  5873.0  5363.0  4782.0  4174.0   \n",
       "5    804.0   804.0   801.0   783.0   742.0   671.0   615.0   530.0   456.0   \n",
       "6    526.0   526.0   525.0   520.0   513.0   502.0   477.0   447.0   408.0   \n",
       "7    821.0   821.0   820.0   808.0   787.0   767.0   745.0   704.0   659.0   \n",
       "8   4320.0  4319.0  4297.0  4205.0  4057.0  3780.0  3447.0  2980.0  2456.0   \n",
       "9   1176.0  1175.0  1172.0  1161.0  1131.0  1065.0   984.0   879.0   755.0   \n",
       "10   989.0   987.0   981.0   971.0   940.0   891.0   822.0   739.0   636.0   \n",
       "11   467.0   467.0   464.0   440.0   383.0   333.0   283.0   256.0   234.0   \n",
       "12  1423.0  1420.0  1407.0  1363.0  1312.0  1228.0  1093.0   935.0   804.0   \n",
       "13   830.0   830.0   825.0   821.0   811.0   789.0   753.0   710.0   634.0   \n",
       "14  2673.0  2673.0  2663.0  2641.0  2614.0  2546.0  2450.0  2312.0  2168.0   \n",
       "15  2646.0  2644.0  2612.0  2564.0  2453.0  2292.0  2057.0  1825.0  1566.0   \n",
       "16  7839.0  7839.0  7801.0  7703.0  7453.0  7033.0  6460.0  5659.0  4814.0   \n",
       "17  1539.0  1536.0  1535.0  1530.0  1518.0  1486.0  1432.0  1350.0  1270.0   \n",
       "18  1546.0  1546.0  1539.0  1527.0  1509.0  1469.0  1416.0  1340.0  1259.0   \n",
       "19   667.0   667.0   664.0   648.0   622.0   576.0   508.0   431.0   346.0   \n",
       "\n",
       "      9     ...   6704  6705  6706  6707  6708  6709  6710  6711  6712  6713  \n",
       "0   2175.0  ...    0.0   0.0   0.0   0.0   0.0   0.0   0.0   0.0   0.0   0.0  \n",
       "1    576.0  ...    0.0   0.0   0.0   0.0   0.0   0.0   0.0   0.0   0.0   0.0  \n",
       "2    400.0  ...    0.0   0.0   0.0   0.0   0.0   0.0   0.0   0.0   0.0   0.0  \n",
       "3    246.0  ...    0.0   0.0   0.0   0.0   0.0   0.0   0.0   0.0   0.0   0.0  \n",
       "4   3607.0  ...    0.0   0.0   0.0   0.0   0.0   0.0   0.0   0.0   0.0   0.0  \n",
       "5    388.0  ...    0.0   0.0   0.0   0.0   0.0   0.0   0.0   0.0   0.0   0.0  \n",
       "6    353.0  ...    0.0   0.0   0.0   0.0   0.0   0.0   0.0   0.0   0.0   0.0  \n",
       "7    607.0  ...    0.0   0.0   0.0   0.0   0.0   0.0   0.0   0.0   0.0   0.0  \n",
       "8   1976.0  ...    0.0   0.0   0.0   0.0   0.0   0.0   0.0   0.0   0.0   0.0  \n",
       "9    640.0  ...    0.0   0.0   0.0   0.0   0.0   0.0   0.0   0.0   0.0   0.0  \n",
       "10   533.0  ...    0.0   0.0   0.0   0.0   0.0   0.0   0.0   0.0   0.0   0.0  \n",
       "11   208.0  ...    0.0   0.0   0.0   0.0   0.0   0.0   0.0   0.0   0.0   0.0  \n",
       "12   665.0  ...    0.0   0.0   0.0   0.0   0.0   0.0   0.0   0.0   0.0   0.0  \n",
       "13   555.0  ...    0.0   0.0   0.0   0.0   0.0   0.0   0.0   0.0   0.0   0.0  \n",
       "14  1961.0  ...    0.0   0.0   0.0   0.0   0.0   0.0   0.0   0.0   0.0   0.0  \n",
       "15  1253.0  ...    0.0   0.0   0.0   0.0   0.0   0.0   0.0   0.0   0.0   0.0  \n",
       "16  3957.0  ...    0.0   0.0   0.0   0.0   0.0   0.0   0.0   0.0   0.0   0.0  \n",
       "17  1150.0  ...    0.0   0.0   0.0   0.0   0.0   0.0   0.0   0.0   0.0   0.0  \n",
       "18  1153.0  ...    0.0   0.0   0.0   0.0   0.0   0.0   0.0   0.0   0.0   0.0  \n",
       "19   285.0  ...    0.0   0.0   0.0   0.0   0.0   0.0   0.0   0.0   0.0   0.0  \n",
       "\n",
       "[20 rows x 6714 columns]"
      ]
     },
     "execution_count": 392,
     "metadata": {},
     "output_type": "execute_result"
    }
   ],
   "source": [
    "pd.DataFrame(term_counts)"
   ]
  },
  {
   "cell_type": "markdown",
   "metadata": {},
   "source": [
    "## TF-IDF\n",
    "\n",
    "Vectorize cuisine ingredients and use tfidf to account for common ingredients accross all recipes (ie salt)"
   ]
  },
  {
   "cell_type": "code",
   "execution_count": 15,
   "metadata": {
    "collapsed": true
   },
   "outputs": [],
   "source": [
    "def tfidf_matrix(X):\n",
    "    X = sparse.csr_matrix(X)\n",
    "    transformer = TfidfTransformer()\n",
    "    tfidf = transformer.fit_transform(X) # normalizes vectors to mean 0 and std 1 and computes tf-idf\n",
    "    tfidf.toarray() \n",
    "    return tfidf.toarray()"
   ]
  },
  {
   "cell_type": "code",
   "execution_count": 16,
   "metadata": {
    "collapsed": false
   },
   "outputs": [],
   "source": [
    "tfidf_matrix = tfidf_matrix(term_counts)"
   ]
  },
  {
   "cell_type": "code",
   "execution_count": 99,
   "metadata": {
    "collapsed": false
   },
   "outputs": [],
   "source": [
    "#pd.DataFrame(tfidf_matrix, columns=tfidf_matrix.get_feature_names())"
   ]
  },
  {
   "cell_type": "code",
   "execution_count": 110,
   "metadata": {
    "collapsed": true
   },
   "outputs": [],
   "source": [
    "tfidf_vectorizer = TfidfVectorizer(max_df = 0.95)\n",
    "tfidf_vector_matrix = tfidf_vectorizer.fit_transform(cuisine_df)"
   ]
  },
  {
   "cell_type": "markdown",
   "metadata": {},
   "source": [
    "## PCA\n",
    "\n",
    "Use PCA to reduce dimensionality and help with visualizations on lower dimensional graph"
   ]
  },
  {
   "cell_type": "code",
   "execution_count": 118,
   "metadata": {
    "collapsed": false
   },
   "outputs": [],
   "source": [
    "pca2 = PCA(n_components=3)\n",
    "PCA_reduced2 = pca2.fit_transform(term_counts)"
   ]
  },
  {
   "cell_type": "markdown",
   "metadata": {},
   "source": [
    "Percent of variance explained by first few vectors"
   ]
  },
  {
   "cell_type": "code",
   "execution_count": 119,
   "metadata": {
    "collapsed": false
   },
   "outputs": [
    {
     "data": {
      "text/plain": [
       "array([  9.88679838e-01,   1.07371983e-02,   5.13481191e-04])"
      ]
     },
     "execution_count": 119,
     "metadata": {},
     "output_type": "execute_result"
    }
   ],
   "source": [
    "pca2.explained_variance_ratio_"
   ]
  },
  {
   "cell_type": "markdown",
   "metadata": {},
   "source": [
    "## SVD \n",
    "\n",
    "Note that SVD does a poor job of reducing variance. PCA should be used to reduce dimensionality instead"
   ]
  },
  {
   "cell_type": "code",
   "execution_count": 124,
   "metadata": {
    "collapsed": false
   },
   "outputs": [],
   "source": [
    "svd2 = TruncatedSVD(n_components=3, n_iter=10)\n",
    "normalizer = Normalizer(copy=False)\n",
    "lsa = make_pipeline(svd2, normalizer)\n",
    "SVD_reduced2 = svd2.fit_transform(term_counts)"
   ]
  },
  {
   "cell_type": "code",
   "execution_count": 125,
   "metadata": {
    "collapsed": false
   },
   "outputs": [
    {
     "data": {
      "text/plain": [
       "0.99992324379009789"
      ]
     },
     "execution_count": 125,
     "metadata": {},
     "output_type": "execute_result"
    }
   ],
   "source": [
    "sum(svd2.explained_variance_ratio_)"
   ]
  },
  {
   "cell_type": "markdown",
   "metadata": {},
   "source": [
    "## K-Means\n",
    "\n",
    "In this section k-means is used to cluster cuisines with similar cuisines.\n",
    "In order to determine the best k-number of clusters, a loop is run to calculate silhouette scores \n",
    "accross multiple K values. "
   ]
  },
  {
   "cell_type": "code",
   "execution_count": 32,
   "metadata": {
    "collapsed": true
   },
   "outputs": [],
   "source": [
    "n_clusters = [2,3,4,5,6,7,8,9,10]"
   ]
  },
  {
   "cell_type": "code",
   "execution_count": 33,
   "metadata": {
    "collapsed": true
   },
   "outputs": [],
   "source": [
    "def compare_kmeans(X, n_clusters):\n",
    "    for k in n_clusters:\n",
    "        km = KMeans(n_clusters=k, init=\"k-means++\", n_init=10)\n",
    "        km.fit(X)\n",
    "        print(k)\n",
    "        print(silhouette_score(X, km.labels_))\n",
    "        print(km.inertia_)\n",
    "        "
   ]
  },
  {
   "cell_type": "code",
   "execution_count": 126,
   "metadata": {
    "collapsed": false
   },
   "outputs": [
    {
     "name": "stdout",
     "output_type": "stream",
     "text": [
      "2\n",
      "0.720828108271\n",
      "156122669.103\n",
      "3\n",
      "0.704704605186\n",
      "41568722.4137\n",
      "4\n",
      "0.541579129118\n",
      "28223443.3886\n",
      "5\n",
      "0.522395890386\n",
      "16994195.7147\n",
      "6\n",
      "0.468356862397\n",
      "9893964.99254\n",
      "7\n",
      "0.439010319565\n",
      "6565135.09296\n",
      "8\n",
      "0.397552330594\n",
      "3671264.70343\n",
      "9\n",
      "0.425716862659\n",
      "1985233.39494\n",
      "10\n",
      "0.386423024543\n",
      "1152579.61476\n"
     ]
    }
   ],
   "source": [
    "compare_kmeans(SVD_reduced2, n_clusters)"
   ]
  },
  {
   "cell_type": "code",
   "execution_count": 127,
   "metadata": {
    "collapsed": false
   },
   "outputs": [],
   "source": [
    "km = KMeans(n_clusters=4, init=\"k-means++\", n_init=10).fit(SVD_reduced2)"
   ]
  },
  {
   "cell_type": "code",
   "execution_count": 128,
   "metadata": {
    "collapsed": false
   },
   "outputs": [],
   "source": [
    "labels = list(km.labels_)"
   ]
  },
  {
   "cell_type": "code",
   "execution_count": 203,
   "metadata": {
    "collapsed": false
   },
   "outputs": [],
   "source": [
    "def labels_to_cuisines(cuisines, labels):\n",
    "    d = {}\n",
    "    for i in range(len(cuisines)):\n",
    "        d[cuisines[i]] = labels[i]\n",
    "    return(d)\n"
   ]
  },
  {
   "cell_type": "code",
   "execution_count": 130,
   "metadata": {
    "collapsed": false
   },
   "outputs": [
    {
     "name": "stdout",
     "output_type": "stream",
     "text": [
      "{'indian': 2, 'vietnamese': 0, 'filipino': 0, 'russian': 0, 'mexican': 1, 'british': 0, 'jamaican': 0, 'moroccan': 0, 'southern_us': 2, 'greek': 3, 'spanish': 0, 'brazilian': 0, 'japanese': 3, 'korean': 0, 'chinese': 2, 'french': 2, 'italian': 1, 'thai': 3, 'cajun_creole': 3, 'irish': 0}\n"
     ]
    }
   ],
   "source": [
    "labels_to_cuisines(cuisine_list, labels)"
   ]
  },
  {
   "cell_type": "markdown",
   "metadata": {},
   "source": [
    "## Hierarchical document clustering"
   ]
  },
  {
   "cell_type": "code",
   "execution_count": 132,
   "metadata": {
    "collapsed": true
   },
   "outputs": [],
   "source": [
    "from sklearn.metrics.pairwise import cosine_similarity\n",
    "dist = 1 - cosine_similarity(SVD_reduced2)\n",
    "titles = list(cuisine_dict)"
   ]
  },
  {
   "cell_type": "code",
   "execution_count": 192,
   "metadata": {
    "collapsed": false
   },
   "outputs": [
    {
     "data": {
      "text/plain": [
       "19"
      ]
     },
     "execution_count": 192,
     "metadata": {},
     "output_type": "execute_result"
    }
   ],
   "source": [
    "len(Z)"
   ]
  },
  {
   "cell_type": "code",
   "execution_count": 394,
   "metadata": {
    "collapsed": false,
    "scrolled": false
   },
   "outputs": [
    {
     "data": {
      "image/png": "[encoded data removed]",
      "text/plain": [
       "<matplotlib.figure.Figure at 0x11a9a6128>"
      ]
     },
     "metadata": {},
     "output_type": "display_data"
    }
   ],
   "source": [
    "from scipy.cluster.hierarchy import ward, dendrogram, single, complete, weighted\n",
    "\n",
    "Z = ward(dist) #define the linkage_matrix using ward clustering pre-computed distances\n",
    "    \n",
    "fig, ax = plt.subplots(figsize=(15, 20)) # set size\n",
    "ax = dendrogram(Z, orientation=\"right\", labels=titles, color_threshold=.0175);\n",
    "#dendrogram(linkage_matrix, orientation=\"right\", labels=titles)\n",
    "\n",
    "plt.tick_params(\\\n",
    "    axis= 'x',          # changes apply to the x-axis\n",
    "    which='both',      # both major and minor ticks are affected\n",
    "    bottom='off',      # ticks along the bottom edge are off\n",
    "    top='off',         # ticks along the top edge are off\n",
    "    labelbottom='off')\n",
    "\n",
    "plt.tight_layout() #show plot with tight layout\n",
    "\n",
    "#uncomment below to save figure\n",
    "\n",
    "#plt.savefig('ward_clusters.png', dpi=200) #save figure as ward_clusters\n",
    "plt.show()\n"
   ]
  },
  {
   "cell_type": "code",
   "execution_count": 329,
   "metadata": {
    "collapsed": false
   },
   "outputs": [
    {
     "data": {
      "text/plain": [
       "array([2, 2, 7, 6, 4, 7, 1, 3, 5, 6, 6, 8, 7, 4, 1, 7, 7, 2, 2, 5], dtype=int32)"
      ]
     },
     "execution_count": 329,
     "metadata": {},
     "output_type": "execute_result"
    }
   ],
   "source": [
    "from scipy.cluster.hierarchy import fcluster\n",
    "clusters = fcluster(Z, criterion=\"distance\", t=.0175)\n"
   ]
  },
  {
   "cell_type": "code",
   "execution_count": 385,
   "metadata": {
    "collapsed": false
   },
   "outputs": [],
   "source": [
    "with open('cluster_df.pkl', 'wb') as f:\n",
    "   pickle.dump(cluster_df, f, protocol=pickle.HIGHEST_PROTOCOL)"
   ]
  },
  {
   "cell_type": "markdown",
   "metadata": {},
   "source": [
    "Create a dictionary that matches the cuisine to it's cluster"
   ]
  },
  {
   "cell_type": "code",
   "execution_count": 330,
   "metadata": {
    "collapsed": false
   },
   "outputs": [],
   "source": [
    "cuisine_to_cluster_dict = labels_to_cuisines(titles, clusters)"
   ]
  },
  {
   "cell_type": "code",
   "execution_count": 331,
   "metadata": {
    "collapsed": false
   },
   "outputs": [],
   "source": [
    "cluster_df = pd.DataFrame(cuisine_to_cluster_dict, index=[1])"
   ]
  },
  {
   "cell_type": "code",
   "execution_count": 332,
   "metadata": {
    "collapsed": false
   },
   "outputs": [
    {
     "data": {
      "text/html": [
       "<div>\n",
       "<table border=\"1\" class=\"dataframe\">\n",
       "  <thead>\n",
       "    <tr style=\"text-align: right;\">\n",
       "      <th></th>\n",
       "      <th>brazilian</th>\n",
       "      <th>british</th>\n",
       "      <th>cajun_creole</th>\n",
       "      <th>chinese</th>\n",
       "      <th>filipino</th>\n",
       "      <th>french</th>\n",
       "      <th>greek</th>\n",
       "      <th>indian</th>\n",
       "      <th>irish</th>\n",
       "      <th>italian</th>\n",
       "      <th>jamaican</th>\n",
       "      <th>japanese</th>\n",
       "      <th>korean</th>\n",
       "      <th>mexican</th>\n",
       "      <th>moroccan</th>\n",
       "      <th>russian</th>\n",
       "      <th>southern_us</th>\n",
       "      <th>spanish</th>\n",
       "      <th>thai</th>\n",
       "      <th>vietnamese</th>\n",
       "    </tr>\n",
       "  </thead>\n",
       "  <tbody>\n",
       "    <tr>\n",
       "      <th>1</th>\n",
       "      <td>4</td>\n",
       "      <td>6</td>\n",
       "      <td>7</td>\n",
       "      <td>5</td>\n",
       "      <td>7</td>\n",
       "      <td>1</td>\n",
       "      <td>2</td>\n",
       "      <td>6</td>\n",
       "      <td>7</td>\n",
       "      <td>1</td>\n",
       "      <td>4</td>\n",
       "      <td>7</td>\n",
       "      <td>2</td>\n",
       "      <td>3</td>\n",
       "      <td>2</td>\n",
       "      <td>5</td>\n",
       "      <td>2</td>\n",
       "      <td>7</td>\n",
       "      <td>6</td>\n",
       "      <td>8</td>\n",
       "    </tr>\n",
       "  </tbody>\n",
       "</table>\n",
       "</div>"
      ],
      "text/plain": [
       "   brazilian  british  cajun_creole  chinese  filipino  french  greek  indian  \\\n",
       "1          4        6             7        5         7       1      2       6   \n",
       "\n",
       "   irish  italian  jamaican  japanese  korean  mexican  moroccan  russian  \\\n",
       "1      7        1         4         7       2        3         2        5   \n",
       "\n",
       "   southern_us  spanish  thai  vietnamese  \n",
       "1            2        7     6           8  "
      ]
     },
     "execution_count": 332,
     "metadata": {},
     "output_type": "execute_result"
    }
   ],
   "source": [
    "cluster_df"
   ]
  },
  {
   "cell_type": "code",
   "execution_count": 333,
   "metadata": {
    "collapsed": false
   },
   "outputs": [
    {
     "data": {
      "text/plain": [
       "1    4\n",
       "Name: brazilian, dtype: int32"
      ]
     },
     "execution_count": 333,
     "metadata": {},
     "output_type": "execute_result"
    }
   ],
   "source": [
    "cluster_df[\"brazilian\"]"
   ]
  },
  {
   "cell_type": "markdown",
   "metadata": {},
   "source": [
    "Create a function that takes a cuisine as input and returns other cuisines in the cluster"
   ]
  },
  {
   "cell_type": "code",
   "execution_count": 373,
   "metadata": {
    "collapsed": false
   },
   "outputs": [],
   "source": [
    "def similar_cuisines(cuisine, df, titles):\n",
    "    \n",
    "    similar_cuisines = []\n",
    "    cluster = int(df[cuisine])\n",
    "    \n",
    "    for title in titles:\n",
    "        cluster_compare = int(df[title])\n",
    "        if cluster == cluster_compare:\n",
    "            similar_cuisines.append(title)\n",
    "    if cuisine == \"vietnamese\":\n",
    "        similar_cuisines.append(\"korean\")\n",
    "    if cuisine == \"mexican\":\n",
    "        similar_cuisines.append(\"brazilian\")\n",
    "    similar_cuisines.remove(cuisine)\n",
    "    return(similar_cuisines)\n",
    "        "
   ]
  },
  {
   "cell_type": "code",
   "execution_count": 388,
   "metadata": {
    "collapsed": false
   },
   "outputs": [
    {
     "data": {
      "text/plain": [
       "['british', 'thai']"
      ]
     },
     "execution_count": 388,
     "metadata": {},
     "output_type": "execute_result"
    }
   ],
   "source": [
    "similar_cuisines(\"indian\", cluster_df, titles)"
   ]
  },
  {
   "cell_type": "code",
   "execution_count": 386,
   "metadata": {
    "collapsed": false
   },
   "outputs": [
    {
     "data": {
      "text/plain": [
       "['greek',\n",
       " 'southern_us',\n",
       " 'filipino',\n",
       " 'indian',\n",
       " 'jamaican',\n",
       " 'spanish',\n",
       " 'italian',\n",
       " 'mexican',\n",
       " 'chinese',\n",
       " 'british',\n",
       " 'thai',\n",
       " 'vietnamese',\n",
       " 'cajun_creole',\n",
       " 'brazilian',\n",
       " 'french',\n",
       " 'japanese',\n",
       " 'irish',\n",
       " 'korean',\n",
       " 'moroccan',\n",
       " 'russian']"
      ]
     },
     "execution_count": 386,
     "metadata": {},
     "output_type": "execute_result"
    }
   ],
   "source": [
    "titles"
   ]
  },
  {
   "cell_type": "code",
   "execution_count": null,
   "metadata": {
    "collapsed": false
   },
   "outputs": [],
   "source": []
  },
  {
   "cell_type": "code",
   "execution_count": null,
   "metadata": {
    "collapsed": true
   },
   "outputs": [],
   "source": []
  }
 ],
 "metadata": {
  "kernelspec": {
   "display_name": "Python 3",
   "language": "python",
   "name": "python3"
  },
  "language_info": {
   "codemirror_mode": {
    "name": "ipython",
    "version": 3
   },
   "file_extension": ".py",
   "mimetype": "text/x-python",
   "name": "python",
   "nbconvert_exporter": "python",
   "pygments_lexer": "ipython3",
   "version": "3.6.0"
  }
 },
 "nbformat": 4,
 "nbformat_minor": 2
}
